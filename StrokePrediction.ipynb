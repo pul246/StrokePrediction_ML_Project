{
  "nbformat": 4,
  "nbformat_minor": 0,
  "metadata": {
    "colab": {
      "name": "StrokePrediction.ipynb",
      "provenance": []
    },
    "kernelspec": {
      "name": "python3",
      "display_name": "Python 3"
    },
    "language_info": {
      "name": "python"
    }
  },
  "cells": [
    {
      "cell_type": "code",
      "source": [
        "from google.colab import drive\n",
        "drive.mount('/content/drive')"
      ],
      "metadata": {
        "id": "xxlz3ufhWcMY",
        "colab": {
          "base_uri": "https://localhost:8080/"
        },
        "outputId": "93c36978-8a39-4698-921f-08af757f612d"
      },
      "execution_count": null,
      "outputs": [
        {
          "output_type": "stream",
          "name": "stdout",
          "text": [
            "Mounted at /content/drive\n"
          ]
        }
      ]
    },
    {
      "cell_type": "code",
      "execution_count": null,
      "metadata": {
        "id": "DpV_DwxjUacB"
      },
      "outputs": [],
      "source": [
        "import numpy as np\n",
        "import pandas as pd\n",
        "from matplotlib import pyplot as plt\n",
        "from sklearn.model_selection import train_test_split  as tts\n",
        "import seaborn as sns"
      ]
    },
    {
      "cell_type": "markdown",
      "source": [
        "Importing the Dataset"
      ],
      "metadata": {
        "id": "aP_VI9sIjrDf"
      }
    },
    {
      "cell_type": "code",
      "source": [
        "# data = pd.read_csv('/content/drive/MyDrive/healthcare.csv')"
      ],
      "metadata": {
        "id": "zWtH_Pj9VQNU"
      },
      "execution_count": null,
      "outputs": []
    },
    {
      "cell_type": "code",
      "source": [
        "data = pd.read_csv(\"/content/healthcare-dataset-stroke-data.csv\")"
      ],
      "metadata": {
        "id": "mLRC0F5_3TGx"
      },
      "execution_count": null,
      "outputs": []
    },
    {
      "cell_type": "code",
      "source": [
        "data"
      ],
      "metadata": {
        "colab": {
          "base_uri": "https://localhost:8080/",
          "height": 424
        },
        "id": "w2mGdmnZVWWf",
        "outputId": "5303a51d-e789-4539-c706-ff5849fc5246"
      },
      "execution_count": null,
      "outputs": [
        {
          "output_type": "execute_result",
          "data": {
            "text/plain": [
              "         id  gender   age  hypertension  heart_disease ever_married  \\\n",
              "0      9046    Male  67.0             0              1          Yes   \n",
              "1     51676  Female  61.0             0              0          Yes   \n",
              "2     31112    Male  80.0             0              1          Yes   \n",
              "3     60182  Female  49.0             0              0          Yes   \n",
              "4      1665  Female  79.0             1              0          Yes   \n",
              "...     ...     ...   ...           ...            ...          ...   \n",
              "5105  18234  Female  80.0             1              0          Yes   \n",
              "5106  44873  Female  81.0             0              0          Yes   \n",
              "5107  19723  Female  35.0             0              0          Yes   \n",
              "5108  37544    Male  51.0             0              0          Yes   \n",
              "5109  44679  Female  44.0             0              0          Yes   \n",
              "\n",
              "          work_type Residence_type  avg_glucose_level   bmi   smoking_status  \\\n",
              "0           Private          Urban             228.69  36.6  formerly smoked   \n",
              "1     Self-employed          Rural             202.21   NaN     never smoked   \n",
              "2           Private          Rural             105.92  32.5     never smoked   \n",
              "3           Private          Urban             171.23  34.4           smokes   \n",
              "4     Self-employed          Rural             174.12  24.0     never smoked   \n",
              "...             ...            ...                ...   ...              ...   \n",
              "5105        Private          Urban              83.75   NaN     never smoked   \n",
              "5106  Self-employed          Urban             125.20  40.0     never smoked   \n",
              "5107  Self-employed          Rural              82.99  30.6     never smoked   \n",
              "5108        Private          Rural             166.29  25.6  formerly smoked   \n",
              "5109       Govt_job          Urban              85.28  26.2          Unknown   \n",
              "\n",
              "      stroke  \n",
              "0          1  \n",
              "1          1  \n",
              "2          1  \n",
              "3          1  \n",
              "4          1  \n",
              "...      ...  \n",
              "5105       0  \n",
              "5106       0  \n",
              "5107       0  \n",
              "5108       0  \n",
              "5109       0  \n",
              "\n",
              "[5110 rows x 12 columns]"
            ],
            "text/html": [
              "\n",
              "  <div id=\"df-da63af66-2356-4e41-a785-042361cbea9e\">\n",
              "    <div class=\"colab-df-container\">\n",
              "      <div>\n",
              "<style scoped>\n",
              "    .dataframe tbody tr th:only-of-type {\n",
              "        vertical-align: middle;\n",
              "    }\n",
              "\n",
              "    .dataframe tbody tr th {\n",
              "        vertical-align: top;\n",
              "    }\n",
              "\n",
              "    .dataframe thead th {\n",
              "        text-align: right;\n",
              "    }\n",
              "</style>\n",
              "<table border=\"1\" class=\"dataframe\">\n",
              "  <thead>\n",
              "    <tr style=\"text-align: right;\">\n",
              "      <th></th>\n",
              "      <th>id</th>\n",
              "      <th>gender</th>\n",
              "      <th>age</th>\n",
              "      <th>hypertension</th>\n",
              "      <th>heart_disease</th>\n",
              "      <th>ever_married</th>\n",
              "      <th>work_type</th>\n",
              "      <th>Residence_type</th>\n",
              "      <th>avg_glucose_level</th>\n",
              "      <th>bmi</th>\n",
              "      <th>smoking_status</th>\n",
              "      <th>stroke</th>\n",
              "    </tr>\n",
              "  </thead>\n",
              "  <tbody>\n",
              "    <tr>\n",
              "      <th>0</th>\n",
              "      <td>9046</td>\n",
              "      <td>Male</td>\n",
              "      <td>67.0</td>\n",
              "      <td>0</td>\n",
              "      <td>1</td>\n",
              "      <td>Yes</td>\n",
              "      <td>Private</td>\n",
              "      <td>Urban</td>\n",
              "      <td>228.69</td>\n",
              "      <td>36.6</td>\n",
              "      <td>formerly smoked</td>\n",
              "      <td>1</td>\n",
              "    </tr>\n",
              "    <tr>\n",
              "      <th>1</th>\n",
              "      <td>51676</td>\n",
              "      <td>Female</td>\n",
              "      <td>61.0</td>\n",
              "      <td>0</td>\n",
              "      <td>0</td>\n",
              "      <td>Yes</td>\n",
              "      <td>Self-employed</td>\n",
              "      <td>Rural</td>\n",
              "      <td>202.21</td>\n",
              "      <td>NaN</td>\n",
              "      <td>never smoked</td>\n",
              "      <td>1</td>\n",
              "    </tr>\n",
              "    <tr>\n",
              "      <th>2</th>\n",
              "      <td>31112</td>\n",
              "      <td>Male</td>\n",
              "      <td>80.0</td>\n",
              "      <td>0</td>\n",
              "      <td>1</td>\n",
              "      <td>Yes</td>\n",
              "      <td>Private</td>\n",
              "      <td>Rural</td>\n",
              "      <td>105.92</td>\n",
              "      <td>32.5</td>\n",
              "      <td>never smoked</td>\n",
              "      <td>1</td>\n",
              "    </tr>\n",
              "    <tr>\n",
              "      <th>3</th>\n",
              "      <td>60182</td>\n",
              "      <td>Female</td>\n",
              "      <td>49.0</td>\n",
              "      <td>0</td>\n",
              "      <td>0</td>\n",
              "      <td>Yes</td>\n",
              "      <td>Private</td>\n",
              "      <td>Urban</td>\n",
              "      <td>171.23</td>\n",
              "      <td>34.4</td>\n",
              "      <td>smokes</td>\n",
              "      <td>1</td>\n",
              "    </tr>\n",
              "    <tr>\n",
              "      <th>4</th>\n",
              "      <td>1665</td>\n",
              "      <td>Female</td>\n",
              "      <td>79.0</td>\n",
              "      <td>1</td>\n",
              "      <td>0</td>\n",
              "      <td>Yes</td>\n",
              "      <td>Self-employed</td>\n",
              "      <td>Rural</td>\n",
              "      <td>174.12</td>\n",
              "      <td>24.0</td>\n",
              "      <td>never smoked</td>\n",
              "      <td>1</td>\n",
              "    </tr>\n",
              "    <tr>\n",
              "      <th>...</th>\n",
              "      <td>...</td>\n",
              "      <td>...</td>\n",
              "      <td>...</td>\n",
              "      <td>...</td>\n",
              "      <td>...</td>\n",
              "      <td>...</td>\n",
              "      <td>...</td>\n",
              "      <td>...</td>\n",
              "      <td>...</td>\n",
              "      <td>...</td>\n",
              "      <td>...</td>\n",
              "      <td>...</td>\n",
              "    </tr>\n",
              "    <tr>\n",
              "      <th>5105</th>\n",
              "      <td>18234</td>\n",
              "      <td>Female</td>\n",
              "      <td>80.0</td>\n",
              "      <td>1</td>\n",
              "      <td>0</td>\n",
              "      <td>Yes</td>\n",
              "      <td>Private</td>\n",
              "      <td>Urban</td>\n",
              "      <td>83.75</td>\n",
              "      <td>NaN</td>\n",
              "      <td>never smoked</td>\n",
              "      <td>0</td>\n",
              "    </tr>\n",
              "    <tr>\n",
              "      <th>5106</th>\n",
              "      <td>44873</td>\n",
              "      <td>Female</td>\n",
              "      <td>81.0</td>\n",
              "      <td>0</td>\n",
              "      <td>0</td>\n",
              "      <td>Yes</td>\n",
              "      <td>Self-employed</td>\n",
              "      <td>Urban</td>\n",
              "      <td>125.20</td>\n",
              "      <td>40.0</td>\n",
              "      <td>never smoked</td>\n",
              "      <td>0</td>\n",
              "    </tr>\n",
              "    <tr>\n",
              "      <th>5107</th>\n",
              "      <td>19723</td>\n",
              "      <td>Female</td>\n",
              "      <td>35.0</td>\n",
              "      <td>0</td>\n",
              "      <td>0</td>\n",
              "      <td>Yes</td>\n",
              "      <td>Self-employed</td>\n",
              "      <td>Rural</td>\n",
              "      <td>82.99</td>\n",
              "      <td>30.6</td>\n",
              "      <td>never smoked</td>\n",
              "      <td>0</td>\n",
              "    </tr>\n",
              "    <tr>\n",
              "      <th>5108</th>\n",
              "      <td>37544</td>\n",
              "      <td>Male</td>\n",
              "      <td>51.0</td>\n",
              "      <td>0</td>\n",
              "      <td>0</td>\n",
              "      <td>Yes</td>\n",
              "      <td>Private</td>\n",
              "      <td>Rural</td>\n",
              "      <td>166.29</td>\n",
              "      <td>25.6</td>\n",
              "      <td>formerly smoked</td>\n",
              "      <td>0</td>\n",
              "    </tr>\n",
              "    <tr>\n",
              "      <th>5109</th>\n",
              "      <td>44679</td>\n",
              "      <td>Female</td>\n",
              "      <td>44.0</td>\n",
              "      <td>0</td>\n",
              "      <td>0</td>\n",
              "      <td>Yes</td>\n",
              "      <td>Govt_job</td>\n",
              "      <td>Urban</td>\n",
              "      <td>85.28</td>\n",
              "      <td>26.2</td>\n",
              "      <td>Unknown</td>\n",
              "      <td>0</td>\n",
              "    </tr>\n",
              "  </tbody>\n",
              "</table>\n",
              "<p>5110 rows × 12 columns</p>\n",
              "</div>\n",
              "      <button class=\"colab-df-convert\" onclick=\"convertToInteractive('df-da63af66-2356-4e41-a785-042361cbea9e')\"\n",
              "              title=\"Convert this dataframe to an interactive table.\"\n",
              "              style=\"display:none;\">\n",
              "        \n",
              "  <svg xmlns=\"http://www.w3.org/2000/svg\" height=\"24px\"viewBox=\"0 0 24 24\"\n",
              "       width=\"24px\">\n",
              "    <path d=\"M0 0h24v24H0V0z\" fill=\"none\"/>\n",
              "    <path d=\"M18.56 5.44l.94 2.06.94-2.06 2.06-.94-2.06-.94-.94-2.06-.94 2.06-2.06.94zm-11 1L8.5 8.5l.94-2.06 2.06-.94-2.06-.94L8.5 2.5l-.94 2.06-2.06.94zm10 10l.94 2.06.94-2.06 2.06-.94-2.06-.94-.94-2.06-.94 2.06-2.06.94z\"/><path d=\"M17.41 7.96l-1.37-1.37c-.4-.4-.92-.59-1.43-.59-.52 0-1.04.2-1.43.59L10.3 9.45l-7.72 7.72c-.78.78-.78 2.05 0 2.83L4 21.41c.39.39.9.59 1.41.59.51 0 1.02-.2 1.41-.59l7.78-7.78 2.81-2.81c.8-.78.8-2.07 0-2.86zM5.41 20L4 18.59l7.72-7.72 1.47 1.35L5.41 20z\"/>\n",
              "  </svg>\n",
              "      </button>\n",
              "      \n",
              "  <style>\n",
              "    .colab-df-container {\n",
              "      display:flex;\n",
              "      flex-wrap:wrap;\n",
              "      gap: 12px;\n",
              "    }\n",
              "\n",
              "    .colab-df-convert {\n",
              "      background-color: #E8F0FE;\n",
              "      border: none;\n",
              "      border-radius: 50%;\n",
              "      cursor: pointer;\n",
              "      display: none;\n",
              "      fill: #1967D2;\n",
              "      height: 32px;\n",
              "      padding: 0 0 0 0;\n",
              "      width: 32px;\n",
              "    }\n",
              "\n",
              "    .colab-df-convert:hover {\n",
              "      background-color: #E2EBFA;\n",
              "      box-shadow: 0px 1px 2px rgba(60, 64, 67, 0.3), 0px 1px 3px 1px rgba(60, 64, 67, 0.15);\n",
              "      fill: #174EA6;\n",
              "    }\n",
              "\n",
              "    [theme=dark] .colab-df-convert {\n",
              "      background-color: #3B4455;\n",
              "      fill: #D2E3FC;\n",
              "    }\n",
              "\n",
              "    [theme=dark] .colab-df-convert:hover {\n",
              "      background-color: #434B5C;\n",
              "      box-shadow: 0px 1px 3px 1px rgba(0, 0, 0, 0.15);\n",
              "      filter: drop-shadow(0px 1px 2px rgba(0, 0, 0, 0.3));\n",
              "      fill: #FFFFFF;\n",
              "    }\n",
              "  </style>\n",
              "\n",
              "      <script>\n",
              "        const buttonEl =\n",
              "          document.querySelector('#df-da63af66-2356-4e41-a785-042361cbea9e button.colab-df-convert');\n",
              "        buttonEl.style.display =\n",
              "          google.colab.kernel.accessAllowed ? 'block' : 'none';\n",
              "\n",
              "        async function convertToInteractive(key) {\n",
              "          const element = document.querySelector('#df-da63af66-2356-4e41-a785-042361cbea9e');\n",
              "          const dataTable =\n",
              "            await google.colab.kernel.invokeFunction('convertToInteractive',\n",
              "                                                     [key], {});\n",
              "          if (!dataTable) return;\n",
              "\n",
              "          const docLinkHtml = 'Like what you see? Visit the ' +\n",
              "            '<a target=\"_blank\" href=https://colab.research.google.com/notebooks/data_table.ipynb>data table notebook</a>'\n",
              "            + ' to learn more about interactive tables.';\n",
              "          element.innerHTML = '';\n",
              "          dataTable['output_type'] = 'display_data';\n",
              "          await google.colab.output.renderOutput(dataTable, element);\n",
              "          const docLink = document.createElement('div');\n",
              "          docLink.innerHTML = docLinkHtml;\n",
              "          element.appendChild(docLink);\n",
              "        }\n",
              "      </script>\n",
              "    </div>\n",
              "  </div>\n",
              "  "
            ]
          },
          "metadata": {},
          "execution_count": 61
        }
      ]
    },
    {
      "cell_type": "code",
      "source": [
        "data.info()"
      ],
      "metadata": {
        "colab": {
          "base_uri": "https://localhost:8080/"
        },
        "id": "oIQcSqJ4VdLn",
        "outputId": "b837d645-5b48-4f13-8f75-d4e5fe245064"
      },
      "execution_count": null,
      "outputs": [
        {
          "output_type": "stream",
          "name": "stdout",
          "text": [
            "<class 'pandas.core.frame.DataFrame'>\n",
            "RangeIndex: 5110 entries, 0 to 5109\n",
            "Data columns (total 12 columns):\n",
            " #   Column             Non-Null Count  Dtype  \n",
            "---  ------             --------------  -----  \n",
            " 0   id                 5110 non-null   int64  \n",
            " 1   gender             5110 non-null   object \n",
            " 2   age                5110 non-null   float64\n",
            " 3   hypertension       5110 non-null   int64  \n",
            " 4   heart_disease      5110 non-null   int64  \n",
            " 5   ever_married       5110 non-null   object \n",
            " 6   work_type          5110 non-null   object \n",
            " 7   Residence_type     5110 non-null   object \n",
            " 8   avg_glucose_level  5110 non-null   float64\n",
            " 9   bmi                4909 non-null   float64\n",
            " 10  smoking_status     5110 non-null   object \n",
            " 11  stroke             5110 non-null   int64  \n",
            "dtypes: float64(3), int64(4), object(5)\n",
            "memory usage: 479.2+ KB\n"
          ]
        }
      ]
    },
    {
      "cell_type": "code",
      "source": [
        "data.stroke.value_counts()"
      ],
      "metadata": {
        "colab": {
          "base_uri": "https://localhost:8080/"
        },
        "id": "wn0B9wHAslGN",
        "outputId": "06287d92-2f0b-4f75-9da7-d6ce21deca86"
      },
      "execution_count": null,
      "outputs": [
        {
          "output_type": "execute_result",
          "data": {
            "text/plain": [
              "0    4861\n",
              "1     249\n",
              "Name: stroke, dtype: int64"
            ]
          },
          "metadata": {},
          "execution_count": 63
        }
      ]
    },
    {
      "cell_type": "code",
      "source": [
        "data.isna().sum()"
      ],
      "metadata": {
        "id": "F5i4tXiYW8ra",
        "outputId": "4ee0509a-8430-402e-b725-6677c37bdeb5",
        "colab": {
          "base_uri": "https://localhost:8080/"
        }
      },
      "execution_count": null,
      "outputs": [
        {
          "output_type": "execute_result",
          "data": {
            "text/plain": [
              "id                     0\n",
              "gender                 0\n",
              "age                    0\n",
              "hypertension           0\n",
              "heart_disease          0\n",
              "ever_married           0\n",
              "work_type              0\n",
              "Residence_type         0\n",
              "avg_glucose_level      0\n",
              "bmi                  201\n",
              "smoking_status         0\n",
              "stroke                 0\n",
              "dtype: int64"
            ]
          },
          "metadata": {},
          "execution_count": 64
        }
      ]
    },
    {
      "cell_type": "code",
      "source": [
        "data = data.dropna()\n",
        "data = data.drop(columns = 'id')"
      ],
      "metadata": {
        "id": "M82IV1dwV8tk"
      },
      "execution_count": null,
      "outputs": []
    },
    {
      "cell_type": "markdown",
      "source": [
        "##Data Analysis"
      ],
      "metadata": {
        "id": "8iXMMsBg8U2u"
      }
    },
    {
      "cell_type": "code",
      "source": [
        "for col in data.columns:\n",
        "    plt.title(col)\n",
        "    sns.histplot(x = col , data = data , hue = 'stroke' )\n",
        "    plt.show()"
      ],
      "metadata": {
        "colab": {
          "base_uri": "https://localhost:8080/",
          "height": 1000
        },
        "id": "q92mWVBa2sbS",
        "outputId": "80e9526c-4727-4f63-a42d-9be61282da7d"
      },
      "execution_count": null,
      "outputs": [
        {
          "output_type": "display_data",
          "data": {
            "text/plain": [
              "<Figure size 432x288 with 1 Axes>"
            ],
            "image/png": "[encoded data removed]"
          },
          "metadata": {
            "needs_background": "light"
          }
        },
        {
          "output_type": "display_data",
          "data": {
            "text/plain": [
              "<Figure size 432x288 with 1 Axes>"
            ],
            "image/png": "[encoded data removed]"
          },
          "metadata": {
            "needs_background": "light"
          }
        },
        {
          "output_type": "display_data",
          "data": {
            "text/plain": [
              "<Figure size 432x288 with 1 Axes>"
            ],
            "image/png": "[encoded data removed]"
          },
          "metadata": {
            "needs_background": "light"
          }
        },
        {
          "output_type": "display_data",
          "data": {
            "text/plain": [
              "<Figure size 432x288 with 1 Axes>"
            ],
            "image/png": "[encoded data removed]"
          },
          "metadata": {
            "needs_background": "light"
          }
        },
        {
          "output_type": "display_data",
          "data": {
            "text/plain": [
              "<Figure size 432x288 with 1 Axes>"
            ],
            "image/png": "[encoded data removed]"
          },
          "metadata": {
            "needs_background": "light"
          }
        },
        {
          "output_type": "display_data",
          "data": {
            "text/plain": [
              "<Figure size 432x288 with 1 Axes>"
            ],
            "image/png": "[encoded data removed]"
          },
          "metadata": {
            "needs_background": "light"
          }
        },
        {
          "output_type": "display_data",
          "data": {
            "text/plain": [
              "<Figure size 432x288 with 1 Axes>"
            ],
            "image/png": "[encoded data removed]"
          },
          "metadata": {
            "needs_background": "light"
          }
        },
        {
          "output_type": "display_data",
          "data": {
            "text/plain": [
              "<Figure size 432x288 with 1 Axes>"
            ],
            "image/png": "[encoded data removed]"
          },
          "metadata": {
            "needs_background": "light"
          }
        },
        {
          "output_type": "display_data",
          "data": {
            "text/plain": [
              "<Figure size 432x288 with 1 Axes>"
            ],
            "image/png": "[encoded data removed]"
          },
          "metadata": {
            "needs_background": "light"
          }
        },
        {
          "output_type": "display_data",
          "data": {
            "text/plain": [
              "<Figure size 432x288 with 1 Axes>"
            ],
            "image/png": "[encoded data removed]"
          },
          "metadata": {
            "needs_background": "light"
          }
        },
        {
          "output_type": "display_data",
          "data": {
            "text/plain": [
              "<Figure size 432x288 with 1 Axes>"
            ],
            "image/png": "[encoded data removed]"
          },
          "metadata": {
            "needs_background": "light"
          }
        }
      ]
    },
    {
      "cell_type": "code",
      "source": [
        "sns.barplot(x = 'gender',y = 'age',hue = 'stroke',data = data)"
      ],
      "metadata": {
        "colab": {
          "base_uri": "https://localhost:8080/",
          "height": 296
        },
        "id": "HZlmvnC8fXfp",
        "outputId": "a22ba7d2-60f1-46c7-8ef2-9d84afbb1b3a"
      },
      "execution_count": null,
      "outputs": [
        {
          "output_type": "execute_result",
          "data": {
            "text/plain": [
              "<matplotlib.axes._subplots.AxesSubplot at 0x7f04355c0650>"
            ]
          },
          "metadata": {},
          "execution_count": 67
        },
        {
          "output_type": "display_data",
          "data": {
            "text/plain": [
              "<Figure size 432x288 with 1 Axes>"
            ],
            "image/png": "[encoded data removed]"
          },
          "metadata": {
            "needs_background": "light"
          }
        }
      ]
    },
    {
      "cell_type": "markdown",
      "source": [
        "##Encoding of Categorical Features"
      ],
      "metadata": {
        "id": "65WMGuI_jLpt"
      }
    },
    {
      "cell_type": "markdown",
      "source": [
        "We performed encoding of Categorical columns using label encoder"
      ],
      "metadata": {
        "id": "kpW5pDNnjyCX"
      }
    },
    {
      "cell_type": "code",
      "source": [
        "from sklearn.preprocessing import LabelEncoder\n",
        "\n",
        "col = ['gender','ever_married','work_type','Residence_type','smoking_status']\n",
        "for i in col:\n",
        "  le = LabelEncoder()\n",
        "  le.fit(data[i])\n",
        "  data[i] = le.fit_transform(data[i])"
      ],
      "metadata": {
        "id": "Syfzp5GqaLXy"
      },
      "execution_count": null,
      "outputs": []
    },
    {
      "cell_type": "code",
      "source": [
        "y = data.iloc[:,-1]"
      ],
      "metadata": {
        "id": "m8GlBPZbbjSo"
      },
      "execution_count": null,
      "outputs": []
    },
    {
      "cell_type": "code",
      "source": [
        "data"
      ],
      "metadata": {
        "colab": {
          "base_uri": "https://localhost:8080/",
          "height": 424
        },
        "id": "XRpW_0egayWN",
        "outputId": "3fddab5d-ff6b-4d0e-bf84-e403da1beea6"
      },
      "execution_count": null,
      "outputs": [
        {
          "output_type": "execute_result",
          "data": {
            "text/plain": [
              "      gender   age  hypertension  heart_disease  ever_married  work_type  \\\n",
              "0          1  67.0             0              1             1          2   \n",
              "2          1  80.0             0              1             1          2   \n",
              "3          0  49.0             0              0             1          2   \n",
              "4          0  79.0             1              0             1          3   \n",
              "5          1  81.0             0              0             1          2   \n",
              "...      ...   ...           ...            ...           ...        ...   \n",
              "5104       0  13.0             0              0             0          4   \n",
              "5106       0  81.0             0              0             1          3   \n",
              "5107       0  35.0             0              0             1          3   \n",
              "5108       1  51.0             0              0             1          2   \n",
              "5109       0  44.0             0              0             1          0   \n",
              "\n",
              "      Residence_type  avg_glucose_level   bmi  smoking_status  stroke  \n",
              "0                  1             228.69  36.6               1       1  \n",
              "2                  0             105.92  32.5               2       1  \n",
              "3                  1             171.23  34.4               3       1  \n",
              "4                  0             174.12  24.0               2       1  \n",
              "5                  1             186.21  29.0               1       1  \n",
              "...              ...                ...   ...             ...     ...  \n",
              "5104               0             103.08  18.6               0       0  \n",
              "5106               1             125.20  40.0               2       0  \n",
              "5107               0              82.99  30.6               2       0  \n",
              "5108               0             166.29  25.6               1       0  \n",
              "5109               1              85.28  26.2               0       0  \n",
              "\n",
              "[4909 rows x 11 columns]"
            ],
            "text/html": [
              "\n",
              "  <div id=\"df-0910b13f-5096-4b72-b379-d99f1463de18\">\n",
              "    <div class=\"colab-df-container\">\n",
              "      <div>\n",
              "<style scoped>\n",
              "    .dataframe tbody tr th:only-of-type {\n",
              "        vertical-align: middle;\n",
              "    }\n",
              "\n",
              "    .dataframe tbody tr th {\n",
              "        vertical-align: top;\n",
              "    }\n",
              "\n",
              "    .dataframe thead th {\n",
              "        text-align: right;\n",
              "    }\n",
              "</style>\n",
              "<table border=\"1\" class=\"dataframe\">\n",
              "  <thead>\n",
              "    <tr style=\"text-align: right;\">\n",
              "      <th></th>\n",
              "      <th>gender</th>\n",
              "      <th>age</th>\n",
              "      <th>hypertension</th>\n",
              "      <th>heart_disease</th>\n",
              "      <th>ever_married</th>\n",
              "      <th>work_type</th>\n",
              "      <th>Residence_type</th>\n",
              "      <th>avg_glucose_level</th>\n",
              "      <th>bmi</th>\n",
              "      <th>smoking_status</th>\n",
              "      <th>stroke</th>\n",
              "    </tr>\n",
              "  </thead>\n",
              "  <tbody>\n",
              "    <tr>\n",
              "      <th>0</th>\n",
              "      <td>1</td>\n",
              "      <td>67.0</td>\n",
              "      <td>0</td>\n",
              "      <td>1</td>\n",
              "      <td>1</td>\n",
              "      <td>2</td>\n",
              "      <td>1</td>\n",
              "      <td>228.69</td>\n",
              "      <td>36.6</td>\n",
              "      <td>1</td>\n",
              "      <td>1</td>\n",
              "    </tr>\n",
              "    <tr>\n",
              "      <th>2</th>\n",
              "      <td>1</td>\n",
              "      <td>80.0</td>\n",
              "      <td>0</td>\n",
              "      <td>1</td>\n",
              "      <td>1</td>\n",
              "      <td>2</td>\n",
              "      <td>0</td>\n",
              "      <td>105.92</td>\n",
              "      <td>32.5</td>\n",
              "      <td>2</td>\n",
              "      <td>1</td>\n",
              "    </tr>\n",
              "    <tr>\n",
              "      <th>3</th>\n",
              "      <td>0</td>\n",
              "      <td>49.0</td>\n",
              "      <td>0</td>\n",
              "      <td>0</td>\n",
              "      <td>1</td>\n",
              "      <td>2</td>\n",
              "      <td>1</td>\n",
              "      <td>171.23</td>\n",
              "      <td>34.4</td>\n",
              "      <td>3</td>\n",
              "      <td>1</td>\n",
              "    </tr>\n",
              "    <tr>\n",
              "      <th>4</th>\n",
              "      <td>0</td>\n",
              "      <td>79.0</td>\n",
              "      <td>1</td>\n",
              "      <td>0</td>\n",
              "      <td>1</td>\n",
              "      <td>3</td>\n",
              "      <td>0</td>\n",
              "      <td>174.12</td>\n",
              "      <td>24.0</td>\n",
              "      <td>2</td>\n",
              "      <td>1</td>\n",
              "    </tr>\n",
              "    <tr>\n",
              "      <th>5</th>\n",
              "      <td>1</td>\n",
              "      <td>81.0</td>\n",
              "      <td>0</td>\n",
              "      <td>0</td>\n",
              "      <td>1</td>\n",
              "      <td>2</td>\n",
              "      <td>1</td>\n",
              "      <td>186.21</td>\n",
              "      <td>29.0</td>\n",
              "      <td>1</td>\n",
              "      <td>1</td>\n",
              "    </tr>\n",
              "    <tr>\n",
              "      <th>...</th>\n",
              "      <td>...</td>\n",
              "      <td>...</td>\n",
              "      <td>...</td>\n",
              "      <td>...</td>\n",
              "      <td>...</td>\n",
              "      <td>...</td>\n",
              "      <td>...</td>\n",
              "      <td>...</td>\n",
              "      <td>...</td>\n",
              "      <td>...</td>\n",
              "      <td>...</td>\n",
              "    </tr>\n",
              "    <tr>\n",
              "      <th>5104</th>\n",
              "      <td>0</td>\n",
              "      <td>13.0</td>\n",
              "      <td>0</td>\n",
              "      <td>0</td>\n",
              "      <td>0</td>\n",
              "      <td>4</td>\n",
              "      <td>0</td>\n",
              "      <td>103.08</td>\n",
              "      <td>18.6</td>\n",
              "      <td>0</td>\n",
              "      <td>0</td>\n",
              "    </tr>\n",
              "    <tr>\n",
              "      <th>5106</th>\n",
              "      <td>0</td>\n",
              "      <td>81.0</td>\n",
              "      <td>0</td>\n",
              "      <td>0</td>\n",
              "      <td>1</td>\n",
              "      <td>3</td>\n",
              "      <td>1</td>\n",
              "      <td>125.20</td>\n",
              "      <td>40.0</td>\n",
              "      <td>2</td>\n",
              "      <td>0</td>\n",
              "    </tr>\n",
              "    <tr>\n",
              "      <th>5107</th>\n",
              "      <td>0</td>\n",
              "      <td>35.0</td>\n",
              "      <td>0</td>\n",
              "      <td>0</td>\n",
              "      <td>1</td>\n",
              "      <td>3</td>\n",
              "      <td>0</td>\n",
              "      <td>82.99</td>\n",
              "      <td>30.6</td>\n",
              "      <td>2</td>\n",
              "      <td>0</td>\n",
              "    </tr>\n",
              "    <tr>\n",
              "      <th>5108</th>\n",
              "      <td>1</td>\n",
              "      <td>51.0</td>\n",
              "      <td>0</td>\n",
              "      <td>0</td>\n",
              "      <td>1</td>\n",
              "      <td>2</td>\n",
              "      <td>0</td>\n",
              "      <td>166.29</td>\n",
              "      <td>25.6</td>\n",
              "      <td>1</td>\n",
              "      <td>0</td>\n",
              "    </tr>\n",
              "    <tr>\n",
              "      <th>5109</th>\n",
              "      <td>0</td>\n",
              "      <td>44.0</td>\n",
              "      <td>0</td>\n",
              "      <td>0</td>\n",
              "      <td>1</td>\n",
              "      <td>0</td>\n",
              "      <td>1</td>\n",
              "      <td>85.28</td>\n",
              "      <td>26.2</td>\n",
              "      <td>0</td>\n",
              "      <td>0</td>\n",
              "    </tr>\n",
              "  </tbody>\n",
              "</table>\n",
              "<p>4909 rows × 11 columns</p>\n",
              "</div>\n",
              "      <button class=\"colab-df-convert\" onclick=\"convertToInteractive('df-0910b13f-5096-4b72-b379-d99f1463de18')\"\n",
              "              title=\"Convert this dataframe to an interactive table.\"\n",
              "              style=\"display:none;\">\n",
              "        \n",
              "  <svg xmlns=\"http://www.w3.org/2000/svg\" height=\"24px\"viewBox=\"0 0 24 24\"\n",
              "       width=\"24px\">\n",
              "    <path d=\"M0 0h24v24H0V0z\" fill=\"none\"/>\n",
              "    <path d=\"M18.56 5.44l.94 2.06.94-2.06 2.06-.94-2.06-.94-.94-2.06-.94 2.06-2.06.94zm-11 1L8.5 8.5l.94-2.06 2.06-.94-2.06-.94L8.5 2.5l-.94 2.06-2.06.94zm10 10l.94 2.06.94-2.06 2.06-.94-2.06-.94-.94-2.06-.94 2.06-2.06.94z\"/><path d=\"M17.41 7.96l-1.37-1.37c-.4-.4-.92-.59-1.43-.59-.52 0-1.04.2-1.43.59L10.3 9.45l-7.72 7.72c-.78.78-.78 2.05 0 2.83L4 21.41c.39.39.9.59 1.41.59.51 0 1.02-.2 1.41-.59l7.78-7.78 2.81-2.81c.8-.78.8-2.07 0-2.86zM5.41 20L4 18.59l7.72-7.72 1.47 1.35L5.41 20z\"/>\n",
              "  </svg>\n",
              "      </button>\n",
              "      \n",
              "  <style>\n",
              "    .colab-df-container {\n",
              "      display:flex;\n",
              "      flex-wrap:wrap;\n",
              "      gap: 12px;\n",
              "    }\n",
              "\n",
              "    .colab-df-convert {\n",
              "      background-color: #E8F0FE;\n",
              "      border: none;\n",
              "      border-radius: 50%;\n",
              "      cursor: pointer;\n",
              "      display: none;\n",
              "      fill: #1967D2;\n",
              "      height: 32px;\n",
              "      padding: 0 0 0 0;\n",
              "      width: 32px;\n",
              "    }\n",
              "\n",
              "    .colab-df-convert:hover {\n",
              "      background-color: #E2EBFA;\n",
              "      box-shadow: 0px 1px 2px rgba(60, 64, 67, 0.3), 0px 1px 3px 1px rgba(60, 64, 67, 0.15);\n",
              "      fill: #174EA6;\n",
              "    }\n",
              "\n",
              "    [theme=dark] .colab-df-convert {\n",
              "      background-color: #3B4455;\n",
              "      fill: #D2E3FC;\n",
              "    }\n",
              "\n",
              "    [theme=dark] .colab-df-convert:hover {\n",
              "      background-color: #434B5C;\n",
              "      box-shadow: 0px 1px 3px 1px rgba(0, 0, 0, 0.15);\n",
              "      filter: drop-shadow(0px 1px 2px rgba(0, 0, 0, 0.3));\n",
              "      fill: #FFFFFF;\n",
              "    }\n",
              "  </style>\n",
              "\n",
              "      <script>\n",
              "        const buttonEl =\n",
              "          document.querySelector('#df-0910b13f-5096-4b72-b379-d99f1463de18 button.colab-df-convert');\n",
              "        buttonEl.style.display =\n",
              "          google.colab.kernel.accessAllowed ? 'block' : 'none';\n",
              "\n",
              "        async function convertToInteractive(key) {\n",
              "          const element = document.querySelector('#df-0910b13f-5096-4b72-b379-d99f1463de18');\n",
              "          const dataTable =\n",
              "            await google.colab.kernel.invokeFunction('convertToInteractive',\n",
              "                                                     [key], {});\n",
              "          if (!dataTable) return;\n",
              "\n",
              "          const docLinkHtml = 'Like what you see? Visit the ' +\n",
              "            '<a target=\"_blank\" href=https://colab.research.google.com/notebooks/data_table.ipynb>data table notebook</a>'\n",
              "            + ' to learn more about interactive tables.';\n",
              "          element.innerHTML = '';\n",
              "          dataTable['output_type'] = 'display_data';\n",
              "          await google.colab.output.renderOutput(dataTable, element);\n",
              "          const docLink = document.createElement('div');\n",
              "          docLink.innerHTML = docLinkHtml;\n",
              "          element.appendChild(docLink);\n",
              "        }\n",
              "      </script>\n",
              "    </div>\n",
              "  </div>\n",
              "  "
            ]
          },
          "metadata": {},
          "execution_count": 72
        }
      ]
    },
    {
      "cell_type": "markdown",
      "source": [
        "##Scaling of Continuous Features"
      ],
      "metadata": {
        "id": "bwWwnxHHjcNk"
      }
    },
    {
      "cell_type": "markdown",
      "source": [
        "Then we performed Standardization of Continuous columns using StandardScaler"
      ],
      "metadata": {
        "id": "v3ScnG7Tj4OH"
      }
    },
    {
      "cell_type": "code",
      "source": [
        "dcopy = data.copy(deep = True)\n",
        "dcopy"
      ],
      "metadata": {
        "colab": {
          "base_uri": "https://localhost:8080/",
          "height": 424
        },
        "id": "3MWYhZfWc1xl",
        "outputId": "ad6390b2-0688-44da-b565-05fb2bbccfcc"
      },
      "execution_count": null,
      "outputs": [
        {
          "output_type": "execute_result",
          "data": {
            "text/plain": [
              "      gender   age  hypertension  heart_disease  ever_married  work_type  \\\n",
              "0          1  67.0             0              1             1          2   \n",
              "2          1  80.0             0              1             1          2   \n",
              "3          0  49.0             0              0             1          2   \n",
              "4          0  79.0             1              0             1          3   \n",
              "5          1  81.0             0              0             1          2   \n",
              "...      ...   ...           ...            ...           ...        ...   \n",
              "5104       0  13.0             0              0             0          4   \n",
              "5106       0  81.0             0              0             1          3   \n",
              "5107       0  35.0             0              0             1          3   \n",
              "5108       1  51.0             0              0             1          2   \n",
              "5109       0  44.0             0              0             1          0   \n",
              "\n",
              "      Residence_type  avg_glucose_level   bmi  smoking_status  stroke  \n",
              "0                  1             228.69  36.6               1       1  \n",
              "2                  0             105.92  32.5               2       1  \n",
              "3                  1             171.23  34.4               3       1  \n",
              "4                  0             174.12  24.0               2       1  \n",
              "5                  1             186.21  29.0               1       1  \n",
              "...              ...                ...   ...             ...     ...  \n",
              "5104               0             103.08  18.6               0       0  \n",
              "5106               1             125.20  40.0               2       0  \n",
              "5107               0              82.99  30.6               2       0  \n",
              "5108               0             166.29  25.6               1       0  \n",
              "5109               1              85.28  26.2               0       0  \n",
              "\n",
              "[4909 rows x 11 columns]"
            ],
            "text/html": [
              "\n",
              "  <div id=\"df-5aa76b5b-2ddc-462c-b4d7-9eaaa8471782\">\n",
              "    <div class=\"colab-df-container\">\n",
              "      <div>\n",
              "<style scoped>\n",
              "    .dataframe tbody tr th:only-of-type {\n",
              "        vertical-align: middle;\n",
              "    }\n",
              "\n",
              "    .dataframe tbody tr th {\n",
              "        vertical-align: top;\n",
              "    }\n",
              "\n",
              "    .dataframe thead th {\n",
              "        text-align: right;\n",
              "    }\n",
              "</style>\n",
              "<table border=\"1\" class=\"dataframe\">\n",
              "  <thead>\n",
              "    <tr style=\"text-align: right;\">\n",
              "      <th></th>\n",
              "      <th>gender</th>\n",
              "      <th>age</th>\n",
              "      <th>hypertension</th>\n",
              "      <th>heart_disease</th>\n",
              "      <th>ever_married</th>\n",
              "      <th>work_type</th>\n",
              "      <th>Residence_type</th>\n",
              "      <th>avg_glucose_level</th>\n",
              "      <th>bmi</th>\n",
              "      <th>smoking_status</th>\n",
              "      <th>stroke</th>\n",
              "    </tr>\n",
              "  </thead>\n",
              "  <tbody>\n",
              "    <tr>\n",
              "      <th>0</th>\n",
              "      <td>1</td>\n",
              "      <td>67.0</td>\n",
              "      <td>0</td>\n",
              "      <td>1</td>\n",
              "      <td>1</td>\n",
              "      <td>2</td>\n",
              "      <td>1</td>\n",
              "      <td>228.69</td>\n",
              "      <td>36.6</td>\n",
              "      <td>1</td>\n",
              "      <td>1</td>\n",
              "    </tr>\n",
              "    <tr>\n",
              "      <th>2</th>\n",
              "      <td>1</td>\n",
              "      <td>80.0</td>\n",
              "      <td>0</td>\n",
              "      <td>1</td>\n",
              "      <td>1</td>\n",
              "      <td>2</td>\n",
              "      <td>0</td>\n",
              "      <td>105.92</td>\n",
              "      <td>32.5</td>\n",
              "      <td>2</td>\n",
              "      <td>1</td>\n",
              "    </tr>\n",
              "    <tr>\n",
              "      <th>3</th>\n",
              "      <td>0</td>\n",
              "      <td>49.0</td>\n",
              "      <td>0</td>\n",
              "      <td>0</td>\n",
              "      <td>1</td>\n",
              "      <td>2</td>\n",
              "      <td>1</td>\n",
              "      <td>171.23</td>\n",
              "      <td>34.4</td>\n",
              "      <td>3</td>\n",
              "      <td>1</td>\n",
              "    </tr>\n",
              "    <tr>\n",
              "      <th>4</th>\n",
              "      <td>0</td>\n",
              "      <td>79.0</td>\n",
              "      <td>1</td>\n",
              "      <td>0</td>\n",
              "      <td>1</td>\n",
              "      <td>3</td>\n",
              "      <td>0</td>\n",
              "      <td>174.12</td>\n",
              "      <td>24.0</td>\n",
              "      <td>2</td>\n",
              "      <td>1</td>\n",
              "    </tr>\n",
              "    <tr>\n",
              "      <th>5</th>\n",
              "      <td>1</td>\n",
              "      <td>81.0</td>\n",
              "      <td>0</td>\n",
              "      <td>0</td>\n",
              "      <td>1</td>\n",
              "      <td>2</td>\n",
              "      <td>1</td>\n",
              "      <td>186.21</td>\n",
              "      <td>29.0</td>\n",
              "      <td>1</td>\n",
              "      <td>1</td>\n",
              "    </tr>\n",
              "    <tr>\n",
              "      <th>...</th>\n",
              "      <td>...</td>\n",
              "      <td>...</td>\n",
              "      <td>...</td>\n",
              "      <td>...</td>\n",
              "      <td>...</td>\n",
              "      <td>...</td>\n",
              "      <td>...</td>\n",
              "      <td>...</td>\n",
              "      <td>...</td>\n",
              "      <td>...</td>\n",
              "      <td>...</td>\n",
              "    </tr>\n",
              "    <tr>\n",
              "      <th>5104</th>\n",
              "      <td>0</td>\n",
              "      <td>13.0</td>\n",
              "      <td>0</td>\n",
              "      <td>0</td>\n",
              "      <td>0</td>\n",
              "      <td>4</td>\n",
              "      <td>0</td>\n",
              "      <td>103.08</td>\n",
              "      <td>18.6</td>\n",
              "      <td>0</td>\n",
              "      <td>0</td>\n",
              "    </tr>\n",
              "    <tr>\n",
              "      <th>5106</th>\n",
              "      <td>0</td>\n",
              "      <td>81.0</td>\n",
              "      <td>0</td>\n",
              "      <td>0</td>\n",
              "      <td>1</td>\n",
              "      <td>3</td>\n",
              "      <td>1</td>\n",
              "      <td>125.20</td>\n",
              "      <td>40.0</td>\n",
              "      <td>2</td>\n",
              "      <td>0</td>\n",
              "    </tr>\n",
              "    <tr>\n",
              "      <th>5107</th>\n",
              "      <td>0</td>\n",
              "      <td>35.0</td>\n",
              "      <td>0</td>\n",
              "      <td>0</td>\n",
              "      <td>1</td>\n",
              "      <td>3</td>\n",
              "      <td>0</td>\n",
              "      <td>82.99</td>\n",
              "      <td>30.6</td>\n",
              "      <td>2</td>\n",
              "      <td>0</td>\n",
              "    </tr>\n",
              "    <tr>\n",
              "      <th>5108</th>\n",
              "      <td>1</td>\n",
              "      <td>51.0</td>\n",
              "      <td>0</td>\n",
              "      <td>0</td>\n",
              "      <td>1</td>\n",
              "      <td>2</td>\n",
              "      <td>0</td>\n",
              "      <td>166.29</td>\n",
              "      <td>25.6</td>\n",
              "      <td>1</td>\n",
              "      <td>0</td>\n",
              "    </tr>\n",
              "    <tr>\n",
              "      <th>5109</th>\n",
              "      <td>0</td>\n",
              "      <td>44.0</td>\n",
              "      <td>0</td>\n",
              "      <td>0</td>\n",
              "      <td>1</td>\n",
              "      <td>0</td>\n",
              "      <td>1</td>\n",
              "      <td>85.28</td>\n",
              "      <td>26.2</td>\n",
              "      <td>0</td>\n",
              "      <td>0</td>\n",
              "    </tr>\n",
              "  </tbody>\n",
              "</table>\n",
              "<p>4909 rows × 11 columns</p>\n",
              "</div>\n",
              "      <button class=\"colab-df-convert\" onclick=\"convertToInteractive('df-5aa76b5b-2ddc-462c-b4d7-9eaaa8471782')\"\n",
              "              title=\"Convert this dataframe to an interactive table.\"\n",
              "              style=\"display:none;\">\n",
              "        \n",
              "  <svg xmlns=\"http://www.w3.org/2000/svg\" height=\"24px\"viewBox=\"0 0 24 24\"\n",
              "       width=\"24px\">\n",
              "    <path d=\"M0 0h24v24H0V0z\" fill=\"none\"/>\n",
              "    <path d=\"M18.56 5.44l.94 2.06.94-2.06 2.06-.94-2.06-.94-.94-2.06-.94 2.06-2.06.94zm-11 1L8.5 8.5l.94-2.06 2.06-.94-2.06-.94L8.5 2.5l-.94 2.06-2.06.94zm10 10l.94 2.06.94-2.06 2.06-.94-2.06-.94-.94-2.06-.94 2.06-2.06.94z\"/><path d=\"M17.41 7.96l-1.37-1.37c-.4-.4-.92-.59-1.43-.59-.52 0-1.04.2-1.43.59L10.3 9.45l-7.72 7.72c-.78.78-.78 2.05 0 2.83L4 21.41c.39.39.9.59 1.41.59.51 0 1.02-.2 1.41-.59l7.78-7.78 2.81-2.81c.8-.78.8-2.07 0-2.86zM5.41 20L4 18.59l7.72-7.72 1.47 1.35L5.41 20z\"/>\n",
              "  </svg>\n",
              "      </button>\n",
              "      \n",
              "  <style>\n",
              "    .colab-df-container {\n",
              "      display:flex;\n",
              "      flex-wrap:wrap;\n",
              "      gap: 12px;\n",
              "    }\n",
              "\n",
              "    .colab-df-convert {\n",
              "      background-color: #E8F0FE;\n",
              "      border: none;\n",
              "      border-radius: 50%;\n",
              "      cursor: pointer;\n",
              "      display: none;\n",
              "      fill: #1967D2;\n",
              "      height: 32px;\n",
              "      padding: 0 0 0 0;\n",
              "      width: 32px;\n",
              "    }\n",
              "\n",
              "    .colab-df-convert:hover {\n",
              "      background-color: #E2EBFA;\n",
              "      box-shadow: 0px 1px 2px rgba(60, 64, 67, 0.3), 0px 1px 3px 1px rgba(60, 64, 67, 0.15);\n",
              "      fill: #174EA6;\n",
              "    }\n",
              "\n",
              "    [theme=dark] .colab-df-convert {\n",
              "      background-color: #3B4455;\n",
              "      fill: #D2E3FC;\n",
              "    }\n",
              "\n",
              "    [theme=dark] .colab-df-convert:hover {\n",
              "      background-color: #434B5C;\n",
              "      box-shadow: 0px 1px 3px 1px rgba(0, 0, 0, 0.15);\n",
              "      filter: drop-shadow(0px 1px 2px rgba(0, 0, 0, 0.3));\n",
              "      fill: #FFFFFF;\n",
              "    }\n",
              "  </style>\n",
              "\n",
              "      <script>\n",
              "        const buttonEl =\n",
              "          document.querySelector('#df-5aa76b5b-2ddc-462c-b4d7-9eaaa8471782 button.colab-df-convert');\n",
              "        buttonEl.style.display =\n",
              "          google.colab.kernel.accessAllowed ? 'block' : 'none';\n",
              "\n",
              "        async function convertToInteractive(key) {\n",
              "          const element = document.querySelector('#df-5aa76b5b-2ddc-462c-b4d7-9eaaa8471782');\n",
              "          const dataTable =\n",
              "            await google.colab.kernel.invokeFunction('convertToInteractive',\n",
              "                                                     [key], {});\n",
              "          if (!dataTable) return;\n",
              "\n",
              "          const docLinkHtml = 'Like what you see? Visit the ' +\n",
              "            '<a target=\"_blank\" href=https://colab.research.google.com/notebooks/data_table.ipynb>data table notebook</a>'\n",
              "            + ' to learn more about interactive tables.';\n",
              "          element.innerHTML = '';\n",
              "          dataTable['output_type'] = 'display_data';\n",
              "          await google.colab.output.renderOutput(dataTable, element);\n",
              "          const docLink = document.createElement('div');\n",
              "          docLink.innerHTML = docLinkHtml;\n",
              "          element.appendChild(docLink);\n",
              "        }\n",
              "      </script>\n",
              "    </div>\n",
              "  </div>\n",
              "  "
            ]
          },
          "metadata": {},
          "execution_count": 73
        }
      ]
    },
    {
      "cell_type": "code",
      "source": [
        "from sklearn.preprocessing import StandardScaler\n",
        "scaled_features = data.copy()\n",
        " \n",
        "cols = ['age', 'avg_glucose_level','bmi']\n",
        "features = dcopy[cols]\n",
        "scaler = StandardScaler().fit(features.values)\n",
        "features = scaler.transform(features.values)\n",
        " \n",
        "dcopy[cols] = features\n",
        "dcopy\n",
        "\n",
        "data = dcopy\n",
        "data"
      ],
      "metadata": {
        "colab": {
          "base_uri": "https://localhost:8080/",
          "height": 424
        },
        "id": "t_p77kKZclfz",
        "outputId": "d090f4f5-10ce-4802-9167-6fb2c2c1fca1"
      },
      "execution_count": null,
      "outputs": [
        {
          "output_type": "execute_result",
          "data": {
            "text/plain": [
              "      gender       age  hypertension  heart_disease  ever_married  work_type  \\\n",
              "0          1  1.070138             0              1             1          2   \n",
              "2          1  1.646563             0              1             1          2   \n",
              "3          0  0.272012             0              0             1          2   \n",
              "4          0  1.602222             1              0             1          3   \n",
              "5          1  1.690903             0              0             1          2   \n",
              "...      ...       ...           ...            ...           ...        ...   \n",
              "5104       0 -1.324241             0              0             0          4   \n",
              "5106       0  1.690903             0              0             1          3   \n",
              "5107       0 -0.348753             0              0             1          3   \n",
              "5108       1  0.360692             0              0             1          2   \n",
              "5109       0  0.050310             0              0             1          0   \n",
              "\n",
              "      Residence_type  avg_glucose_level       bmi  smoking_status  stroke  \n",
              "0                  1           2.777698  0.981345               1       1  \n",
              "2                  0           0.013842  0.459269               2       1  \n",
              "3                  1           1.484132  0.701207               3       1  \n",
              "4                  0           1.549193 -0.623083               2       1  \n",
              "5                  1           1.821368  0.013595               1       1  \n",
              "...              ...                ...       ...             ...     ...  \n",
              "5104               0          -0.050094 -1.310695               0       0  \n",
              "5106               1           0.447882  1.414286               2       0  \n",
              "5107               0          -0.502369  0.217332               2       0  \n",
              "5108               0           1.372920 -0.419346               1       0  \n",
              "5109               1          -0.450816 -0.342945               0       0  \n",
              "\n",
              "[4909 rows x 11 columns]"
            ],
            "text/html": [
              "\n",
              "  <div id=\"df-2db3b5db-5c3a-4004-9b74-5790daed343f\">\n",
              "    <div class=\"colab-df-container\">\n",
              "      <div>\n",
              "<style scoped>\n",
              "    .dataframe tbody tr th:only-of-type {\n",
              "        vertical-align: middle;\n",
              "    }\n",
              "\n",
              "    .dataframe tbody tr th {\n",
              "        vertical-align: top;\n",
              "    }\n",
              "\n",
              "    .dataframe thead th {\n",
              "        text-align: right;\n",
              "    }\n",
              "</style>\n",
              "<table border=\"1\" class=\"dataframe\">\n",
              "  <thead>\n",
              "    <tr style=\"text-align: right;\">\n",
              "      <th></th>\n",
              "      <th>gender</th>\n",
              "      <th>age</th>\n",
              "      <th>hypertension</th>\n",
              "      <th>heart_disease</th>\n",
              "      <th>ever_married</th>\n",
              "      <th>work_type</th>\n",
              "      <th>Residence_type</th>\n",
              "      <th>avg_glucose_level</th>\n",
              "      <th>bmi</th>\n",
              "      <th>smoking_status</th>\n",
              "      <th>stroke</th>\n",
              "    </tr>\n",
              "  </thead>\n",
              "  <tbody>\n",
              "    <tr>\n",
              "      <th>0</th>\n",
              "      <td>1</td>\n",
              "      <td>1.070138</td>\n",
              "      <td>0</td>\n",
              "      <td>1</td>\n",
              "      <td>1</td>\n",
              "      <td>2</td>\n",
              "      <td>1</td>\n",
              "      <td>2.777698</td>\n",
              "      <td>0.981345</td>\n",
              "      <td>1</td>\n",
              "      <td>1</td>\n",
              "    </tr>\n",
              "    <tr>\n",
              "      <th>2</th>\n",
              "      <td>1</td>\n",
              "      <td>1.646563</td>\n",
              "      <td>0</td>\n",
              "      <td>1</td>\n",
              "      <td>1</td>\n",
              "      <td>2</td>\n",
              "      <td>0</td>\n",
              "      <td>0.013842</td>\n",
              "      <td>0.459269</td>\n",
              "      <td>2</td>\n",
              "      <td>1</td>\n",
              "    </tr>\n",
              "    <tr>\n",
              "      <th>3</th>\n",
              "      <td>0</td>\n",
              "      <td>0.272012</td>\n",
              "      <td>0</td>\n",
              "      <td>0</td>\n",
              "      <td>1</td>\n",
              "      <td>2</td>\n",
              "      <td>1</td>\n",
              "      <td>1.484132</td>\n",
              "      <td>0.701207</td>\n",
              "      <td>3</td>\n",
              "      <td>1</td>\n",
              "    </tr>\n",
              "    <tr>\n",
              "      <th>4</th>\n",
              "      <td>0</td>\n",
              "      <td>1.602222</td>\n",
              "      <td>1</td>\n",
              "      <td>0</td>\n",
              "      <td>1</td>\n",
              "      <td>3</td>\n",
              "      <td>0</td>\n",
              "      <td>1.549193</td>\n",
              "      <td>-0.623083</td>\n",
              "      <td>2</td>\n",
              "      <td>1</td>\n",
              "    </tr>\n",
              "    <tr>\n",
              "      <th>5</th>\n",
              "      <td>1</td>\n",
              "      <td>1.690903</td>\n",
              "      <td>0</td>\n",
              "      <td>0</td>\n",
              "      <td>1</td>\n",
              "      <td>2</td>\n",
              "      <td>1</td>\n",
              "      <td>1.821368</td>\n",
              "      <td>0.013595</td>\n",
              "      <td>1</td>\n",
              "      <td>1</td>\n",
              "    </tr>\n",
              "    <tr>\n",
              "      <th>...</th>\n",
              "      <td>...</td>\n",
              "      <td>...</td>\n",
              "      <td>...</td>\n",
              "      <td>...</td>\n",
              "      <td>...</td>\n",
              "      <td>...</td>\n",
              "      <td>...</td>\n",
              "      <td>...</td>\n",
              "      <td>...</td>\n",
              "      <td>...</td>\n",
              "      <td>...</td>\n",
              "    </tr>\n",
              "    <tr>\n",
              "      <th>5104</th>\n",
              "      <td>0</td>\n",
              "      <td>-1.324241</td>\n",
              "      <td>0</td>\n",
              "      <td>0</td>\n",
              "      <td>0</td>\n",
              "      <td>4</td>\n",
              "      <td>0</td>\n",
              "      <td>-0.050094</td>\n",
              "      <td>-1.310695</td>\n",
              "      <td>0</td>\n",
              "      <td>0</td>\n",
              "    </tr>\n",
              "    <tr>\n",
              "      <th>5106</th>\n",
              "      <td>0</td>\n",
              "      <td>1.690903</td>\n",
              "      <td>0</td>\n",
              "      <td>0</td>\n",
              "      <td>1</td>\n",
              "      <td>3</td>\n",
              "      <td>1</td>\n",
              "      <td>0.447882</td>\n",
              "      <td>1.414286</td>\n",
              "      <td>2</td>\n",
              "      <td>0</td>\n",
              "    </tr>\n",
              "    <tr>\n",
              "      <th>5107</th>\n",
              "      <td>0</td>\n",
              "      <td>-0.348753</td>\n",
              "      <td>0</td>\n",
              "      <td>0</td>\n",
              "      <td>1</td>\n",
              "      <td>3</td>\n",
              "      <td>0</td>\n",
              "      <td>-0.502369</td>\n",
              "      <td>0.217332</td>\n",
              "      <td>2</td>\n",
              "      <td>0</td>\n",
              "    </tr>\n",
              "    <tr>\n",
              "      <th>5108</th>\n",
              "      <td>1</td>\n",
              "      <td>0.360692</td>\n",
              "      <td>0</td>\n",
              "      <td>0</td>\n",
              "      <td>1</td>\n",
              "      <td>2</td>\n",
              "      <td>0</td>\n",
              "      <td>1.372920</td>\n",
              "      <td>-0.419346</td>\n",
              "      <td>1</td>\n",
              "      <td>0</td>\n",
              "    </tr>\n",
              "    <tr>\n",
              "      <th>5109</th>\n",
              "      <td>0</td>\n",
              "      <td>0.050310</td>\n",
              "      <td>0</td>\n",
              "      <td>0</td>\n",
              "      <td>1</td>\n",
              "      <td>0</td>\n",
              "      <td>1</td>\n",
              "      <td>-0.450816</td>\n",
              "      <td>-0.342945</td>\n",
              "      <td>0</td>\n",
              "      <td>0</td>\n",
              "    </tr>\n",
              "  </tbody>\n",
              "</table>\n",
              "<p>4909 rows × 11 columns</p>\n",
              "</div>\n",
              "      <button class=\"colab-df-convert\" onclick=\"convertToInteractive('df-2db3b5db-5c3a-4004-9b74-5790daed343f')\"\n",
              "              title=\"Convert this dataframe to an interactive table.\"\n",
              "              style=\"display:none;\">\n",
              "        \n",
              "  <svg xmlns=\"http://www.w3.org/2000/svg\" height=\"24px\"viewBox=\"0 0 24 24\"\n",
              "       width=\"24px\">\n",
              "    <path d=\"M0 0h24v24H0V0z\" fill=\"none\"/>\n",
              "    <path d=\"M18.56 5.44l.94 2.06.94-2.06 2.06-.94-2.06-.94-.94-2.06-.94 2.06-2.06.94zm-11 1L8.5 8.5l.94-2.06 2.06-.94-2.06-.94L8.5 2.5l-.94 2.06-2.06.94zm10 10l.94 2.06.94-2.06 2.06-.94-2.06-.94-.94-2.06-.94 2.06-2.06.94z\"/><path d=\"M17.41 7.96l-1.37-1.37c-.4-.4-.92-.59-1.43-.59-.52 0-1.04.2-1.43.59L10.3 9.45l-7.72 7.72c-.78.78-.78 2.05 0 2.83L4 21.41c.39.39.9.59 1.41.59.51 0 1.02-.2 1.41-.59l7.78-7.78 2.81-2.81c.8-.78.8-2.07 0-2.86zM5.41 20L4 18.59l7.72-7.72 1.47 1.35L5.41 20z\"/>\n",
              "  </svg>\n",
              "      </button>\n",
              "      \n",
              "  <style>\n",
              "    .colab-df-container {\n",
              "      display:flex;\n",
              "      flex-wrap:wrap;\n",
              "      gap: 12px;\n",
              "    }\n",
              "\n",
              "    .colab-df-convert {\n",
              "      background-color: #E8F0FE;\n",
              "      border: none;\n",
              "      border-radius: 50%;\n",
              "      cursor: pointer;\n",
              "      display: none;\n",
              "      fill: #1967D2;\n",
              "      height: 32px;\n",
              "      padding: 0 0 0 0;\n",
              "      width: 32px;\n",
              "    }\n",
              "\n",
              "    .colab-df-convert:hover {\n",
              "      background-color: #E2EBFA;\n",
              "      box-shadow: 0px 1px 2px rgba(60, 64, 67, 0.3), 0px 1px 3px 1px rgba(60, 64, 67, 0.15);\n",
              "      fill: #174EA6;\n",
              "    }\n",
              "\n",
              "    [theme=dark] .colab-df-convert {\n",
              "      background-color: #3B4455;\n",
              "      fill: #D2E3FC;\n",
              "    }\n",
              "\n",
              "    [theme=dark] .colab-df-convert:hover {\n",
              "      background-color: #434B5C;\n",
              "      box-shadow: 0px 1px 3px 1px rgba(0, 0, 0, 0.15);\n",
              "      filter: drop-shadow(0px 1px 2px rgba(0, 0, 0, 0.3));\n",
              "      fill: #FFFFFF;\n",
              "    }\n",
              "  </style>\n",
              "\n",
              "      <script>\n",
              "        const buttonEl =\n",
              "          document.querySelector('#df-2db3b5db-5c3a-4004-9b74-5790daed343f button.colab-df-convert');\n",
              "        buttonEl.style.display =\n",
              "          google.colab.kernel.accessAllowed ? 'block' : 'none';\n",
              "\n",
              "        async function convertToInteractive(key) {\n",
              "          const element = document.querySelector('#df-2db3b5db-5c3a-4004-9b74-5790daed343f');\n",
              "          const dataTable =\n",
              "            await google.colab.kernel.invokeFunction('convertToInteractive',\n",
              "                                                     [key], {});\n",
              "          if (!dataTable) return;\n",
              "\n",
              "          const docLinkHtml = 'Like what you see? Visit the ' +\n",
              "            '<a target=\"_blank\" href=https://colab.research.google.com/notebooks/data_table.ipynb>data table notebook</a>'\n",
              "            + ' to learn more about interactive tables.';\n",
              "          element.innerHTML = '';\n",
              "          dataTable['output_type'] = 'display_data';\n",
              "          await google.colab.output.renderOutput(dataTable, element);\n",
              "          const docLink = document.createElement('div');\n",
              "          docLink.innerHTML = docLinkHtml;\n",
              "          element.appendChild(docLink);\n",
              "        }\n",
              "      </script>\n",
              "    </div>\n",
              "  </div>\n",
              "  "
            ]
          },
          "metadata": {},
          "execution_count": 74
        }
      ]
    },
    {
      "cell_type": "markdown",
      "source": [
        "#Dropping unnecessary columns\n"
      ],
      "metadata": {
        "id": "EFJzpb-PEA9t"
      }
    },
    {
      "cell_type": "markdown",
      "source": [
        ""
      ],
      "metadata": {
        "id": "1C9EDKvUj__d"
      }
    },
    {
      "cell_type": "code",
      "source": [
        "plt.figure(figsize = (10,7))\n",
        "sns.heatmap(data.corr(), annot = True, cmap = \"RdYlGn\")\n",
        "plt.show()"
      ],
      "metadata": {
        "colab": {
          "base_uri": "https://localhost:8080/",
          "height": 513
        },
        "id": "UnnFogY_DseN",
        "outputId": "067fc490-5707-46d9-f08a-cdefeab0a312"
      },
      "execution_count": null,
      "outputs": [
        {
          "output_type": "display_data",
          "data": {
            "text/plain": [
              "<Figure size 720x504 with 2 Axes>"
            ],
            "image/png": "[encoded data removed]"
          },
          "metadata": {
            "needs_background": "light"
          }
        }
      ]
    },
    {
      "cell_type": "markdown",
      "source": [
        "Dropping the columns -> bmi , Hypertension , Heart Disease and ever married . We dropped bmi because it had a lot of outlier values as evident from its graph . There was a lot of imbalance in the data in columns of Hypertension and Heart disease .We dropped ever_married because it was highly correlated to the Age column"
      ],
      "metadata": {
        "id": "2E--B-FkkC6R"
      }
    },
    {
      "cell_type": "code",
      "source": [
        "data = data.drop(columns = ['bmi' , 'hypertension' , 'heart_disease' , 'ever_married'])"
      ],
      "metadata": {
        "id": "0zHVvRkLPEQG"
      },
      "execution_count": null,
      "outputs": []
    },
    {
      "cell_type": "code",
      "source": [
        "data.isna().sum()"
      ],
      "metadata": {
        "colab": {
          "base_uri": "https://localhost:8080/"
        },
        "id": "RWQAg-4_ddQu",
        "outputId": "f318819b-b229-48cc-8541-e33b9cff474e"
      },
      "execution_count": null,
      "outputs": [
        {
          "output_type": "execute_result",
          "data": {
            "text/plain": [
              "gender               0\n",
              "age                  0\n",
              "work_type            0\n",
              "Residence_type       0\n",
              "avg_glucose_level    0\n",
              "smoking_status       0\n",
              "stroke               0\n",
              "dtype: int64"
            ]
          },
          "metadata": {},
          "execution_count": 77
        }
      ]
    },
    {
      "cell_type": "markdown",
      "source": [
        "Splitting into training and testing data"
      ],
      "metadata": {
        "id": "cZHDUXf0kguJ"
      }
    },
    {
      "cell_type": "code",
      "source": [
        "X_train, X_test, Y_train, Y_test = tts(data.iloc[:, :-1], data.iloc[:,-1], test_size = 0.3, shuffle = True)"
      ],
      "metadata": {
        "id": "qiwqpZ_koMZ6"
      },
      "execution_count": null,
      "outputs": []
    },
    {
      "cell_type": "markdown",
      "source": [
        "#Importing the Models"
      ],
      "metadata": {
        "id": "XTGkwq_bfT1Z"
      }
    },
    {
      "cell_type": "markdown",
      "source": [
        "Evaluating the performance of some well known classifier models"
      ],
      "metadata": {
        "id": "9NAEKj1jkkzz"
      }
    },
    {
      "cell_type": "code",
      "source": [
        "from sklearn.ensemble import RandomForestClassifier as RFC\n",
        "from sklearn.ensemble import AdaBoostClassifier as ABC\n",
        "from sklearn.svm import SVC \n",
        "from sklearn.tree import DecisionTreeClassifier\n",
        "import xgboost as xgb\n",
        "import lightgbm as lgb\n",
        "from sklearn.neighbors import KNeighborsClassifier\n",
        "from sklearn.metrics import accuracy_score as acc\n",
        "from sklearn.metrics import f1_score as f1"
      ],
      "metadata": {
        "id": "Sxh7bkkFeu3X"
      },
      "execution_count": null,
      "outputs": []
    },
    {
      "cell_type": "code",
      "source": [
        "models = []\n",
        "models.append(RFC())\n",
        "models.append(ABC())\n",
        "models.append(SVC(kernel = 'linear' , C = 0.1))\n",
        "models.append(DecisionTreeClassifier())\n",
        "models.append(xgb.XGBClassifier())\n",
        "models.append(lgb.LGBMClassifier())+\n",
        "\n",
        "models.append(KNeighborsClassifier())"
      ],
      "metadata": {
        "id": "iGvv5ZdCfwfK"
      },
      "execution_count": null,
      "outputs": []
    },
    {
      "cell_type": "code",
      "source": [
        "!pip install tabulate\n",
        "from tabulate import tabulate"
      ],
      "metadata": {
        "colab": {
          "base_uri": "https://localhost:8080/"
        },
        "id": "i1MdifedCvPD",
        "outputId": "6674a491-7d69-4f43-88d7-910a3201e26e"
      },
      "execution_count": null,
      "outputs": [
        {
          "output_type": "stream",
          "name": "stdout",
          "text": [
            "Requirement already satisfied: tabulate in /usr/local/lib/python3.7/dist-packages (0.8.9)\n"
          ]
        }
      ]
    },
    {
      "cell_type": "code",
      "source": [
        "table = [[\"Model\" , \"Training accuracy\" ,\"Testing accuracy\" , \"Testing F1 score\" ]]\n",
        "for i in range(len(models)):\n",
        "  clf = models[i]\n",
        "  clf.fit(X_train, Y_train)\n",
        "  ind_reg = [clf , acc(Y_train , clf.predict(X_train)) ,  acc(Y_test , clf.predict(X_test))  , f1(Y_test , clf.predict(X_test))]\n",
        "  # print(clf,' : ', acc(Y_test, clf.predict(X_test)),',' , f1(Y_test, clf.predict(X_test)))\n",
        "  table.append(ind_reg)\n",
        "print(tabulate(table ,headers = 'firstrow' ,  tablefmt='fancy_grid'))"
      ],
      "metadata": {
        "colab": {
          "base_uri": "https://localhost:8080/"
        },
        "id": "SnT0IP1SlymV",
        "outputId": "4219cafc-e0aa-479d-dec8-426dcf84da82"
      },
      "execution_count": null,
      "outputs": [
        {
          "output_type": "stream",
          "name": "stdout",
          "text": [
            "╒═════════════════════════════╤═════════════════════╤════════════════════╤════════════════════╕\n",
            "│ Model                       │   Training accuracy │   Testing accuracy │   Testing F1 score │\n",
            "╞═════════════════════════════╪═════════════════════╪════════════════════╪════════════════════╡\n",
            "│ RandomForestClassifier()    │            1        │           0.955193 │          0.0571429 │\n",
            "├─────────────────────────────┼─────────────────────┼────────────────────┼────────────────────┤\n",
            "│ AdaBoostClassifier()        │            0.958964 │           0.955193 │          0         │\n",
            "├─────────────────────────────┼─────────────────────┼────────────────────┼────────────────────┤\n",
            "│ SVC(C=0.1, kernel='linear') │            0.958091 │           0.955872 │          0         │\n",
            "├─────────────────────────────┼─────────────────────┼────────────────────┼────────────────────┤\n",
            "│ DecisionTreeClassifier()    │            1        │           0.911066 │          0.0839161 │\n",
            "├─────────────────────────────┼─────────────────────┼────────────────────┼────────────────────┤\n",
            "│ XGBClassifier()             │            0.958964 │           0.955872 │          0         │\n",
            "├─────────────────────────────┼─────────────────────┼────────────────────┼────────────────────┤\n",
            "│ LGBMClassifier()            │            0.991851 │           0.946368 │          0         │\n",
            "├─────────────────────────────┼─────────────────────┼────────────────────┼────────────────────┤\n",
            "│ KNeighborsClassifier()      │            0.959255 │           0.955872 │          0.057971  │\n",
            "╘═════════════════════════════╧═════════════════════╧════════════════════╧════════════════════╛\n"
          ]
        }
      ]
    },
    {
      "cell_type": "markdown",
      "source": [
        "We can see that precision and F1 score  are very small in all places because the number of datapoints for 1s are very less as compared to 0s. So for equally training 1s class labels, we used oversampling on the train data  using RandomOverSampler . This increases the number of datapoints of 1s class equal to the number of 0s class. This will help train 1s class equally"
      ],
      "metadata": {
        "id": "h6K1Wxz4krhC"
      }
    },
    {
      "cell_type": "markdown",
      "source": [
        "#Oversampling on training data"
      ],
      "metadata": {
        "id": "O_M_I7rXqEpZ"
      }
    },
    {
      "cell_type": "code",
      "source": [
        "! pip install -U imbalanced-learn"
      ],
      "metadata": {
        "id": "LTEM632hqGcm",
        "colab": {
          "base_uri": "https://localhost:8080/"
        },
        "outputId": "9b30dd47-d769-40ec-b6b7-1cc241fa2653"
      },
      "execution_count": null,
      "outputs": [
        {
          "output_type": "stream",
          "name": "stdout",
          "text": [
            "Requirement already satisfied: imbalanced-learn in /usr/local/lib/python3.7/dist-packages (0.9.0)\n",
            "Requirement already satisfied: numpy>=1.14.6 in /usr/local/lib/python3.7/dist-packages (from imbalanced-learn) (1.21.6)\n",
            "Requirement already satisfied: scikit-learn>=1.0.1 in /usr/local/lib/python3.7/dist-packages (from imbalanced-learn) (1.0.2)\n",
            "Requirement already satisfied: threadpoolctl>=2.0.0 in /usr/local/lib/python3.7/dist-packages (from imbalanced-learn) (3.1.0)\n",
            "Requirement already satisfied: scipy>=1.1.0 in /usr/local/lib/python3.7/dist-packages (from imbalanced-learn) (1.4.1)\n",
            "Requirement already satisfied: joblib>=0.11 in /usr/local/lib/python3.7/dist-packages (from imbalanced-learn) (1.1.0)\n"
          ]
        }
      ]
    },
    {
      "cell_type": "code",
      "source": [
        "from imblearn.over_sampling import RandomOverSampler\n",
        "ros = RandomOverSampler(random_state=0)\n",
        "X, Y = ros.fit_resample(X_train, Y_train)"
      ],
      "metadata": {
        "id": "j8Yhs0gCqJJL"
      },
      "execution_count": null,
      "outputs": []
    },
    {
      "cell_type": "code",
      "source": [
        "Y.value_counts()"
      ],
      "metadata": {
        "colab": {
          "base_uri": "https://localhost:8080/"
        },
        "id": "foY5Z0qZqUeC",
        "outputId": "4efe39d2-1919-4457-e8ed-f1170d20dfc8"
      },
      "execution_count": null,
      "outputs": [
        {
          "output_type": "execute_result",
          "data": {
            "text/plain": [
              "0    3292\n",
              "1    3292\n",
              "Name: stroke, dtype: int64"
            ]
          },
          "metadata": {},
          "execution_count": 85
        }
      ]
    },
    {
      "cell_type": "code",
      "source": [
        "table = [[\"Model\" , \"Training accuracy\" ,\"Testing accuracy\" , \"Testing F1 score\" ]]\n",
        "for i in range(len(models)):\n",
        "  clf = models[i]\n",
        "  clf.fit(X, Y)\n",
        "  ind_reg = [clf , acc(Y , clf.predict(X)) ,  acc(Y_test , clf.predict(X_test))  , f1(Y_test , clf.predict(X_test))]\n",
        "  # print(clf,' : ', acc(Y_test, clf.predict(X_test)),',' , f1(Y_test, clf.predict(X_test)))\n",
        "  table.append(ind_reg)\n",
        "print(tabulate(table ,headers = 'firstrow' ,  tablefmt='fancy_grid'))"
      ],
      "metadata": {
        "colab": {
          "base_uri": "https://localhost:8080/"
        },
        "id": "YTB8vFlYqfVY",
        "outputId": "01e12dd5-5a15-4c30-f205-66cbf9684055"
      },
      "execution_count": null,
      "outputs": [
        {
          "output_type": "stream",
          "name": "stdout",
          "text": [
            "╒═════════════════════════════╤═════════════════════╤════════════════════╤════════════════════╕\n",
            "│ Model                       │   Training accuracy │   Testing accuracy │   Testing F1 score │\n",
            "╞═════════════════════════════╪═════════════════════╪════════════════════╪════════════════════╡\n",
            "│ RandomForestClassifier()    │            1        │           0.941616 │          0.0851064 │\n",
            "├─────────────────────────────┼─────────────────────┼────────────────────┼────────────────────┤\n",
            "│ AdaBoostClassifier()        │            0.805589 │           0.712152 │          0.2       │\n",
            "├─────────────────────────────┼─────────────────────┼────────────────────┼────────────────────┤\n",
            "│ SVC(C=0.1, kernel='linear') │            0.765036 │           0.734555 │          0.21328   │\n",
            "├─────────────────────────────┼─────────────────────┼────────────────────┼────────────────────┤\n",
            "│ DecisionTreeClassifier()    │            1        │           0.912424 │          0.110345  │\n",
            "├─────────────────────────────┼─────────────────────┼────────────────────┼────────────────────┤\n",
            "│ XGBClassifier()             │            0.861482 │           0.766463 │          0.196262  │\n",
            "├─────────────────────────────┼─────────────────────┼────────────────────┼────────────────────┤\n",
            "│ LGBMClassifier()            │            0.983445 │           0.911745 │          0.207317  │\n",
            "├─────────────────────────────┼─────────────────────┼────────────────────┼────────────────────┤\n",
            "│ KNeighborsClassifier()      │            0.962789 │           0.875085 │          0.132075  │\n",
            "╘═════════════════════════════╧═════════════════════╧════════════════════╧════════════════════╛\n"
          ]
        }
      ]
    },
    {
      "cell_type": "markdown",
      "source": [
        "The F1 scores have increased a bit, but are still less so we tried applying oversampling on whole data, rather than training data"
      ],
      "metadata": {
        "id": "2zgTSba5k1Ms"
      }
    },
    {
      "cell_type": "markdown",
      "source": [
        "#Oversampling on whole data"
      ],
      "metadata": {
        "id": "h4teDlBV0bGQ"
      }
    },
    {
      "cell_type": "markdown",
      "source": [
        "We tried performing Oversampling on the whole data , but it is wrong as we will be testing the model on manipulated data so it may perform poorly on unseen data."
      ],
      "metadata": {
        "id": "UFrBMLFYLU3r"
      }
    },
    {
      "cell_type": "code",
      "source": [
        "ros = RandomOverSampler(random_state=0)\n",
        "Xw, Yw = ros.fit_resample(data.iloc[:, :-1], data.iloc[:,-1])\n"
      ],
      "metadata": {
        "id": "lyOabqaaqlvq"
      },
      "execution_count": null,
      "outputs": []
    },
    {
      "cell_type": "code",
      "source": [
        "Yw.value_counts()"
      ],
      "metadata": {
        "id": "LNBA2cBR0zft",
        "outputId": "3b2fd087-eead-4a02-b2b9-2819279da93f",
        "colab": {
          "base_uri": "https://localhost:8080/"
        }
      },
      "execution_count": null,
      "outputs": [
        {
          "output_type": "execute_result",
          "data": {
            "text/plain": [
              "1    4700\n",
              "0    4700\n",
              "Name: stroke, dtype: int64"
            ]
          },
          "metadata": {},
          "execution_count": 88
        }
      ]
    },
    {
      "cell_type": "code",
      "source": [
        "Xw_train, Xw_test, Yw_train, Yw_test = tts(Xw, Yw, test_size = 0.3, shuffle = True)"
      ],
      "metadata": {
        "id": "_idHa3bs0rg0"
      },
      "execution_count": null,
      "outputs": []
    },
    {
      "cell_type": "code",
      "source": [
        "table = [[\"Model\" , \"Training accuracy\" ,\"Testing accuracy\" , \"Testing F1 score\" ]]\n",
        "for i in range(len(models)):\n",
        "  clf = models[i]\n",
        "  clf.fit(Xw_train, Yw_train)\n",
        "  ind_reg = [clf , acc(Yw_train , clf.predict(Xw_train)) ,  acc(Yw_test , clf.predict(Xw_test))  , f1(Yw_test , clf.predict(Xw_test))]\n",
        "  # print(clf,' : ', acc(Y_test, clf.predict(X_test)),',' , f1(Y_test, clf.predict(X_test)))\n",
        "  table.append(ind_reg)\n",
        "print(tabulate(table ,headers = 'firstrow' ,  tablefmt='fancy_grid'))"
      ],
      "metadata": {
        "colab": {
          "base_uri": "https://localhost:8080/"
        },
        "id": "K5iLxBmp2EBJ",
        "outputId": "7c996e34-e3f0-40e8-9237-3a9f0a6a728a"
      },
      "execution_count": null,
      "outputs": [
        {
          "output_type": "stream",
          "name": "stdout",
          "text": [
            "╒═════════════════════════════╤═════════════════════╤════════════════════╤════════════════════╕\n",
            "│ Model                       │   Training accuracy │   Testing accuracy │   Testing F1 score │\n",
            "╞═════════════════════════════╪═════════════════════╪════════════════════╪════════════════════╡\n",
            "│ RandomForestClassifier()    │            1        │           0.987234 │           0.987612 │\n",
            "├─────────────────────────────┼─────────────────────┼────────────────────┼────────────────────┤\n",
            "│ AdaBoostClassifier()        │            0.799848 │           0.799645 │           0.812479 │\n",
            "├─────────────────────────────┼─────────────────────┼────────────────────┼────────────────────┤\n",
            "│ SVC(C=0.1, kernel='linear') │            0.759574 │           0.763121 │           0.771389 │\n",
            "├─────────────────────────────┼─────────────────────┼────────────────────┼────────────────────┤\n",
            "│ DecisionTreeClassifier()    │            1        │           0.97695  │           0.977853 │\n",
            "├─────────────────────────────┼─────────────────────┼────────────────────┼────────────────────┤\n",
            "│ XGBClassifier()             │            0.841945 │           0.832624 │           0.843915 │\n",
            "├─────────────────────────────┼─────────────────────┼────────────────────┼────────────────────┤\n",
            "│ LGBMClassifier()            │            0.967781 │           0.958156 │           0.960509 │\n",
            "├─────────────────────────────┼─────────────────────┼────────────────────┼────────────────────┤\n",
            "│ KNeighborsClassifier()      │            0.949088 │           0.934397 │           0.939444 │\n",
            "╘═════════════════════════════╧═════════════════════╧════════════════════╧════════════════════╛\n"
          ]
        }
      ]
    },
    {
      "cell_type": "markdown",
      "source": [
        "LGBM Classifier has performed considerably well in all the three cases . So We decided to perform its hyperparameter tuning to furthur enhance its performance"
      ],
      "metadata": {
        "id": "gzprBnKlDeMr"
      }
    },
    {
      "cell_type": "markdown",
      "source": [
        "#Hyperparameter Tuning"
      ],
      "metadata": {
        "id": "-Uxq8Qj_QWBx"
      }
    },
    {
      "cell_type": "code",
      "source": [
        "from sklearn.model_selection import GridSearchCV\n",
        "from sklearn.metrics import roc_auc_score as auc\n",
        "from sklearn.metrics import roc_curve as roc"
      ],
      "metadata": {
        "id": "I5KV71QuQdyp"
      },
      "execution_count": null,
      "outputs": []
    },
    {
      "cell_type": "code",
      "source": [
        "mdl_rf = lgb.LGBMClassifier()\n",
        "params_li = { 'n_estimators': [200, 300, 400, 500, 600, 700, 800, 900, 1000], 'max_depth' : list(range(30,50)) }\n",
        "rf_gs = GridSearchCV(estimator=mdl_rf, param_grid = params_li , cv= 3 )"
      ],
      "metadata": {
        "id": "LnneMeQEWzVs"
      },
      "execution_count": null,
      "outputs": []
    },
    {
      "cell_type": "code",
      "source": [
        "rf_gs.fit(Xw_train, Yw_train)"
      ],
      "metadata": {
        "id": "zTh15UX3Xuv2",
        "colab": {
          "base_uri": "https://localhost:8080/"
        },
        "outputId": "5e6b9de9-6385-487a-b9c1-a22ed0d9f26b"
      },
      "execution_count": null,
      "outputs": [
        {
          "output_type": "execute_result",
          "data": {
            "text/plain": [
              "GridSearchCV(cv=3, estimator=LGBMClassifier(),\n",
              "             param_grid={'max_depth': [30, 31, 32, 33, 34, 35, 36, 37, 38, 39,\n",
              "                                       40, 41, 42, 43, 44, 45, 46, 47, 48, 49],\n",
              "                         'n_estimators': [200, 300, 400, 500, 600, 700, 800,\n",
              "                                          900, 1000]})"
            ]
          },
          "metadata": {},
          "execution_count": 93
        }
      ]
    },
    {
      "cell_type": "code",
      "source": [
        "rf_gs.best_params_"
      ],
      "metadata": {
        "id": "QrLiBdpYX63_",
        "colab": {
          "base_uri": "https://localhost:8080/"
        },
        "outputId": "5ba5d61b-d7ad-469c-e442-832df4610852"
      },
      "execution_count": null,
      "outputs": [
        {
          "output_type": "execute_result",
          "data": {
            "text/plain": [
              "{'max_depth': 30, 'n_estimators': 1000}"
            ]
          },
          "metadata": {},
          "execution_count": 94
        }
      ]
    },
    {
      "cell_type": "code",
      "source": [
        "mdl_best = rf_gs.best_estimator_"
      ],
      "metadata": {
        "id": "708FNodTlTuT"
      },
      "execution_count": null,
      "outputs": []
    },
    {
      "cell_type": "code",
      "source": [
        "table = [[\"Data\" , \"Training accuracy\" ,\"Testing accuracy\" , \"Testing F1 score\" , \"Testing AUC\" ]]\n",
        "mdl_best.fit(X_train , Y_train)\n",
        "y_pred = mdl_best.predict(X_test)\n",
        "table.append([\"Unsampled Data\" , acc(Y_train ,mdl_best.predict(X_train)) , acc(Y_test , y_pred) ,f1(Y_test , y_pred) , auc(Y_test , mdl_best.predict_proba(X_test)[:,1])] )\n",
        "y_predprob_unsampled = mdl_best.predict_proba(X_test)[:,1]\n"
      ],
      "metadata": {
        "id": "Y_krCE-sOv2Y"
      },
      "execution_count": null,
      "outputs": []
    },
    {
      "cell_type": "code",
      "source": [
        "mdl_best.fit(X , Y)\n",
        "y_pred = mdl_best.predict(X_test)\n",
        "table.append([\"Oversampled (training only)\" , acc(Y ,mdl_best.predict(X)) , acc(Y_test , y_pred) ,f1(Y_test , y_pred) , auc(Y_test , mdl_best.predict_proba(X_test)[:,1])] )\n",
        "y_predprob_sampled_tr = mdl_best.predict_proba(X_test)[:,1]\n"
      ],
      "metadata": {
        "id": "Op4JVjAvQBed"
      },
      "execution_count": null,
      "outputs": []
    },
    {
      "cell_type": "code",
      "source": [
        "mdl_best.fit(Xw_train , Yw_train)\n",
        "y_pred = mdl_best.predict(Xw_test)\n",
        "table.append([\"Oversampled (whole data)\" , acc(Yw_train ,mdl_best.predict(Xw_train)) , acc(Yw_test , y_pred) ,f1(Yw_test , y_pred) , auc(Yw_test , mdl_best.predict_proba(Xw_test)[:,1])] )\n",
        "y_predprob_sampled_whole = mdl_best.predict_proba(Xw_test)[:,1]"
      ],
      "metadata": {
        "id": "07kDWQKXQXcc"
      },
      "execution_count": null,
      "outputs": []
    },
    {
      "cell_type": "code",
      "source": [
        "print(tabulate(table ,headers = 'firstrow' ,  tablefmt='fancy_grid'))"
      ],
      "metadata": {
        "colab": {
          "base_uri": "https://localhost:8080/"
        },
        "id": "JX6cG0ZVP7qk",
        "outputId": "c3ed6600-3015-4406-f7d1-5791fb7a3ce7"
      },
      "execution_count": null,
      "outputs": [
        {
          "output_type": "stream",
          "name": "stdout",
          "text": [
            "╒═════════════════════════════╤═════════════════════╤════════════════════╤════════════════════╤═══════════════╕\n",
            "│ Data                        │   Training accuracy │   Testing accuracy │   Testing F1 score │   Testing AUC │\n",
            "╞═════════════════════════════╪═════════════════════╪════════════════════╪════════════════════╪═══════════════╡\n",
            "│ Unsampled Data              │            0.999709 │           0.941616 │          0.0851064 │      0.713254 │\n",
            "├─────────────────────────────┼─────────────────────┼────────────────────┼────────────────────┼───────────────┤\n",
            "│ Oversampled (training only) │            0.999848 │           0.936864 │          0.0412371 │      0.750098 │\n",
            "├─────────────────────────────┼─────────────────────┼────────────────────┼────────────────────┼───────────────┤\n",
            "│ Oversampled (whole data)    │            0.999696 │           0.982979 │          0.98355   │      0.99806  │\n",
            "╘═════════════════════════════╧═════════════════════╧════════════════════╧════════════════════╧═══════════════╛\n"
          ]
        }
      ]
    },
    {
      "cell_type": "code",
      "source": [
        "fpr , tpr , _ = roc(Y_test , y_predprob_unsampled)\n",
        "plt.plot(fpr,tpr , label = \"AUC : \" +  str(auc(Y_test , y_predprob_unsampled)) , color = 'r')\n",
        "plt.title(\"ROC for LGBM Classifier with Unsampled data\")\n",
        "plt.xlabel(\"False Positive Rate\")\n",
        "plt.legend()\n",
        "plt.ylabel(\"True Positive Rate\")\n",
        "plt.show()"
      ],
      "metadata": {
        "colab": {
          "base_uri": "https://localhost:8080/",
          "height": 295
        },
        "id": "3y3OL7xfSTdX",
        "outputId": "af590d85-6aa1-4912-fdc1-e584500485e6"
      },
      "execution_count": null,
      "outputs": [
        {
          "output_type": "display_data",
          "data": {
            "text/plain": [
              "<Figure size 432x288 with 1 Axes>"
            ],
            "image/png": "[encoded data removed]"
          },
          "metadata": {
            "needs_background": "light"
          }
        }
      ]
    },
    {
      "cell_type": "code",
      "source": [
        "fpr , tpr , _ = roc(Y_test , y_predprob_sampled_tr)\n",
        "plt.plot(fpr,tpr , label = \"AUC : \" +  str(auc(Y_test , y_predprob_sampled_tr)) , color = 'b')\n",
        "plt.title(\"ROC for LGBM Classifier with Sampled data(Training Only)\")\n",
        "plt.xlabel(\"False Positive Rate\")\n",
        "plt.ylabel(\"True Positive Rate\")\n",
        "plt.legend()\n",
        "plt.show()"
      ],
      "metadata": {
        "colab": {
          "base_uri": "https://localhost:8080/",
          "height": 295
        },
        "id": "UJKCFLOcTWEW",
        "outputId": "e6aa4a92-8f76-4ff6-8fe4-5235103f204c"
      },
      "execution_count": null,
      "outputs": [
        {
          "output_type": "display_data",
          "data": {
            "text/plain": [
              "<Figure size 432x288 with 1 Axes>"
            ],
            "image/png": "[encoded data removed]"
          },
          "metadata": {
            "needs_background": "light"
          }
        }
      ]
    },
    {
      "cell_type": "code",
      "source": [
        "fpr , tpr , _ = roc(Yw_test , y_predprob_sampled_whole)\n",
        "plt.plot(fpr,tpr , label = \"AUC : \" +  str(auc(Yw_test , y_predprob_sampled_whole)) , color = 'g')\n",
        "plt.title(\"ROC for LGBM Classifier with Sampled data|(whole)\")\n",
        "plt.xlabel(\"False Positive Rate\")\n",
        "plt.ylabel(\"True Positive Rate\")\n",
        "plt.legend()\n",
        "plt.show()"
      ],
      "metadata": {
        "colab": {
          "base_uri": "https://localhost:8080/",
          "height": 295
        },
        "id": "5KSAZJovTdvS",
        "outputId": "0539ce2c-c1fc-4e2b-ca1d-1f5468c07a38"
      },
      "execution_count": null,
      "outputs": [
        {
          "output_type": "display_data",
          "data": {
            "text/plain": [
              "<Figure size 432x288 with 1 Axes>"
            ],
            "image/png": "[encoded data removed]"
          },
          "metadata": {
            "needs_background": "light"
          }
        }
      ]
    },
    {
      "cell_type": "markdown",
      "source": [
        "#NN"
      ],
      "metadata": {
        "id": "RWy7NzKtxl0a"
      }
    },
    {
      "cell_type": "code",
      "source": [
        "import torch\n",
        "import torch.nn as nn\n",
        "from torch.autograd import Variable\n",
        "from sklearn.utils import shuffle\n",
        "from torchsummary import summary"
      ],
      "metadata": {
        "id": "cNE6g_l-xn6z"
      },
      "execution_count": null,
      "outputs": []
    },
    {
      "cell_type": "code",
      "source": [
        "def get_accuracy(logit, target, batch_size):\n",
        "    \n",
        "    corrects = (torch.max(logit, 1)[1].view(target.size()).data == target.data).sum()\n",
        "    accuracy = 100.0 * corrects/batch_size\n",
        "    return accuracy.item()"
      ],
      "metadata": {
        "id": "UuyZNNDMxpHJ"
      },
      "execution_count": null,
      "outputs": []
    },
    {
      "cell_type": "code",
      "source": [
        "X_train=X_train.values\n",
        "Y_train=Y_train.values\n"
      ],
      "metadata": {
        "id": "pHE4IOI53PS3"
      },
      "execution_count": null,
      "outputs": []
    },
    {
      "cell_type": "code",
      "source": [
        "batch_size = 30 \n",
        "num_epochs = 1000\n",
        "learning_rate = 0.01\n",
        "size_hidden_1 = 200 \n",
        "size_hidden_2 = 200 \n",
        "num_classes = 2\n",
        "\n",
        "batch_no = len(X_train) // batch_size  "
      ],
      "metadata": {
        "id": "58mc5AQdx1r5"
      },
      "execution_count": null,
      "outputs": []
    },
    {
      "cell_type": "code",
      "source": [
        "device = torch.device(\"cuda:0\" if torch.cuda.is_available() else \"cpu\")\n",
        "class Net(torch.nn.Module):\n",
        "    def __init__(self, num_inputs, size_hidden_1, size_hidden_2, n_output):\n",
        "        super(Net, self).__init__()\n",
        "        self.hidden_layer_1 = torch.nn.Linear(num_inputs, size_hidden_1)   # hidden layer\n",
        "        self.activation_1 = torch.nn.Tanh() # activation layer\n",
        "        self.hidden_layer_2 = torch.nn.Linear(size_hidden_1, size_hidden_2)   # hidden layer\n",
        "        self.activation_2 = torch.nn.Tanh() # activation layer\n",
        "        \n",
        "        self.output_layer = torch.nn.Linear(size_hidden_2, n_output)   # output layer\n",
        "        self.output_act = torch.nn.Sigmoid()\n",
        "\n",
        "    def forward(self, x):\n",
        "        x = self.activation_1(self.hidden_layer_1(x))      # activation function for hidden layer\n",
        "        x = self.activation_2(self.hidden_layer_2(x))      # activation function for hidden layer\n",
        "        x = self.output_act(self.output_layer(x))                    # output\n",
        "        return x\n",
        "\n",
        "net = Net(6, size_hidden_1, size_hidden_2, num_classes)\n",
        "summary(net, (1,6))"
      ],
      "metadata": {
        "id": "DdbbJPZo1JfC",
        "colab": {
          "base_uri": "https://localhost:8080/"
        },
        "outputId": "256041e2-b1d0-4ff4-a55d-c544a6986cc8"
      },
      "execution_count": null,
      "outputs": [
        {
          "output_type": "stream",
          "name": "stdout",
          "text": [
            "----------------------------------------------------------------\n",
            "        Layer (type)               Output Shape         Param #\n",
            "================================================================\n",
            "            Linear-1               [-1, 1, 200]           1,400\n",
            "              Tanh-2               [-1, 1, 200]               0\n",
            "            Linear-3               [-1, 1, 200]          40,200\n",
            "              Tanh-4               [-1, 1, 200]               0\n",
            "            Linear-5                 [-1, 1, 2]             402\n",
            "           Sigmoid-6                 [-1, 1, 2]               0\n",
            "================================================================\n",
            "Total params: 42,002\n",
            "Trainable params: 42,002\n",
            "Non-trainable params: 0\n",
            "----------------------------------------------------------------\n",
            "Input size (MB): 0.00\n",
            "Forward/backward pass size (MB): 0.01\n",
            "Params size (MB): 0.16\n",
            "Estimated Total Size (MB): 0.17\n",
            "----------------------------------------------------------------\n"
          ]
        }
      ]
    },
    {
      "cell_type": "code",
      "source": [
        "optimizer = torch.optim.SGD(net.parameters(), lr=learning_rate)\n",
        "loss_func = torch.nn.CrossEntropyLoss()"
      ],
      "metadata": {
        "id": "-_JrC5k4163o"
      },
      "execution_count": null,
      "outputs": []
    },
    {
      "cell_type": "code",
      "source": [
        "for epoch in range(num_epochs):\n",
        "    #Shuffle just mixes up the dataset between epocs\n",
        "    X_train, Y_train = shuffle(X_train, Y_train)\n",
        "\n",
        "    train_acc = 0.0\n",
        "    running_loss = 0.0\n",
        "\n",
        "    # Mini batch learning\n",
        "    for i in range(batch_no):\n",
        "        start = i * batch_size\n",
        "        end = start + batch_size\n",
        "        inputs = Variable(torch.FloatTensor(X_train[start:end]))\n",
        "        labels = Variable(torch.LongTensor(Y_train[start:end]))\n",
        "        \n",
        "        # zero the parameter gradients\n",
        "        optimizer.zero_grad()\n",
        "               \n",
        "        outputs = net(inputs)\n",
        "        \n",
        "        loss = loss_func(outputs, labels)\n",
        "        \n",
        "        loss.backward()\n",
        "        optimizer.step()\n",
        "\n",
        "        running_loss += loss.item()\n",
        "        val = get_accuracy(outputs, labels, batch_size)\n",
        "        train_acc += val\n",
        "      \n",
        "    print('Epoch: %d | Loss: %.4f | Train Accuracy: %.2f' \\\n",
        "          %(epoch+1, running_loss / (i+1), train_acc/(i+1)))  \n",
        "    running_loss = 0.0"
      ],
      "metadata": {
        "id": "oCM9U-Dv1-nW",
        "colab": {
          "base_uri": "https://localhost:8080/"
        },
        "outputId": "cce583e6-476f-4ff5-8ca3-6aa0ee2225af"
      },
      "execution_count": null,
      "outputs": [
        {
          "output_type": "stream",
          "name": "stdout",
          "text": [
            "Epoch: 1 | Loss: 0.4952 | Train Accuracy: 95.67\n",
            "Epoch: 2 | Loss: 0.3950 | Train Accuracy: 95.94\n",
            "Epoch: 3 | Loss: 0.3771 | Train Accuracy: 95.94\n",
            "Epoch: 4 | Loss: 0.3699 | Train Accuracy: 95.94\n",
            "Epoch: 5 | Loss: 0.3661 | Train Accuracy: 95.94\n",
            "Epoch: 6 | Loss: 0.3632 | Train Accuracy: 95.99\n",
            "Epoch: 7 | Loss: 0.3622 | Train Accuracy: 95.94\n",
            "Epoch: 8 | Loss: 0.3610 | Train Accuracy: 95.94\n",
            "Epoch: 9 | Loss: 0.3593 | Train Accuracy: 96.02\n",
            "Epoch: 10 | Loss: 0.3591 | Train Accuracy: 95.96\n",
            "Epoch: 11 | Loss: 0.3583 | Train Accuracy: 95.99\n",
            "Epoch: 12 | Loss: 0.3581 | Train Accuracy: 95.96\n",
            "Epoch: 13 | Loss: 0.3580 | Train Accuracy: 95.94\n",
            "Epoch: 14 | Loss: 0.3574 | Train Accuracy: 95.96\n",
            "Epoch: 15 | Loss: 0.3574 | Train Accuracy: 95.94\n",
            "Epoch: 16 | Loss: 0.3572 | Train Accuracy: 95.94\n",
            "Epoch: 17 | Loss: 0.3561 | Train Accuracy: 96.02\n",
            "Epoch: 18 | Loss: 0.3568 | Train Accuracy: 95.94\n",
            "Epoch: 19 | Loss: 0.3566 | Train Accuracy: 95.94\n",
            "Epoch: 20 | Loss: 0.3565 | Train Accuracy: 95.94\n",
            "Epoch: 21 | Loss: 0.3564 | Train Accuracy: 95.94\n",
            "Epoch: 22 | Loss: 0.3562 | Train Accuracy: 95.94\n",
            "Epoch: 23 | Loss: 0.3561 | Train Accuracy: 95.94\n",
            "Epoch: 24 | Loss: 0.3560 | Train Accuracy: 95.94\n",
            "Epoch: 25 | Loss: 0.3556 | Train Accuracy: 95.96\n",
            "Epoch: 26 | Loss: 0.3555 | Train Accuracy: 95.96\n",
            "Epoch: 27 | Loss: 0.3558 | Train Accuracy: 95.94\n",
            "Epoch: 28 | Loss: 0.3556 | Train Accuracy: 95.94\n",
            "Epoch: 29 | Loss: 0.3545 | Train Accuracy: 96.05\n",
            "Epoch: 30 | Loss: 0.3556 | Train Accuracy: 95.94\n",
            "Epoch: 31 | Loss: 0.3555 | Train Accuracy: 95.94\n",
            "Epoch: 32 | Loss: 0.3555 | Train Accuracy: 95.94\n",
            "Epoch: 33 | Loss: 0.3548 | Train Accuracy: 95.99\n",
            "Epoch: 34 | Loss: 0.3551 | Train Accuracy: 95.96\n",
            "Epoch: 35 | Loss: 0.3553 | Train Accuracy: 95.94\n",
            "Epoch: 36 | Loss: 0.3553 | Train Accuracy: 95.94\n",
            "Epoch: 37 | Loss: 0.3552 | Train Accuracy: 95.94\n",
            "Epoch: 38 | Loss: 0.3546 | Train Accuracy: 95.99\n",
            "Epoch: 39 | Loss: 0.3552 | Train Accuracy: 95.94\n",
            "Epoch: 40 | Loss: 0.3548 | Train Accuracy: 95.96\n",
            "Epoch: 41 | Loss: 0.3551 | Train Accuracy: 95.94\n",
            "Epoch: 42 | Loss: 0.3548 | Train Accuracy: 95.96\n",
            "Epoch: 43 | Loss: 0.3550 | Train Accuracy: 95.94\n",
            "Epoch: 44 | Loss: 0.3550 | Train Accuracy: 95.94\n",
            "Epoch: 45 | Loss: 0.3544 | Train Accuracy: 95.99\n",
            "Epoch: 46 | Loss: 0.3549 | Train Accuracy: 95.94\n",
            "Epoch: 47 | Loss: 0.3546 | Train Accuracy: 95.96\n",
            "Epoch: 48 | Loss: 0.3549 | Train Accuracy: 95.94\n",
            "Epoch: 49 | Loss: 0.3549 | Train Accuracy: 95.94\n",
            "Epoch: 50 | Loss: 0.3546 | Train Accuracy: 95.96\n",
            "Epoch: 51 | Loss: 0.3546 | Train Accuracy: 95.96\n",
            "Epoch: 52 | Loss: 0.3548 | Train Accuracy: 95.94\n",
            "Epoch: 53 | Loss: 0.3545 | Train Accuracy: 95.96\n",
            "Epoch: 54 | Loss: 0.3548 | Train Accuracy: 95.94\n",
            "Epoch: 55 | Loss: 0.3548 | Train Accuracy: 95.94\n",
            "Epoch: 56 | Loss: 0.3545 | Train Accuracy: 95.96\n",
            "Epoch: 57 | Loss: 0.3544 | Train Accuracy: 95.96\n",
            "Epoch: 58 | Loss: 0.3544 | Train Accuracy: 95.96\n",
            "Epoch: 59 | Loss: 0.3547 | Train Accuracy: 95.94\n",
            "Epoch: 60 | Loss: 0.3547 | Train Accuracy: 95.94\n",
            "Epoch: 61 | Loss: 0.3544 | Train Accuracy: 95.96\n",
            "Epoch: 62 | Loss: 0.3547 | Train Accuracy: 95.94\n",
            "Epoch: 63 | Loss: 0.3541 | Train Accuracy: 95.99\n",
            "Epoch: 64 | Loss: 0.3546 | Train Accuracy: 95.94\n",
            "Epoch: 65 | Loss: 0.3540 | Train Accuracy: 95.99\n",
            "Epoch: 66 | Loss: 0.3543 | Train Accuracy: 95.96\n",
            "Epoch: 67 | Loss: 0.3546 | Train Accuracy: 95.94\n",
            "Epoch: 68 | Loss: 0.3543 | Train Accuracy: 95.96\n",
            "Epoch: 69 | Loss: 0.3540 | Train Accuracy: 95.99\n",
            "Epoch: 70 | Loss: 0.3543 | Train Accuracy: 95.96\n",
            "Epoch: 71 | Loss: 0.3546 | Train Accuracy: 95.94\n",
            "Epoch: 72 | Loss: 0.3543 | Train Accuracy: 95.96\n",
            "Epoch: 73 | Loss: 0.3542 | Train Accuracy: 95.96\n",
            "Epoch: 74 | Loss: 0.3545 | Train Accuracy: 95.94\n",
            "Epoch: 75 | Loss: 0.3545 | Train Accuracy: 95.94\n",
            "Epoch: 76 | Loss: 0.3542 | Train Accuracy: 95.96\n",
            "Epoch: 77 | Loss: 0.3542 | Train Accuracy: 95.96\n",
            "Epoch: 78 | Loss: 0.3545 | Train Accuracy: 95.94\n",
            "Epoch: 79 | Loss: 0.3545 | Train Accuracy: 95.94\n",
            "Epoch: 80 | Loss: 0.3542 | Train Accuracy: 95.96\n",
            "Epoch: 81 | Loss: 0.3545 | Train Accuracy: 95.94\n",
            "Epoch: 82 | Loss: 0.3545 | Train Accuracy: 95.94\n",
            "Epoch: 83 | Loss: 0.3542 | Train Accuracy: 95.96\n",
            "Epoch: 84 | Loss: 0.3542 | Train Accuracy: 95.96\n",
            "Epoch: 85 | Loss: 0.3542 | Train Accuracy: 95.96\n",
            "Epoch: 86 | Loss: 0.3544 | Train Accuracy: 95.94\n",
            "Epoch: 87 | Loss: 0.3544 | Train Accuracy: 95.94\n",
            "Epoch: 88 | Loss: 0.3544 | Train Accuracy: 95.94\n",
            "Epoch: 89 | Loss: 0.3544 | Train Accuracy: 95.94\n",
            "Epoch: 90 | Loss: 0.3544 | Train Accuracy: 95.94\n",
            "Epoch: 91 | Loss: 0.3544 | Train Accuracy: 95.94\n",
            "Epoch: 92 | Loss: 0.3544 | Train Accuracy: 95.94\n",
            "Epoch: 93 | Loss: 0.3538 | Train Accuracy: 95.99\n",
            "Epoch: 94 | Loss: 0.3544 | Train Accuracy: 95.94\n",
            "Epoch: 95 | Loss: 0.3541 | Train Accuracy: 95.96\n",
            "Epoch: 96 | Loss: 0.3544 | Train Accuracy: 95.94\n",
            "Epoch: 97 | Loss: 0.3544 | Train Accuracy: 95.94\n",
            "Epoch: 98 | Loss: 0.3544 | Train Accuracy: 95.94\n",
            "Epoch: 99 | Loss: 0.3544 | Train Accuracy: 95.94\n",
            "Epoch: 100 | Loss: 0.3541 | Train Accuracy: 95.96\n",
            "Epoch: 101 | Loss: 0.3544 | Train Accuracy: 95.94\n",
            "Epoch: 102 | Loss: 0.3543 | Train Accuracy: 95.94\n",
            "Epoch: 103 | Loss: 0.3543 | Train Accuracy: 95.94\n",
            "Epoch: 104 | Loss: 0.3543 | Train Accuracy: 95.94\n",
            "Epoch: 105 | Loss: 0.3543 | Train Accuracy: 95.94\n",
            "Epoch: 106 | Loss: 0.3540 | Train Accuracy: 95.96\n",
            "Epoch: 107 | Loss: 0.3540 | Train Accuracy: 95.96\n",
            "Epoch: 108 | Loss: 0.3540 | Train Accuracy: 95.96\n",
            "Epoch: 109 | Loss: 0.3543 | Train Accuracy: 95.94\n",
            "Epoch: 110 | Loss: 0.3543 | Train Accuracy: 95.94\n",
            "Epoch: 111 | Loss: 0.3543 | Train Accuracy: 95.94\n",
            "Epoch: 112 | Loss: 0.3543 | Train Accuracy: 95.94\n",
            "Epoch: 113 | Loss: 0.3543 | Train Accuracy: 95.94\n",
            "Epoch: 114 | Loss: 0.3543 | Train Accuracy: 95.94\n",
            "Epoch: 115 | Loss: 0.3540 | Train Accuracy: 95.96\n",
            "Epoch: 116 | Loss: 0.3543 | Train Accuracy: 95.94\n",
            "Epoch: 117 | Loss: 0.3540 | Train Accuracy: 95.96\n",
            "Epoch: 118 | Loss: 0.3543 | Train Accuracy: 95.94\n",
            "Epoch: 119 | Loss: 0.3537 | Train Accuracy: 95.99\n",
            "Epoch: 120 | Loss: 0.3540 | Train Accuracy: 95.96\n",
            "Epoch: 121 | Loss: 0.3537 | Train Accuracy: 95.99\n",
            "Epoch: 122 | Loss: 0.3543 | Train Accuracy: 95.94\n",
            "Epoch: 123 | Loss: 0.3540 | Train Accuracy: 95.96\n",
            "Epoch: 124 | Loss: 0.3543 | Train Accuracy: 95.94\n",
            "Epoch: 125 | Loss: 0.3543 | Train Accuracy: 95.94\n",
            "Epoch: 126 | Loss: 0.3540 | Train Accuracy: 95.96\n",
            "Epoch: 127 | Loss: 0.3537 | Train Accuracy: 95.99\n",
            "Epoch: 128 | Loss: 0.3537 | Train Accuracy: 95.99\n",
            "Epoch: 129 | Loss: 0.3542 | Train Accuracy: 95.94\n",
            "Epoch: 130 | Loss: 0.3542 | Train Accuracy: 95.94\n",
            "Epoch: 131 | Loss: 0.3537 | Train Accuracy: 95.99\n",
            "Epoch: 132 | Loss: 0.3542 | Train Accuracy: 95.94\n",
            "Epoch: 133 | Loss: 0.3539 | Train Accuracy: 95.96\n",
            "Epoch: 134 | Loss: 0.3539 | Train Accuracy: 95.96\n",
            "Epoch: 135 | Loss: 0.3542 | Train Accuracy: 95.94\n",
            "Epoch: 136 | Loss: 0.3542 | Train Accuracy: 95.94\n",
            "Epoch: 137 | Loss: 0.3539 | Train Accuracy: 95.96\n",
            "Epoch: 138 | Loss: 0.3536 | Train Accuracy: 95.99\n",
            "Epoch: 139 | Loss: 0.3539 | Train Accuracy: 95.96\n",
            "Epoch: 140 | Loss: 0.3539 | Train Accuracy: 95.96\n",
            "Epoch: 141 | Loss: 0.3542 | Train Accuracy: 95.94\n",
            "Epoch: 142 | Loss: 0.3539 | Train Accuracy: 95.96\n",
            "Epoch: 143 | Loss: 0.3542 | Train Accuracy: 95.94\n",
            "Epoch: 144 | Loss: 0.3542 | Train Accuracy: 95.94\n",
            "Epoch: 145 | Loss: 0.3542 | Train Accuracy: 95.94\n",
            "Epoch: 146 | Loss: 0.3542 | Train Accuracy: 95.94\n",
            "Epoch: 147 | Loss: 0.3539 | Train Accuracy: 95.96\n",
            "Epoch: 148 | Loss: 0.3542 | Train Accuracy: 95.94\n",
            "Epoch: 149 | Loss: 0.3542 | Train Accuracy: 95.94\n",
            "Epoch: 150 | Loss: 0.3542 | Train Accuracy: 95.94\n",
            "Epoch: 151 | Loss: 0.3539 | Train Accuracy: 95.96\n",
            "Epoch: 152 | Loss: 0.3539 | Train Accuracy: 95.96\n",
            "Epoch: 153 | Loss: 0.3542 | Train Accuracy: 95.94\n",
            "Epoch: 154 | Loss: 0.3542 | Train Accuracy: 95.94\n",
            "Epoch: 155 | Loss: 0.3539 | Train Accuracy: 95.96\n",
            "Epoch: 156 | Loss: 0.3536 | Train Accuracy: 95.99\n",
            "Epoch: 157 | Loss: 0.3539 | Train Accuracy: 95.96\n",
            "Epoch: 158 | Loss: 0.3542 | Train Accuracy: 95.94\n",
            "Epoch: 159 | Loss: 0.3536 | Train Accuracy: 95.99\n",
            "Epoch: 160 | Loss: 0.3539 | Train Accuracy: 95.96\n",
            "Epoch: 161 | Loss: 0.3542 | Train Accuracy: 95.94\n",
            "Epoch: 162 | Loss: 0.3539 | Train Accuracy: 95.96\n",
            "Epoch: 163 | Loss: 0.3542 | Train Accuracy: 95.94\n",
            "Epoch: 164 | Loss: 0.3542 | Train Accuracy: 95.94\n",
            "Epoch: 165 | Loss: 0.3536 | Train Accuracy: 95.99\n",
            "Epoch: 166 | Loss: 0.3542 | Train Accuracy: 95.94\n",
            "Epoch: 167 | Loss: 0.3542 | Train Accuracy: 95.94\n",
            "Epoch: 168 | Loss: 0.3539 | Train Accuracy: 95.96\n",
            "Epoch: 169 | Loss: 0.3542 | Train Accuracy: 95.94\n",
            "Epoch: 170 | Loss: 0.3542 | Train Accuracy: 95.94\n",
            "Epoch: 171 | Loss: 0.3542 | Train Accuracy: 95.94\n",
            "Epoch: 172 | Loss: 0.3542 | Train Accuracy: 95.94\n",
            "Epoch: 173 | Loss: 0.3536 | Train Accuracy: 95.99\n",
            "Epoch: 174 | Loss: 0.3542 | Train Accuracy: 95.94\n",
            "Epoch: 175 | Loss: 0.3541 | Train Accuracy: 95.94\n",
            "Epoch: 176 | Loss: 0.3536 | Train Accuracy: 95.99\n",
            "Epoch: 177 | Loss: 0.3541 | Train Accuracy: 95.94\n",
            "Epoch: 178 | Loss: 0.3538 | Train Accuracy: 95.96\n",
            "Epoch: 179 | Loss: 0.3539 | Train Accuracy: 95.96\n",
            "Epoch: 180 | Loss: 0.3541 | Train Accuracy: 95.94\n",
            "Epoch: 181 | Loss: 0.3541 | Train Accuracy: 95.94\n",
            "Epoch: 182 | Loss: 0.3541 | Train Accuracy: 95.94\n",
            "Epoch: 183 | Loss: 0.3541 | Train Accuracy: 95.94\n",
            "Epoch: 184 | Loss: 0.3538 | Train Accuracy: 95.96\n",
            "Epoch: 185 | Loss: 0.3538 | Train Accuracy: 95.96\n",
            "Epoch: 186 | Loss: 0.3541 | Train Accuracy: 95.94\n",
            "Epoch: 187 | Loss: 0.3535 | Train Accuracy: 95.99\n",
            "Epoch: 188 | Loss: 0.3541 | Train Accuracy: 95.94\n",
            "Epoch: 189 | Loss: 0.3541 | Train Accuracy: 95.94\n",
            "Epoch: 190 | Loss: 0.3538 | Train Accuracy: 95.96\n",
            "Epoch: 191 | Loss: 0.3538 | Train Accuracy: 95.96\n",
            "Epoch: 192 | Loss: 0.3541 | Train Accuracy: 95.94\n",
            "Epoch: 193 | Loss: 0.3538 | Train Accuracy: 95.96\n",
            "Epoch: 194 | Loss: 0.3541 | Train Accuracy: 95.94\n",
            "Epoch: 195 | Loss: 0.3538 | Train Accuracy: 95.96\n",
            "Epoch: 196 | Loss: 0.3541 | Train Accuracy: 95.94\n",
            "Epoch: 197 | Loss: 0.3535 | Train Accuracy: 95.99\n",
            "Epoch: 198 | Loss: 0.3538 | Train Accuracy: 95.96\n",
            "Epoch: 199 | Loss: 0.3538 | Train Accuracy: 95.96\n",
            "Epoch: 200 | Loss: 0.3538 | Train Accuracy: 95.96\n",
            "Epoch: 201 | Loss: 0.3541 | Train Accuracy: 95.94\n",
            "Epoch: 202 | Loss: 0.3538 | Train Accuracy: 95.96\n",
            "Epoch: 203 | Loss: 0.3535 | Train Accuracy: 95.99\n",
            "Epoch: 204 | Loss: 0.3532 | Train Accuracy: 96.02\n",
            "Epoch: 205 | Loss: 0.3538 | Train Accuracy: 95.96\n",
            "Epoch: 206 | Loss: 0.3535 | Train Accuracy: 95.99\n",
            "Epoch: 207 | Loss: 0.3541 | Train Accuracy: 95.94\n",
            "Epoch: 208 | Loss: 0.3538 | Train Accuracy: 95.96\n",
            "Epoch: 209 | Loss: 0.3541 | Train Accuracy: 95.94\n",
            "Epoch: 210 | Loss: 0.3541 | Train Accuracy: 95.94\n",
            "Epoch: 211 | Loss: 0.3541 | Train Accuracy: 95.94\n",
            "Epoch: 212 | Loss: 0.3541 | Train Accuracy: 95.94\n",
            "Epoch: 213 | Loss: 0.3541 | Train Accuracy: 95.94\n",
            "Epoch: 214 | Loss: 0.3541 | Train Accuracy: 95.94\n",
            "Epoch: 215 | Loss: 0.3538 | Train Accuracy: 95.96\n",
            "Epoch: 216 | Loss: 0.3541 | Train Accuracy: 95.94\n",
            "Epoch: 217 | Loss: 0.3541 | Train Accuracy: 95.94\n",
            "Epoch: 218 | Loss: 0.3535 | Train Accuracy: 95.99\n",
            "Epoch: 219 | Loss: 0.3541 | Train Accuracy: 95.94\n",
            "Epoch: 220 | Loss: 0.3538 | Train Accuracy: 95.96\n",
            "Epoch: 221 | Loss: 0.3538 | Train Accuracy: 95.96\n",
            "Epoch: 222 | Loss: 0.3532 | Train Accuracy: 96.02\n",
            "Epoch: 223 | Loss: 0.3538 | Train Accuracy: 95.96\n",
            "Epoch: 224 | Loss: 0.3541 | Train Accuracy: 95.94\n",
            "Epoch: 225 | Loss: 0.3538 | Train Accuracy: 95.96\n",
            "Epoch: 226 | Loss: 0.3541 | Train Accuracy: 95.94\n",
            "Epoch: 227 | Loss: 0.3538 | Train Accuracy: 95.96\n",
            "Epoch: 228 | Loss: 0.3538 | Train Accuracy: 95.96\n",
            "Epoch: 229 | Loss: 0.3541 | Train Accuracy: 95.94\n",
            "Epoch: 230 | Loss: 0.3535 | Train Accuracy: 95.99\n",
            "Epoch: 231 | Loss: 0.3541 | Train Accuracy: 95.94\n",
            "Epoch: 232 | Loss: 0.3541 | Train Accuracy: 95.94\n",
            "Epoch: 233 | Loss: 0.3541 | Train Accuracy: 95.94\n",
            "Epoch: 234 | Loss: 0.3541 | Train Accuracy: 95.94\n",
            "Epoch: 235 | Loss: 0.3538 | Train Accuracy: 95.96\n",
            "Epoch: 236 | Loss: 0.3538 | Train Accuracy: 95.96\n",
            "Epoch: 237 | Loss: 0.3535 | Train Accuracy: 95.99\n",
            "Epoch: 238 | Loss: 0.3541 | Train Accuracy: 95.94\n",
            "Epoch: 239 | Loss: 0.3541 | Train Accuracy: 95.94\n",
            "Epoch: 240 | Loss: 0.3541 | Train Accuracy: 95.94\n",
            "Epoch: 241 | Loss: 0.3532 | Train Accuracy: 96.02\n",
            "Epoch: 242 | Loss: 0.3541 | Train Accuracy: 95.94\n",
            "Epoch: 243 | Loss: 0.3541 | Train Accuracy: 95.94\n",
            "Epoch: 244 | Loss: 0.3541 | Train Accuracy: 95.94\n",
            "Epoch: 245 | Loss: 0.3538 | Train Accuracy: 95.96\n",
            "Epoch: 246 | Loss: 0.3538 | Train Accuracy: 95.96\n",
            "Epoch: 247 | Loss: 0.3541 | Train Accuracy: 95.94\n",
            "Epoch: 248 | Loss: 0.3535 | Train Accuracy: 95.99\n",
            "Epoch: 249 | Loss: 0.3541 | Train Accuracy: 95.94\n",
            "Epoch: 250 | Loss: 0.3538 | Train Accuracy: 95.96\n",
            "Epoch: 251 | Loss: 0.3541 | Train Accuracy: 95.94\n",
            "Epoch: 252 | Loss: 0.3532 | Train Accuracy: 96.02\n",
            "Epoch: 253 | Loss: 0.3541 | Train Accuracy: 95.94\n",
            "Epoch: 254 | Loss: 0.3541 | Train Accuracy: 95.94\n",
            "Epoch: 255 | Loss: 0.3541 | Train Accuracy: 95.94\n",
            "Epoch: 256 | Loss: 0.3535 | Train Accuracy: 95.99\n",
            "Epoch: 257 | Loss: 0.3538 | Train Accuracy: 95.96\n",
            "Epoch: 258 | Loss: 0.3541 | Train Accuracy: 95.94\n",
            "Epoch: 259 | Loss: 0.3541 | Train Accuracy: 95.94\n",
            "Epoch: 260 | Loss: 0.3541 | Train Accuracy: 95.94\n",
            "Epoch: 261 | Loss: 0.3538 | Train Accuracy: 95.96\n",
            "Epoch: 262 | Loss: 0.3541 | Train Accuracy: 95.94\n",
            "Epoch: 263 | Loss: 0.3541 | Train Accuracy: 95.94\n",
            "Epoch: 264 | Loss: 0.3541 | Train Accuracy: 95.94\n",
            "Epoch: 265 | Loss: 0.3538 | Train Accuracy: 95.96\n",
            "Epoch: 266 | Loss: 0.3541 | Train Accuracy: 95.94\n",
            "Epoch: 267 | Loss: 0.3541 | Train Accuracy: 95.94\n",
            "Epoch: 268 | Loss: 0.3541 | Train Accuracy: 95.94\n",
            "Epoch: 269 | Loss: 0.3535 | Train Accuracy: 95.99\n",
            "Epoch: 270 | Loss: 0.3538 | Train Accuracy: 95.96\n",
            "Epoch: 271 | Loss: 0.3541 | Train Accuracy: 95.94\n",
            "Epoch: 272 | Loss: 0.3541 | Train Accuracy: 95.94\n",
            "Epoch: 273 | Loss: 0.3541 | Train Accuracy: 95.94\n",
            "Epoch: 274 | Loss: 0.3541 | Train Accuracy: 95.94\n",
            "Epoch: 275 | Loss: 0.3538 | Train Accuracy: 95.96\n",
            "Epoch: 276 | Loss: 0.3538 | Train Accuracy: 95.96\n",
            "Epoch: 277 | Loss: 0.3538 | Train Accuracy: 95.96\n",
            "Epoch: 278 | Loss: 0.3532 | Train Accuracy: 96.02\n",
            "Epoch: 279 | Loss: 0.3538 | Train Accuracy: 95.96\n",
            "Epoch: 280 | Loss: 0.3540 | Train Accuracy: 95.94\n",
            "Epoch: 281 | Loss: 0.3541 | Train Accuracy: 95.94\n",
            "Epoch: 282 | Loss: 0.3538 | Train Accuracy: 95.96\n",
            "Epoch: 283 | Loss: 0.3535 | Train Accuracy: 95.99\n",
            "Epoch: 284 | Loss: 0.3540 | Train Accuracy: 95.94\n",
            "Epoch: 285 | Loss: 0.3535 | Train Accuracy: 95.99\n",
            "Epoch: 286 | Loss: 0.3538 | Train Accuracy: 95.96\n",
            "Epoch: 287 | Loss: 0.3538 | Train Accuracy: 95.96\n",
            "Epoch: 288 | Loss: 0.3538 | Train Accuracy: 95.96\n",
            "Epoch: 289 | Loss: 0.3538 | Train Accuracy: 95.96\n",
            "Epoch: 290 | Loss: 0.3540 | Train Accuracy: 95.94\n",
            "Epoch: 291 | Loss: 0.3538 | Train Accuracy: 95.96\n",
            "Epoch: 292 | Loss: 0.3535 | Train Accuracy: 95.99\n",
            "Epoch: 293 | Loss: 0.3532 | Train Accuracy: 96.02\n",
            "Epoch: 294 | Loss: 0.3540 | Train Accuracy: 95.94\n",
            "Epoch: 295 | Loss: 0.3540 | Train Accuracy: 95.94\n",
            "Epoch: 296 | Loss: 0.3540 | Train Accuracy: 95.94\n",
            "Epoch: 297 | Loss: 0.3537 | Train Accuracy: 95.96\n",
            "Epoch: 298 | Loss: 0.3540 | Train Accuracy: 95.94\n",
            "Epoch: 299 | Loss: 0.3532 | Train Accuracy: 96.02\n",
            "Epoch: 300 | Loss: 0.3540 | Train Accuracy: 95.94\n",
            "Epoch: 301 | Loss: 0.3537 | Train Accuracy: 95.96\n",
            "Epoch: 302 | Loss: 0.3535 | Train Accuracy: 95.99\n",
            "Epoch: 303 | Loss: 0.3540 | Train Accuracy: 95.94\n",
            "Epoch: 304 | Loss: 0.3532 | Train Accuracy: 96.02\n",
            "Epoch: 305 | Loss: 0.3540 | Train Accuracy: 95.94\n",
            "Epoch: 306 | Loss: 0.3540 | Train Accuracy: 95.94\n",
            "Epoch: 307 | Loss: 0.3540 | Train Accuracy: 95.94\n",
            "Epoch: 308 | Loss: 0.3540 | Train Accuracy: 95.94\n",
            "Epoch: 309 | Loss: 0.3540 | Train Accuracy: 95.94\n",
            "Epoch: 310 | Loss: 0.3537 | Train Accuracy: 95.96\n",
            "Epoch: 311 | Loss: 0.3537 | Train Accuracy: 95.96\n",
            "Epoch: 312 | Loss: 0.3540 | Train Accuracy: 95.94\n",
            "Epoch: 313 | Loss: 0.3540 | Train Accuracy: 95.94\n",
            "Epoch: 314 | Loss: 0.3537 | Train Accuracy: 95.96\n",
            "Epoch: 315 | Loss: 0.3535 | Train Accuracy: 95.99\n",
            "Epoch: 316 | Loss: 0.3534 | Train Accuracy: 95.99\n",
            "Epoch: 317 | Loss: 0.3540 | Train Accuracy: 95.94\n",
            "Epoch: 318 | Loss: 0.3534 | Train Accuracy: 95.99\n",
            "Epoch: 319 | Loss: 0.3540 | Train Accuracy: 95.94\n",
            "Epoch: 320 | Loss: 0.3540 | Train Accuracy: 95.94\n",
            "Epoch: 321 | Loss: 0.3540 | Train Accuracy: 95.94\n",
            "Epoch: 322 | Loss: 0.3534 | Train Accuracy: 95.99\n",
            "Epoch: 323 | Loss: 0.3540 | Train Accuracy: 95.94\n",
            "Epoch: 324 | Loss: 0.3540 | Train Accuracy: 95.94\n",
            "Epoch: 325 | Loss: 0.3540 | Train Accuracy: 95.94\n",
            "Epoch: 326 | Loss: 0.3537 | Train Accuracy: 95.96\n",
            "Epoch: 327 | Loss: 0.3540 | Train Accuracy: 95.94\n",
            "Epoch: 328 | Loss: 0.3540 | Train Accuracy: 95.94\n",
            "Epoch: 329 | Loss: 0.3540 | Train Accuracy: 95.94\n",
            "Epoch: 330 | Loss: 0.3540 | Train Accuracy: 95.94\n",
            "Epoch: 331 | Loss: 0.3540 | Train Accuracy: 95.94\n",
            "Epoch: 332 | Loss: 0.3540 | Train Accuracy: 95.94\n",
            "Epoch: 333 | Loss: 0.3540 | Train Accuracy: 95.94\n",
            "Epoch: 334 | Loss: 0.3540 | Train Accuracy: 95.94\n",
            "Epoch: 335 | Loss: 0.3540 | Train Accuracy: 95.94\n",
            "Epoch: 336 | Loss: 0.3537 | Train Accuracy: 95.96\n",
            "Epoch: 337 | Loss: 0.3540 | Train Accuracy: 95.94\n",
            "Epoch: 338 | Loss: 0.3537 | Train Accuracy: 95.96\n",
            "Epoch: 339 | Loss: 0.3540 | Train Accuracy: 95.94\n",
            "Epoch: 340 | Loss: 0.3540 | Train Accuracy: 95.94\n",
            "Epoch: 341 | Loss: 0.3540 | Train Accuracy: 95.94\n",
            "Epoch: 342 | Loss: 0.3534 | Train Accuracy: 95.99\n",
            "Epoch: 343 | Loss: 0.3537 | Train Accuracy: 95.96\n",
            "Epoch: 344 | Loss: 0.3540 | Train Accuracy: 95.94\n",
            "Epoch: 345 | Loss: 0.3540 | Train Accuracy: 95.94\n",
            "Epoch: 346 | Loss: 0.3537 | Train Accuracy: 95.96\n",
            "Epoch: 347 | Loss: 0.3534 | Train Accuracy: 95.99\n",
            "Epoch: 348 | Loss: 0.3540 | Train Accuracy: 95.94\n",
            "Epoch: 349 | Loss: 0.3540 | Train Accuracy: 95.94\n",
            "Epoch: 350 | Loss: 0.3540 | Train Accuracy: 95.94\n",
            "Epoch: 351 | Loss: 0.3531 | Train Accuracy: 96.02\n",
            "Epoch: 352 | Loss: 0.3540 | Train Accuracy: 95.94\n",
            "Epoch: 353 | Loss: 0.3537 | Train Accuracy: 95.96\n",
            "Epoch: 354 | Loss: 0.3540 | Train Accuracy: 95.94\n",
            "Epoch: 355 | Loss: 0.3540 | Train Accuracy: 95.94\n",
            "Epoch: 356 | Loss: 0.3537 | Train Accuracy: 95.96\n",
            "Epoch: 357 | Loss: 0.3534 | Train Accuracy: 95.99\n",
            "Epoch: 358 | Loss: 0.3540 | Train Accuracy: 95.94\n",
            "Epoch: 359 | Loss: 0.3537 | Train Accuracy: 95.96\n",
            "Epoch: 360 | Loss: 0.3540 | Train Accuracy: 95.94\n",
            "Epoch: 361 | Loss: 0.3540 | Train Accuracy: 95.94\n",
            "Epoch: 362 | Loss: 0.3540 | Train Accuracy: 95.94\n",
            "Epoch: 363 | Loss: 0.3540 | Train Accuracy: 95.94\n",
            "Epoch: 364 | Loss: 0.3540 | Train Accuracy: 95.94\n",
            "Epoch: 365 | Loss: 0.3540 | Train Accuracy: 95.94\n",
            "Epoch: 366 | Loss: 0.3540 | Train Accuracy: 95.94\n",
            "Epoch: 367 | Loss: 0.3537 | Train Accuracy: 95.96\n",
            "Epoch: 368 | Loss: 0.3537 | Train Accuracy: 95.96\n",
            "Epoch: 369 | Loss: 0.3540 | Train Accuracy: 95.94\n",
            "Epoch: 370 | Loss: 0.3537 | Train Accuracy: 95.96\n",
            "Epoch: 371 | Loss: 0.3537 | Train Accuracy: 95.96\n",
            "Epoch: 372 | Loss: 0.3537 | Train Accuracy: 95.96\n",
            "Epoch: 373 | Loss: 0.3540 | Train Accuracy: 95.94\n",
            "Epoch: 374 | Loss: 0.3537 | Train Accuracy: 95.96\n",
            "Epoch: 375 | Loss: 0.3540 | Train Accuracy: 95.94\n",
            "Epoch: 376 | Loss: 0.3540 | Train Accuracy: 95.94\n",
            "Epoch: 377 | Loss: 0.3540 | Train Accuracy: 95.94\n",
            "Epoch: 378 | Loss: 0.3540 | Train Accuracy: 95.94\n",
            "Epoch: 379 | Loss: 0.3540 | Train Accuracy: 95.94\n",
            "Epoch: 380 | Loss: 0.3537 | Train Accuracy: 95.96\n",
            "Epoch: 381 | Loss: 0.3540 | Train Accuracy: 95.94\n",
            "Epoch: 382 | Loss: 0.3537 | Train Accuracy: 95.96\n",
            "Epoch: 383 | Loss: 0.3540 | Train Accuracy: 95.94\n",
            "Epoch: 384 | Loss: 0.3534 | Train Accuracy: 95.99\n",
            "Epoch: 385 | Loss: 0.3540 | Train Accuracy: 95.94\n",
            "Epoch: 386 | Loss: 0.3534 | Train Accuracy: 95.99\n",
            "Epoch: 387 | Loss: 0.3540 | Train Accuracy: 95.94\n",
            "Epoch: 388 | Loss: 0.3540 | Train Accuracy: 95.94\n",
            "Epoch: 389 | Loss: 0.3540 | Train Accuracy: 95.94\n",
            "Epoch: 390 | Loss: 0.3540 | Train Accuracy: 95.94\n",
            "Epoch: 391 | Loss: 0.3534 | Train Accuracy: 95.99\n",
            "Epoch: 392 | Loss: 0.3540 | Train Accuracy: 95.94\n",
            "Epoch: 393 | Loss: 0.3537 | Train Accuracy: 95.96\n",
            "Epoch: 394 | Loss: 0.3537 | Train Accuracy: 95.96\n",
            "Epoch: 395 | Loss: 0.3537 | Train Accuracy: 95.96\n",
            "Epoch: 396 | Loss: 0.3540 | Train Accuracy: 95.94\n",
            "Epoch: 397 | Loss: 0.3534 | Train Accuracy: 95.99\n",
            "Epoch: 398 | Loss: 0.3537 | Train Accuracy: 95.96\n",
            "Epoch: 399 | Loss: 0.3537 | Train Accuracy: 95.96\n",
            "Epoch: 400 | Loss: 0.3534 | Train Accuracy: 95.99\n",
            "Epoch: 401 | Loss: 0.3537 | Train Accuracy: 95.96\n",
            "Epoch: 402 | Loss: 0.3537 | Train Accuracy: 95.96\n",
            "Epoch: 403 | Loss: 0.3540 | Train Accuracy: 95.94\n",
            "Epoch: 404 | Loss: 0.3537 | Train Accuracy: 95.96\n",
            "Epoch: 405 | Loss: 0.3540 | Train Accuracy: 95.94\n",
            "Epoch: 406 | Loss: 0.3534 | Train Accuracy: 95.99\n",
            "Epoch: 407 | Loss: 0.3528 | Train Accuracy: 96.05\n",
            "Epoch: 408 | Loss: 0.3540 | Train Accuracy: 95.94\n",
            "Epoch: 409 | Loss: 0.3540 | Train Accuracy: 95.94\n",
            "Epoch: 410 | Loss: 0.3540 | Train Accuracy: 95.94\n",
            "Epoch: 411 | Loss: 0.3537 | Train Accuracy: 95.96\n",
            "Epoch: 412 | Loss: 0.3537 | Train Accuracy: 95.96\n",
            "Epoch: 413 | Loss: 0.3534 | Train Accuracy: 95.99\n",
            "Epoch: 414 | Loss: 0.3540 | Train Accuracy: 95.94\n",
            "Epoch: 415 | Loss: 0.3537 | Train Accuracy: 95.96\n",
            "Epoch: 416 | Loss: 0.3537 | Train Accuracy: 95.96\n",
            "Epoch: 417 | Loss: 0.3537 | Train Accuracy: 95.96\n",
            "Epoch: 418 | Loss: 0.3540 | Train Accuracy: 95.94\n",
            "Epoch: 419 | Loss: 0.3537 | Train Accuracy: 95.96\n",
            "Epoch: 420 | Loss: 0.3540 | Train Accuracy: 95.94\n",
            "Epoch: 421 | Loss: 0.3540 | Train Accuracy: 95.94\n",
            "Epoch: 422 | Loss: 0.3540 | Train Accuracy: 95.94\n",
            "Epoch: 423 | Loss: 0.3537 | Train Accuracy: 95.96\n",
            "Epoch: 424 | Loss: 0.3537 | Train Accuracy: 95.96\n",
            "Epoch: 425 | Loss: 0.3537 | Train Accuracy: 95.96\n",
            "Epoch: 426 | Loss: 0.3534 | Train Accuracy: 95.99\n",
            "Epoch: 427 | Loss: 0.3540 | Train Accuracy: 95.94\n",
            "Epoch: 428 | Loss: 0.3537 | Train Accuracy: 95.96\n",
            "Epoch: 429 | Loss: 0.3534 | Train Accuracy: 95.99\n",
            "Epoch: 430 | Loss: 0.3540 | Train Accuracy: 95.94\n",
            "Epoch: 431 | Loss: 0.3537 | Train Accuracy: 95.96\n",
            "Epoch: 432 | Loss: 0.3540 | Train Accuracy: 95.94\n",
            "Epoch: 433 | Loss: 0.3540 | Train Accuracy: 95.94\n",
            "Epoch: 434 | Loss: 0.3540 | Train Accuracy: 95.94\n",
            "Epoch: 435 | Loss: 0.3537 | Train Accuracy: 95.96\n",
            "Epoch: 436 | Loss: 0.3537 | Train Accuracy: 95.96\n",
            "Epoch: 437 | Loss: 0.3540 | Train Accuracy: 95.94\n",
            "Epoch: 438 | Loss: 0.3537 | Train Accuracy: 95.96\n",
            "Epoch: 439 | Loss: 0.3540 | Train Accuracy: 95.94\n",
            "Epoch: 440 | Loss: 0.3540 | Train Accuracy: 95.94\n",
            "Epoch: 441 | Loss: 0.3540 | Train Accuracy: 95.94\n",
            "Epoch: 442 | Loss: 0.3540 | Train Accuracy: 95.94\n",
            "Epoch: 443 | Loss: 0.3537 | Train Accuracy: 95.96\n",
            "Epoch: 444 | Loss: 0.3540 | Train Accuracy: 95.94\n",
            "Epoch: 445 | Loss: 0.3540 | Train Accuracy: 95.94\n",
            "Epoch: 446 | Loss: 0.3540 | Train Accuracy: 95.94\n",
            "Epoch: 447 | Loss: 0.3537 | Train Accuracy: 95.96\n",
            "Epoch: 448 | Loss: 0.3540 | Train Accuracy: 95.94\n",
            "Epoch: 449 | Loss: 0.3540 | Train Accuracy: 95.94\n",
            "Epoch: 450 | Loss: 0.3537 | Train Accuracy: 95.96\n",
            "Epoch: 451 | Loss: 0.3540 | Train Accuracy: 95.94\n",
            "Epoch: 452 | Loss: 0.3534 | Train Accuracy: 95.99\n",
            "Epoch: 453 | Loss: 0.3537 | Train Accuracy: 95.96\n",
            "Epoch: 454 | Loss: 0.3537 | Train Accuracy: 95.96\n",
            "Epoch: 455 | Loss: 0.3534 | Train Accuracy: 95.99\n",
            "Epoch: 456 | Loss: 0.3540 | Train Accuracy: 95.94\n",
            "Epoch: 457 | Loss: 0.3540 | Train Accuracy: 95.94\n",
            "Epoch: 458 | Loss: 0.3534 | Train Accuracy: 95.99\n",
            "Epoch: 459 | Loss: 0.3540 | Train Accuracy: 95.94\n",
            "Epoch: 460 | Loss: 0.3540 | Train Accuracy: 95.94\n",
            "Epoch: 461 | Loss: 0.3540 | Train Accuracy: 95.94\n",
            "Epoch: 462 | Loss: 0.3540 | Train Accuracy: 95.94\n",
            "Epoch: 463 | Loss: 0.3537 | Train Accuracy: 95.96\n",
            "Epoch: 464 | Loss: 0.3540 | Train Accuracy: 95.94\n",
            "Epoch: 465 | Loss: 0.3540 | Train Accuracy: 95.94\n",
            "Epoch: 466 | Loss: 0.3537 | Train Accuracy: 95.96\n",
            "Epoch: 467 | Loss: 0.3537 | Train Accuracy: 95.96\n",
            "Epoch: 468 | Loss: 0.3540 | Train Accuracy: 95.94\n",
            "Epoch: 469 | Loss: 0.3537 | Train Accuracy: 95.96\n",
            "Epoch: 470 | Loss: 0.3534 | Train Accuracy: 95.99\n",
            "Epoch: 471 | Loss: 0.3537 | Train Accuracy: 95.96\n",
            "Epoch: 472 | Loss: 0.3537 | Train Accuracy: 95.96\n",
            "Epoch: 473 | Loss: 0.3540 | Train Accuracy: 95.94\n",
            "Epoch: 474 | Loss: 0.3537 | Train Accuracy: 95.96\n",
            "Epoch: 475 | Loss: 0.3540 | Train Accuracy: 95.94\n",
            "Epoch: 476 | Loss: 0.3540 | Train Accuracy: 95.94\n",
            "Epoch: 477 | Loss: 0.3534 | Train Accuracy: 95.99\n",
            "Epoch: 478 | Loss: 0.3537 | Train Accuracy: 95.96\n",
            "Epoch: 479 | Loss: 0.3540 | Train Accuracy: 95.94\n",
            "Epoch: 480 | Loss: 0.3537 | Train Accuracy: 95.96\n",
            "Epoch: 481 | Loss: 0.3537 | Train Accuracy: 95.96\n",
            "Epoch: 482 | Loss: 0.3540 | Train Accuracy: 95.94\n",
            "Epoch: 483 | Loss: 0.3537 | Train Accuracy: 95.96\n",
            "Epoch: 484 | Loss: 0.3537 | Train Accuracy: 95.96\n",
            "Epoch: 485 | Loss: 0.3537 | Train Accuracy: 95.96\n",
            "Epoch: 486 | Loss: 0.3537 | Train Accuracy: 95.96\n",
            "Epoch: 487 | Loss: 0.3540 | Train Accuracy: 95.94\n",
            "Epoch: 488 | Loss: 0.3534 | Train Accuracy: 95.99\n",
            "Epoch: 489 | Loss: 0.3534 | Train Accuracy: 95.99\n",
            "Epoch: 490 | Loss: 0.3537 | Train Accuracy: 95.96\n",
            "Epoch: 491 | Loss: 0.3540 | Train Accuracy: 95.94\n",
            "Epoch: 492 | Loss: 0.3540 | Train Accuracy: 95.94\n",
            "Epoch: 493 | Loss: 0.3534 | Train Accuracy: 95.99\n",
            "Epoch: 494 | Loss: 0.3537 | Train Accuracy: 95.96\n",
            "Epoch: 495 | Loss: 0.3537 | Train Accuracy: 95.96\n",
            "Epoch: 496 | Loss: 0.3540 | Train Accuracy: 95.94\n",
            "Epoch: 497 | Loss: 0.3537 | Train Accuracy: 95.96\n",
            "Epoch: 498 | Loss: 0.3537 | Train Accuracy: 95.96\n",
            "Epoch: 499 | Loss: 0.3540 | Train Accuracy: 95.94\n",
            "Epoch: 500 | Loss: 0.3540 | Train Accuracy: 95.94\n",
            "Epoch: 501 | Loss: 0.3540 | Train Accuracy: 95.94\n",
            "Epoch: 502 | Loss: 0.3537 | Train Accuracy: 95.96\n",
            "Epoch: 503 | Loss: 0.3540 | Train Accuracy: 95.94\n",
            "Epoch: 504 | Loss: 0.3540 | Train Accuracy: 95.94\n",
            "Epoch: 505 | Loss: 0.3540 | Train Accuracy: 95.94\n",
            "Epoch: 506 | Loss: 0.3540 | Train Accuracy: 95.94\n",
            "Epoch: 507 | Loss: 0.3540 | Train Accuracy: 95.94\n",
            "Epoch: 508 | Loss: 0.3531 | Train Accuracy: 96.02\n",
            "Epoch: 509 | Loss: 0.3540 | Train Accuracy: 95.94\n",
            "Epoch: 510 | Loss: 0.3537 | Train Accuracy: 95.96\n",
            "Epoch: 511 | Loss: 0.3540 | Train Accuracy: 95.94\n",
            "Epoch: 512 | Loss: 0.3540 | Train Accuracy: 95.94\n",
            "Epoch: 513 | Loss: 0.3537 | Train Accuracy: 95.96\n",
            "Epoch: 514 | Loss: 0.3537 | Train Accuracy: 95.96\n",
            "Epoch: 515 | Loss: 0.3534 | Train Accuracy: 95.99\n",
            "Epoch: 516 | Loss: 0.3537 | Train Accuracy: 95.96\n",
            "Epoch: 517 | Loss: 0.3540 | Train Accuracy: 95.94\n",
            "Epoch: 518 | Loss: 0.3540 | Train Accuracy: 95.94\n",
            "Epoch: 519 | Loss: 0.3537 | Train Accuracy: 95.96\n",
            "Epoch: 520 | Loss: 0.3537 | Train Accuracy: 95.96\n",
            "Epoch: 521 | Loss: 0.3540 | Train Accuracy: 95.94\n",
            "Epoch: 522 | Loss: 0.3540 | Train Accuracy: 95.94\n",
            "Epoch: 523 | Loss: 0.3540 | Train Accuracy: 95.94\n",
            "Epoch: 524 | Loss: 0.3540 | Train Accuracy: 95.94\n",
            "Epoch: 525 | Loss: 0.3534 | Train Accuracy: 95.99\n",
            "Epoch: 526 | Loss: 0.3537 | Train Accuracy: 95.96\n",
            "Epoch: 527 | Loss: 0.3534 | Train Accuracy: 95.99\n",
            "Epoch: 528 | Loss: 0.3537 | Train Accuracy: 95.96\n",
            "Epoch: 529 | Loss: 0.3537 | Train Accuracy: 95.96\n",
            "Epoch: 530 | Loss: 0.3540 | Train Accuracy: 95.94\n",
            "Epoch: 531 | Loss: 0.3537 | Train Accuracy: 95.96\n",
            "Epoch: 532 | Loss: 0.3537 | Train Accuracy: 95.96\n",
            "Epoch: 533 | Loss: 0.3540 | Train Accuracy: 95.94\n",
            "Epoch: 534 | Loss: 0.3537 | Train Accuracy: 95.96\n",
            "Epoch: 535 | Loss: 0.3537 | Train Accuracy: 95.96\n",
            "Epoch: 536 | Loss: 0.3534 | Train Accuracy: 95.99\n",
            "Epoch: 537 | Loss: 0.3534 | Train Accuracy: 95.99\n",
            "Epoch: 538 | Loss: 0.3537 | Train Accuracy: 95.96\n",
            "Epoch: 539 | Loss: 0.3537 | Train Accuracy: 95.96\n",
            "Epoch: 540 | Loss: 0.3540 | Train Accuracy: 95.94\n",
            "Epoch: 541 | Loss: 0.3540 | Train Accuracy: 95.94\n",
            "Epoch: 542 | Loss: 0.3537 | Train Accuracy: 95.96\n",
            "Epoch: 543 | Loss: 0.3537 | Train Accuracy: 95.96\n",
            "Epoch: 544 | Loss: 0.3534 | Train Accuracy: 95.99\n",
            "Epoch: 545 | Loss: 0.3537 | Train Accuracy: 95.96\n",
            "Epoch: 546 | Loss: 0.3537 | Train Accuracy: 95.96\n",
            "Epoch: 547 | Loss: 0.3534 | Train Accuracy: 95.99\n",
            "Epoch: 548 | Loss: 0.3540 | Train Accuracy: 95.94\n",
            "Epoch: 549 | Loss: 0.3540 | Train Accuracy: 95.94\n",
            "Epoch: 550 | Loss: 0.3540 | Train Accuracy: 95.94\n",
            "Epoch: 551 | Loss: 0.3534 | Train Accuracy: 95.99\n",
            "Epoch: 552 | Loss: 0.3537 | Train Accuracy: 95.96\n",
            "Epoch: 553 | Loss: 0.3534 | Train Accuracy: 95.99\n",
            "Epoch: 554 | Loss: 0.3537 | Train Accuracy: 95.96\n",
            "Epoch: 555 | Loss: 0.3537 | Train Accuracy: 95.96\n",
            "Epoch: 556 | Loss: 0.3537 | Train Accuracy: 95.96\n",
            "Epoch: 557 | Loss: 0.3540 | Train Accuracy: 95.94\n",
            "Epoch: 558 | Loss: 0.3540 | Train Accuracy: 95.94\n",
            "Epoch: 559 | Loss: 0.3540 | Train Accuracy: 95.94\n",
            "Epoch: 560 | Loss: 0.3537 | Train Accuracy: 95.96\n",
            "Epoch: 561 | Loss: 0.3537 | Train Accuracy: 95.96\n",
            "Epoch: 562 | Loss: 0.3537 | Train Accuracy: 95.96\n",
            "Epoch: 563 | Loss: 0.3540 | Train Accuracy: 95.94\n",
            "Epoch: 564 | Loss: 0.3540 | Train Accuracy: 95.94\n",
            "Epoch: 565 | Loss: 0.3537 | Train Accuracy: 95.96\n",
            "Epoch: 566 | Loss: 0.3540 | Train Accuracy: 95.94\n",
            "Epoch: 567 | Loss: 0.3540 | Train Accuracy: 95.94\n",
            "Epoch: 568 | Loss: 0.3540 | Train Accuracy: 95.94\n",
            "Epoch: 569 | Loss: 0.3540 | Train Accuracy: 95.94\n",
            "Epoch: 570 | Loss: 0.3534 | Train Accuracy: 95.99\n",
            "Epoch: 571 | Loss: 0.3537 | Train Accuracy: 95.96\n",
            "Epoch: 572 | Loss: 0.3537 | Train Accuracy: 95.96\n",
            "Epoch: 573 | Loss: 0.3534 | Train Accuracy: 95.99\n",
            "Epoch: 574 | Loss: 0.3534 | Train Accuracy: 95.99\n",
            "Epoch: 575 | Loss: 0.3537 | Train Accuracy: 95.96\n",
            "Epoch: 576 | Loss: 0.3540 | Train Accuracy: 95.94\n",
            "Epoch: 577 | Loss: 0.3540 | Train Accuracy: 95.94\n",
            "Epoch: 578 | Loss: 0.3537 | Train Accuracy: 95.96\n",
            "Epoch: 579 | Loss: 0.3540 | Train Accuracy: 95.94\n",
            "Epoch: 580 | Loss: 0.3540 | Train Accuracy: 95.94\n",
            "Epoch: 581 | Loss: 0.3540 | Train Accuracy: 95.94\n",
            "Epoch: 582 | Loss: 0.3534 | Train Accuracy: 95.99\n",
            "Epoch: 583 | Loss: 0.3540 | Train Accuracy: 95.94\n",
            "Epoch: 584 | Loss: 0.3537 | Train Accuracy: 95.96\n",
            "Epoch: 585 | Loss: 0.3534 | Train Accuracy: 95.99\n",
            "Epoch: 586 | Loss: 0.3537 | Train Accuracy: 95.96\n",
            "Epoch: 587 | Loss: 0.3540 | Train Accuracy: 95.94\n",
            "Epoch: 588 | Loss: 0.3531 | Train Accuracy: 96.02\n",
            "Epoch: 589 | Loss: 0.3537 | Train Accuracy: 95.96\n",
            "Epoch: 590 | Loss: 0.3534 | Train Accuracy: 95.99\n",
            "Epoch: 591 | Loss: 0.3540 | Train Accuracy: 95.94\n",
            "Epoch: 592 | Loss: 0.3534 | Train Accuracy: 95.99\n",
            "Epoch: 593 | Loss: 0.3540 | Train Accuracy: 95.94\n",
            "Epoch: 594 | Loss: 0.3540 | Train Accuracy: 95.94\n",
            "Epoch: 595 | Loss: 0.3540 | Train Accuracy: 95.94\n",
            "Epoch: 596 | Loss: 0.3540 | Train Accuracy: 95.94\n",
            "Epoch: 597 | Loss: 0.3540 | Train Accuracy: 95.94\n",
            "Epoch: 598 | Loss: 0.3534 | Train Accuracy: 95.99\n",
            "Epoch: 599 | Loss: 0.3534 | Train Accuracy: 95.99\n",
            "Epoch: 600 | Loss: 0.3534 | Train Accuracy: 95.99\n",
            "Epoch: 601 | Loss: 0.3540 | Train Accuracy: 95.94\n",
            "Epoch: 602 | Loss: 0.3537 | Train Accuracy: 95.96\n",
            "Epoch: 603 | Loss: 0.3540 | Train Accuracy: 95.94\n",
            "Epoch: 604 | Loss: 0.3537 | Train Accuracy: 95.96\n",
            "Epoch: 605 | Loss: 0.3531 | Train Accuracy: 96.02\n",
            "Epoch: 606 | Loss: 0.3540 | Train Accuracy: 95.94\n",
            "Epoch: 607 | Loss: 0.3537 | Train Accuracy: 95.96\n",
            "Epoch: 608 | Loss: 0.3540 | Train Accuracy: 95.94\n",
            "Epoch: 609 | Loss: 0.3540 | Train Accuracy: 95.94\n",
            "Epoch: 610 | Loss: 0.3540 | Train Accuracy: 95.94\n",
            "Epoch: 611 | Loss: 0.3540 | Train Accuracy: 95.94\n",
            "Epoch: 612 | Loss: 0.3537 | Train Accuracy: 95.96\n",
            "Epoch: 613 | Loss: 0.3540 | Train Accuracy: 95.94\n",
            "Epoch: 614 | Loss: 0.3540 | Train Accuracy: 95.94\n",
            "Epoch: 615 | Loss: 0.3540 | Train Accuracy: 95.94\n",
            "Epoch: 616 | Loss: 0.3540 | Train Accuracy: 95.94\n",
            "Epoch: 617 | Loss: 0.3537 | Train Accuracy: 95.96\n",
            "Epoch: 618 | Loss: 0.3540 | Train Accuracy: 95.94\n",
            "Epoch: 619 | Loss: 0.3537 | Train Accuracy: 95.96\n",
            "Epoch: 620 | Loss: 0.3537 | Train Accuracy: 95.96\n",
            "Epoch: 621 | Loss: 0.3540 | Train Accuracy: 95.94\n",
            "Epoch: 622 | Loss: 0.3540 | Train Accuracy: 95.94\n",
            "Epoch: 623 | Loss: 0.3537 | Train Accuracy: 95.96\n",
            "Epoch: 624 | Loss: 0.3540 | Train Accuracy: 95.94\n",
            "Epoch: 625 | Loss: 0.3531 | Train Accuracy: 96.02\n",
            "Epoch: 626 | Loss: 0.3540 | Train Accuracy: 95.94\n",
            "Epoch: 627 | Loss: 0.3537 | Train Accuracy: 95.96\n",
            "Epoch: 628 | Loss: 0.3534 | Train Accuracy: 95.99\n",
            "Epoch: 629 | Loss: 0.3540 | Train Accuracy: 95.94\n",
            "Epoch: 630 | Loss: 0.3534 | Train Accuracy: 95.99\n",
            "Epoch: 631 | Loss: 0.3540 | Train Accuracy: 95.94\n",
            "Epoch: 632 | Loss: 0.3540 | Train Accuracy: 95.94\n",
            "Epoch: 633 | Loss: 0.3540 | Train Accuracy: 95.94\n",
            "Epoch: 634 | Loss: 0.3537 | Train Accuracy: 95.96\n",
            "Epoch: 635 | Loss: 0.3540 | Train Accuracy: 95.94\n",
            "Epoch: 636 | Loss: 0.3534 | Train Accuracy: 95.99\n",
            "Epoch: 637 | Loss: 0.3540 | Train Accuracy: 95.94\n",
            "Epoch: 638 | Loss: 0.3540 | Train Accuracy: 95.94\n",
            "Epoch: 639 | Loss: 0.3540 | Train Accuracy: 95.94\n",
            "Epoch: 640 | Loss: 0.3534 | Train Accuracy: 95.99\n",
            "Epoch: 641 | Loss: 0.3540 | Train Accuracy: 95.94\n",
            "Epoch: 642 | Loss: 0.3537 | Train Accuracy: 95.96\n",
            "Epoch: 643 | Loss: 0.3537 | Train Accuracy: 95.96\n",
            "Epoch: 644 | Loss: 0.3540 | Train Accuracy: 95.94\n",
            "Epoch: 645 | Loss: 0.3534 | Train Accuracy: 95.99\n",
            "Epoch: 646 | Loss: 0.3540 | Train Accuracy: 95.94\n",
            "Epoch: 647 | Loss: 0.3540 | Train Accuracy: 95.94\n",
            "Epoch: 648 | Loss: 0.3534 | Train Accuracy: 95.99\n",
            "Epoch: 649 | Loss: 0.3534 | Train Accuracy: 95.99\n",
            "Epoch: 650 | Loss: 0.3534 | Train Accuracy: 95.99\n",
            "Epoch: 651 | Loss: 0.3537 | Train Accuracy: 95.96\n",
            "Epoch: 652 | Loss: 0.3537 | Train Accuracy: 95.96\n",
            "Epoch: 653 | Loss: 0.3540 | Train Accuracy: 95.94\n",
            "Epoch: 654 | Loss: 0.3540 | Train Accuracy: 95.94\n",
            "Epoch: 655 | Loss: 0.3534 | Train Accuracy: 95.99\n",
            "Epoch: 656 | Loss: 0.3540 | Train Accuracy: 95.94\n",
            "Epoch: 657 | Loss: 0.3537 | Train Accuracy: 95.96\n",
            "Epoch: 658 | Loss: 0.3537 | Train Accuracy: 95.96\n",
            "Epoch: 659 | Loss: 0.3537 | Train Accuracy: 95.96\n",
            "Epoch: 660 | Loss: 0.3534 | Train Accuracy: 95.99\n",
            "Epoch: 661 | Loss: 0.3540 | Train Accuracy: 95.94\n",
            "Epoch: 662 | Loss: 0.3537 | Train Accuracy: 95.96\n",
            "Epoch: 663 | Loss: 0.3540 | Train Accuracy: 95.94\n",
            "Epoch: 664 | Loss: 0.3540 | Train Accuracy: 95.94\n",
            "Epoch: 665 | Loss: 0.3540 | Train Accuracy: 95.94\n",
            "Epoch: 666 | Loss: 0.3540 | Train Accuracy: 95.94\n",
            "Epoch: 667 | Loss: 0.3537 | Train Accuracy: 95.96\n",
            "Epoch: 668 | Loss: 0.3540 | Train Accuracy: 95.94\n",
            "Epoch: 669 | Loss: 0.3540 | Train Accuracy: 95.94\n",
            "Epoch: 670 | Loss: 0.3537 | Train Accuracy: 95.96\n",
            "Epoch: 671 | Loss: 0.3537 | Train Accuracy: 95.96\n",
            "Epoch: 672 | Loss: 0.3534 | Train Accuracy: 95.99\n",
            "Epoch: 673 | Loss: 0.3534 | Train Accuracy: 95.99\n",
            "Epoch: 674 | Loss: 0.3534 | Train Accuracy: 95.99\n",
            "Epoch: 675 | Loss: 0.3537 | Train Accuracy: 95.96\n",
            "Epoch: 676 | Loss: 0.3534 | Train Accuracy: 95.99\n",
            "Epoch: 677 | Loss: 0.3537 | Train Accuracy: 95.96\n",
            "Epoch: 678 | Loss: 0.3540 | Train Accuracy: 95.94\n",
            "Epoch: 679 | Loss: 0.3528 | Train Accuracy: 96.05\n",
            "Epoch: 680 | Loss: 0.3537 | Train Accuracy: 95.96\n",
            "Epoch: 681 | Loss: 0.3534 | Train Accuracy: 95.99\n",
            "Epoch: 682 | Loss: 0.3534 | Train Accuracy: 95.99\n",
            "Epoch: 683 | Loss: 0.3540 | Train Accuracy: 95.94\n",
            "Epoch: 684 | Loss: 0.3540 | Train Accuracy: 95.94\n",
            "Epoch: 685 | Loss: 0.3537 | Train Accuracy: 95.96\n",
            "Epoch: 686 | Loss: 0.3537 | Train Accuracy: 95.96\n",
            "Epoch: 687 | Loss: 0.3540 | Train Accuracy: 95.94\n",
            "Epoch: 688 | Loss: 0.3540 | Train Accuracy: 95.94\n",
            "Epoch: 689 | Loss: 0.3537 | Train Accuracy: 95.96\n",
            "Epoch: 690 | Loss: 0.3537 | Train Accuracy: 95.96\n",
            "Epoch: 691 | Loss: 0.3540 | Train Accuracy: 95.94\n",
            "Epoch: 692 | Loss: 0.3537 | Train Accuracy: 95.96\n",
            "Epoch: 693 | Loss: 0.3537 | Train Accuracy: 95.96\n",
            "Epoch: 694 | Loss: 0.3537 | Train Accuracy: 95.96\n",
            "Epoch: 695 | Loss: 0.3540 | Train Accuracy: 95.94\n",
            "Epoch: 696 | Loss: 0.3537 | Train Accuracy: 95.96\n",
            "Epoch: 697 | Loss: 0.3540 | Train Accuracy: 95.94\n",
            "Epoch: 698 | Loss: 0.3540 | Train Accuracy: 95.94\n",
            "Epoch: 699 | Loss: 0.3537 | Train Accuracy: 95.96\n",
            "Epoch: 700 | Loss: 0.3537 | Train Accuracy: 95.96\n",
            "Epoch: 701 | Loss: 0.3540 | Train Accuracy: 95.94\n",
            "Epoch: 702 | Loss: 0.3540 | Train Accuracy: 95.94\n",
            "Epoch: 703 | Loss: 0.3540 | Train Accuracy: 95.94\n",
            "Epoch: 704 | Loss: 0.3540 | Train Accuracy: 95.94\n",
            "Epoch: 705 | Loss: 0.3537 | Train Accuracy: 95.96\n",
            "Epoch: 706 | Loss: 0.3540 | Train Accuracy: 95.94\n",
            "Epoch: 707 | Loss: 0.3540 | Train Accuracy: 95.94\n",
            "Epoch: 708 | Loss: 0.3537 | Train Accuracy: 95.96\n",
            "Epoch: 709 | Loss: 0.3537 | Train Accuracy: 95.96\n",
            "Epoch: 710 | Loss: 0.3531 | Train Accuracy: 96.02\n",
            "Epoch: 711 | Loss: 0.3537 | Train Accuracy: 95.96\n",
            "Epoch: 712 | Loss: 0.3540 | Train Accuracy: 95.94\n",
            "Epoch: 713 | Loss: 0.3537 | Train Accuracy: 95.96\n",
            "Epoch: 714 | Loss: 0.3537 | Train Accuracy: 95.96\n",
            "Epoch: 715 | Loss: 0.3540 | Train Accuracy: 95.94\n",
            "Epoch: 716 | Loss: 0.3540 | Train Accuracy: 95.94\n",
            "Epoch: 717 | Loss: 0.3540 | Train Accuracy: 95.94\n",
            "Epoch: 718 | Loss: 0.3540 | Train Accuracy: 95.94\n",
            "Epoch: 719 | Loss: 0.3537 | Train Accuracy: 95.96\n",
            "Epoch: 720 | Loss: 0.3537 | Train Accuracy: 95.96\n",
            "Epoch: 721 | Loss: 0.3534 | Train Accuracy: 95.99\n",
            "Epoch: 722 | Loss: 0.3540 | Train Accuracy: 95.94\n",
            "Epoch: 723 | Loss: 0.3540 | Train Accuracy: 95.94\n",
            "Epoch: 724 | Loss: 0.3540 | Train Accuracy: 95.94\n",
            "Epoch: 725 | Loss: 0.3537 | Train Accuracy: 95.96\n",
            "Epoch: 726 | Loss: 0.3537 | Train Accuracy: 95.96\n",
            "Epoch: 727 | Loss: 0.3540 | Train Accuracy: 95.94\n",
            "Epoch: 728 | Loss: 0.3540 | Train Accuracy: 95.94\n",
            "Epoch: 729 | Loss: 0.3537 | Train Accuracy: 95.96\n",
            "Epoch: 730 | Loss: 0.3537 | Train Accuracy: 95.96\n",
            "Epoch: 731 | Loss: 0.3540 | Train Accuracy: 95.94\n",
            "Epoch: 732 | Loss: 0.3537 | Train Accuracy: 95.96\n",
            "Epoch: 733 | Loss: 0.3534 | Train Accuracy: 95.99\n",
            "Epoch: 734 | Loss: 0.3537 | Train Accuracy: 95.96\n",
            "Epoch: 735 | Loss: 0.3540 | Train Accuracy: 95.94\n",
            "Epoch: 736 | Loss: 0.3537 | Train Accuracy: 95.96\n",
            "Epoch: 737 | Loss: 0.3537 | Train Accuracy: 95.96\n",
            "Epoch: 738 | Loss: 0.3540 | Train Accuracy: 95.94\n",
            "Epoch: 739 | Loss: 0.3540 | Train Accuracy: 95.94\n",
            "Epoch: 740 | Loss: 0.3537 | Train Accuracy: 95.96\n",
            "Epoch: 741 | Loss: 0.3540 | Train Accuracy: 95.94\n",
            "Epoch: 742 | Loss: 0.3540 | Train Accuracy: 95.94\n",
            "Epoch: 743 | Loss: 0.3537 | Train Accuracy: 95.96\n",
            "Epoch: 744 | Loss: 0.3540 | Train Accuracy: 95.94\n",
            "Epoch: 745 | Loss: 0.3540 | Train Accuracy: 95.94\n",
            "Epoch: 746 | Loss: 0.3537 | Train Accuracy: 95.96\n",
            "Epoch: 747 | Loss: 0.3531 | Train Accuracy: 96.02\n",
            "Epoch: 748 | Loss: 0.3540 | Train Accuracy: 95.94\n",
            "Epoch: 749 | Loss: 0.3540 | Train Accuracy: 95.94\n",
            "Epoch: 750 | Loss: 0.3540 | Train Accuracy: 95.94\n",
            "Epoch: 751 | Loss: 0.3540 | Train Accuracy: 95.94\n",
            "Epoch: 752 | Loss: 0.3537 | Train Accuracy: 95.96\n",
            "Epoch: 753 | Loss: 0.3540 | Train Accuracy: 95.94\n",
            "Epoch: 754 | Loss: 0.3534 | Train Accuracy: 95.99\n",
            "Epoch: 755 | Loss: 0.3531 | Train Accuracy: 96.02\n",
            "Epoch: 756 | Loss: 0.3537 | Train Accuracy: 95.96\n",
            "Epoch: 757 | Loss: 0.3537 | Train Accuracy: 95.96\n",
            "Epoch: 758 | Loss: 0.3540 | Train Accuracy: 95.94\n",
            "Epoch: 759 | Loss: 0.3540 | Train Accuracy: 95.94\n",
            "Epoch: 760 | Loss: 0.3540 | Train Accuracy: 95.94\n",
            "Epoch: 761 | Loss: 0.3537 | Train Accuracy: 95.96\n",
            "Epoch: 762 | Loss: 0.3540 | Train Accuracy: 95.94\n",
            "Epoch: 763 | Loss: 0.3540 | Train Accuracy: 95.94\n",
            "Epoch: 764 | Loss: 0.3540 | Train Accuracy: 95.94\n",
            "Epoch: 765 | Loss: 0.3537 | Train Accuracy: 95.96\n",
            "Epoch: 766 | Loss: 0.3540 | Train Accuracy: 95.94\n",
            "Epoch: 767 | Loss: 0.3540 | Train Accuracy: 95.94\n",
            "Epoch: 768 | Loss: 0.3537 | Train Accuracy: 95.96\n",
            "Epoch: 769 | Loss: 0.3540 | Train Accuracy: 95.94\n",
            "Epoch: 770 | Loss: 0.3537 | Train Accuracy: 95.96\n",
            "Epoch: 771 | Loss: 0.3534 | Train Accuracy: 95.99\n",
            "Epoch: 772 | Loss: 0.3537 | Train Accuracy: 95.96\n",
            "Epoch: 773 | Loss: 0.3537 | Train Accuracy: 95.96\n",
            "Epoch: 774 | Loss: 0.3537 | Train Accuracy: 95.96\n",
            "Epoch: 775 | Loss: 0.3531 | Train Accuracy: 96.02\n",
            "Epoch: 776 | Loss: 0.3540 | Train Accuracy: 95.94\n",
            "Epoch: 777 | Loss: 0.3537 | Train Accuracy: 95.96\n",
            "Epoch: 778 | Loss: 0.3540 | Train Accuracy: 95.94\n",
            "Epoch: 779 | Loss: 0.3537 | Train Accuracy: 95.96\n",
            "Epoch: 780 | Loss: 0.3537 | Train Accuracy: 95.96\n",
            "Epoch: 781 | Loss: 0.3540 | Train Accuracy: 95.94\n",
            "Epoch: 782 | Loss: 0.3534 | Train Accuracy: 95.99\n",
            "Epoch: 783 | Loss: 0.3537 | Train Accuracy: 95.96\n",
            "Epoch: 784 | Loss: 0.3537 | Train Accuracy: 95.96\n",
            "Epoch: 785 | Loss: 0.3537 | Train Accuracy: 95.96\n",
            "Epoch: 786 | Loss: 0.3540 | Train Accuracy: 95.94\n",
            "Epoch: 787 | Loss: 0.3537 | Train Accuracy: 95.96\n",
            "Epoch: 788 | Loss: 0.3537 | Train Accuracy: 95.96\n",
            "Epoch: 789 | Loss: 0.3531 | Train Accuracy: 96.02\n",
            "Epoch: 790 | Loss: 0.3540 | Train Accuracy: 95.94\n",
            "Epoch: 791 | Loss: 0.3540 | Train Accuracy: 95.94\n",
            "Epoch: 792 | Loss: 0.3537 | Train Accuracy: 95.96\n",
            "Epoch: 793 | Loss: 0.3540 | Train Accuracy: 95.94\n",
            "Epoch: 794 | Loss: 0.3540 | Train Accuracy: 95.94\n",
            "Epoch: 795 | Loss: 0.3540 | Train Accuracy: 95.94\n",
            "Epoch: 796 | Loss: 0.3540 | Train Accuracy: 95.94\n",
            "Epoch: 797 | Loss: 0.3540 | Train Accuracy: 95.94\n",
            "Epoch: 798 | Loss: 0.3540 | Train Accuracy: 95.94\n",
            "Epoch: 799 | Loss: 0.3540 | Train Accuracy: 95.94\n",
            "Epoch: 800 | Loss: 0.3537 | Train Accuracy: 95.96\n",
            "Epoch: 801 | Loss: 0.3539 | Train Accuracy: 95.94\n",
            "Epoch: 802 | Loss: 0.3539 | Train Accuracy: 95.94\n",
            "Epoch: 803 | Loss: 0.3537 | Train Accuracy: 95.96\n",
            "Epoch: 804 | Loss: 0.3540 | Train Accuracy: 95.94\n",
            "Epoch: 805 | Loss: 0.3540 | Train Accuracy: 95.94\n",
            "Epoch: 806 | Loss: 0.3534 | Train Accuracy: 95.99\n",
            "Epoch: 807 | Loss: 0.3539 | Train Accuracy: 95.94\n",
            "Epoch: 808 | Loss: 0.3539 | Train Accuracy: 95.94\n",
            "Epoch: 809 | Loss: 0.3537 | Train Accuracy: 95.96\n",
            "Epoch: 810 | Loss: 0.3540 | Train Accuracy: 95.94\n",
            "Epoch: 811 | Loss: 0.3539 | Train Accuracy: 95.94\n",
            "Epoch: 812 | Loss: 0.3537 | Train Accuracy: 95.96\n",
            "Epoch: 813 | Loss: 0.3537 | Train Accuracy: 95.96\n",
            "Epoch: 814 | Loss: 0.3537 | Train Accuracy: 95.96\n",
            "Epoch: 815 | Loss: 0.3539 | Train Accuracy: 95.94\n",
            "Epoch: 816 | Loss: 0.3539 | Train Accuracy: 95.94\n",
            "Epoch: 817 | Loss: 0.3539 | Train Accuracy: 95.94\n",
            "Epoch: 818 | Loss: 0.3537 | Train Accuracy: 95.96\n",
            "Epoch: 819 | Loss: 0.3534 | Train Accuracy: 95.99\n",
            "Epoch: 820 | Loss: 0.3534 | Train Accuracy: 95.99\n",
            "Epoch: 821 | Loss: 0.3539 | Train Accuracy: 95.94\n",
            "Epoch: 822 | Loss: 0.3537 | Train Accuracy: 95.96\n",
            "Epoch: 823 | Loss: 0.3539 | Train Accuracy: 95.94\n",
            "Epoch: 824 | Loss: 0.3539 | Train Accuracy: 95.94\n",
            "Epoch: 825 | Loss: 0.3539 | Train Accuracy: 95.94\n",
            "Epoch: 826 | Loss: 0.3534 | Train Accuracy: 95.99\n",
            "Epoch: 827 | Loss: 0.3539 | Train Accuracy: 95.94\n",
            "Epoch: 828 | Loss: 0.3539 | Train Accuracy: 95.94\n",
            "Epoch: 829 | Loss: 0.3534 | Train Accuracy: 95.99\n",
            "Epoch: 830 | Loss: 0.3539 | Train Accuracy: 95.94\n",
            "Epoch: 831 | Loss: 0.3539 | Train Accuracy: 95.94\n",
            "Epoch: 832 | Loss: 0.3534 | Train Accuracy: 95.99\n",
            "Epoch: 833 | Loss: 0.3539 | Train Accuracy: 95.94\n",
            "Epoch: 834 | Loss: 0.3537 | Train Accuracy: 95.96\n",
            "Epoch: 835 | Loss: 0.3534 | Train Accuracy: 95.99\n",
            "Epoch: 836 | Loss: 0.3539 | Train Accuracy: 95.94\n",
            "Epoch: 837 | Loss: 0.3537 | Train Accuracy: 95.96\n",
            "Epoch: 838 | Loss: 0.3537 | Train Accuracy: 95.96\n",
            "Epoch: 839 | Loss: 0.3539 | Train Accuracy: 95.94\n",
            "Epoch: 840 | Loss: 0.3539 | Train Accuracy: 95.94\n",
            "Epoch: 841 | Loss: 0.3539 | Train Accuracy: 95.94\n",
            "Epoch: 842 | Loss: 0.3537 | Train Accuracy: 95.96\n",
            "Epoch: 843 | Loss: 0.3539 | Train Accuracy: 95.94\n",
            "Epoch: 844 | Loss: 0.3539 | Train Accuracy: 95.94\n",
            "Epoch: 845 | Loss: 0.3537 | Train Accuracy: 95.96\n",
            "Epoch: 846 | Loss: 0.3537 | Train Accuracy: 95.96\n",
            "Epoch: 847 | Loss: 0.3539 | Train Accuracy: 95.94\n",
            "Epoch: 848 | Loss: 0.3537 | Train Accuracy: 95.96\n",
            "Epoch: 849 | Loss: 0.3539 | Train Accuracy: 95.94\n",
            "Epoch: 850 | Loss: 0.3531 | Train Accuracy: 96.02\n",
            "Epoch: 851 | Loss: 0.3539 | Train Accuracy: 95.94\n",
            "Epoch: 852 | Loss: 0.3539 | Train Accuracy: 95.94\n",
            "Epoch: 853 | Loss: 0.3537 | Train Accuracy: 95.96\n",
            "Epoch: 854 | Loss: 0.3534 | Train Accuracy: 95.99\n",
            "Epoch: 855 | Loss: 0.3539 | Train Accuracy: 95.94\n",
            "Epoch: 856 | Loss: 0.3539 | Train Accuracy: 95.94\n",
            "Epoch: 857 | Loss: 0.3539 | Train Accuracy: 95.94\n",
            "Epoch: 858 | Loss: 0.3539 | Train Accuracy: 95.94\n",
            "Epoch: 859 | Loss: 0.3534 | Train Accuracy: 95.99\n",
            "Epoch: 860 | Loss: 0.3534 | Train Accuracy: 95.99\n",
            "Epoch: 861 | Loss: 0.3534 | Train Accuracy: 95.99\n",
            "Epoch: 862 | Loss: 0.3537 | Train Accuracy: 95.96\n",
            "Epoch: 863 | Loss: 0.3539 | Train Accuracy: 95.94\n",
            "Epoch: 864 | Loss: 0.3539 | Train Accuracy: 95.94\n",
            "Epoch: 865 | Loss: 0.3537 | Train Accuracy: 95.96\n",
            "Epoch: 866 | Loss: 0.3537 | Train Accuracy: 95.96\n",
            "Epoch: 867 | Loss: 0.3539 | Train Accuracy: 95.94\n",
            "Epoch: 868 | Loss: 0.3537 | Train Accuracy: 95.96\n",
            "Epoch: 869 | Loss: 0.3539 | Train Accuracy: 95.94\n",
            "Epoch: 870 | Loss: 0.3537 | Train Accuracy: 95.96\n",
            "Epoch: 871 | Loss: 0.3537 | Train Accuracy: 95.96\n",
            "Epoch: 872 | Loss: 0.3537 | Train Accuracy: 95.96\n",
            "Epoch: 873 | Loss: 0.3539 | Train Accuracy: 95.94\n",
            "Epoch: 874 | Loss: 0.3537 | Train Accuracy: 95.96\n",
            "Epoch: 875 | Loss: 0.3537 | Train Accuracy: 95.96\n",
            "Epoch: 876 | Loss: 0.3537 | Train Accuracy: 95.96\n",
            "Epoch: 877 | Loss: 0.3534 | Train Accuracy: 95.99\n",
            "Epoch: 878 | Loss: 0.3539 | Train Accuracy: 95.94\n",
            "Epoch: 879 | Loss: 0.3539 | Train Accuracy: 95.94\n",
            "Epoch: 880 | Loss: 0.3539 | Train Accuracy: 95.94\n",
            "Epoch: 881 | Loss: 0.3539 | Train Accuracy: 95.94\n",
            "Epoch: 882 | Loss: 0.3537 | Train Accuracy: 95.96\n",
            "Epoch: 883 | Loss: 0.3539 | Train Accuracy: 95.94\n",
            "Epoch: 884 | Loss: 0.3539 | Train Accuracy: 95.94\n",
            "Epoch: 885 | Loss: 0.3537 | Train Accuracy: 95.96\n",
            "Epoch: 886 | Loss: 0.3539 | Train Accuracy: 95.94\n",
            "Epoch: 887 | Loss: 0.3539 | Train Accuracy: 95.94\n",
            "Epoch: 888 | Loss: 0.3539 | Train Accuracy: 95.94\n",
            "Epoch: 889 | Loss: 0.3537 | Train Accuracy: 95.96\n",
            "Epoch: 890 | Loss: 0.3537 | Train Accuracy: 95.96\n",
            "Epoch: 891 | Loss: 0.3534 | Train Accuracy: 95.99\n",
            "Epoch: 892 | Loss: 0.3539 | Train Accuracy: 95.94\n",
            "Epoch: 893 | Loss: 0.3539 | Train Accuracy: 95.94\n",
            "Epoch: 894 | Loss: 0.3537 | Train Accuracy: 95.96\n",
            "Epoch: 895 | Loss: 0.3539 | Train Accuracy: 95.94\n",
            "Epoch: 896 | Loss: 0.3539 | Train Accuracy: 95.94\n",
            "Epoch: 897 | Loss: 0.3539 | Train Accuracy: 95.94\n",
            "Epoch: 898 | Loss: 0.3539 | Train Accuracy: 95.94\n",
            "Epoch: 899 | Loss: 0.3528 | Train Accuracy: 96.05\n",
            "Epoch: 900 | Loss: 0.3537 | Train Accuracy: 95.96\n",
            "Epoch: 901 | Loss: 0.3539 | Train Accuracy: 95.94\n",
            "Epoch: 902 | Loss: 0.3537 | Train Accuracy: 95.96\n",
            "Epoch: 903 | Loss: 0.3537 | Train Accuracy: 95.96\n",
            "Epoch: 904 | Loss: 0.3534 | Train Accuracy: 95.99\n",
            "Epoch: 905 | Loss: 0.3528 | Train Accuracy: 96.05\n",
            "Epoch: 906 | Loss: 0.3534 | Train Accuracy: 95.99\n",
            "Epoch: 907 | Loss: 0.3539 | Train Accuracy: 95.94\n",
            "Epoch: 908 | Loss: 0.3539 | Train Accuracy: 95.94\n",
            "Epoch: 909 | Loss: 0.3534 | Train Accuracy: 95.99\n",
            "Epoch: 910 | Loss: 0.3539 | Train Accuracy: 95.94\n",
            "Epoch: 911 | Loss: 0.3539 | Train Accuracy: 95.94\n",
            "Epoch: 912 | Loss: 0.3539 | Train Accuracy: 95.94\n",
            "Epoch: 913 | Loss: 0.3539 | Train Accuracy: 95.94\n",
            "Epoch: 914 | Loss: 0.3539 | Train Accuracy: 95.94\n",
            "Epoch: 915 | Loss: 0.3539 | Train Accuracy: 95.94\n",
            "Epoch: 916 | Loss: 0.3537 | Train Accuracy: 95.96\n",
            "Epoch: 917 | Loss: 0.3537 | Train Accuracy: 95.96\n",
            "Epoch: 918 | Loss: 0.3539 | Train Accuracy: 95.94\n",
            "Epoch: 919 | Loss: 0.3537 | Train Accuracy: 95.96\n",
            "Epoch: 920 | Loss: 0.3539 | Train Accuracy: 95.94\n",
            "Epoch: 921 | Loss: 0.3539 | Train Accuracy: 95.94\n",
            "Epoch: 922 | Loss: 0.3534 | Train Accuracy: 95.99\n",
            "Epoch: 923 | Loss: 0.3539 | Train Accuracy: 95.94\n",
            "Epoch: 924 | Loss: 0.3539 | Train Accuracy: 95.94\n",
            "Epoch: 925 | Loss: 0.3537 | Train Accuracy: 95.96\n",
            "Epoch: 926 | Loss: 0.3539 | Train Accuracy: 95.94\n",
            "Epoch: 927 | Loss: 0.3525 | Train Accuracy: 96.08\n",
            "Epoch: 928 | Loss: 0.3534 | Train Accuracy: 95.99\n",
            "Epoch: 929 | Loss: 0.3537 | Train Accuracy: 95.96\n",
            "Epoch: 930 | Loss: 0.3539 | Train Accuracy: 95.94\n",
            "Epoch: 931 | Loss: 0.3539 | Train Accuracy: 95.94\n",
            "Epoch: 932 | Loss: 0.3537 | Train Accuracy: 95.96\n",
            "Epoch: 933 | Loss: 0.3539 | Train Accuracy: 95.94\n",
            "Epoch: 934 | Loss: 0.3539 | Train Accuracy: 95.94\n",
            "Epoch: 935 | Loss: 0.3539 | Train Accuracy: 95.94\n",
            "Epoch: 936 | Loss: 0.3537 | Train Accuracy: 95.96\n",
            "Epoch: 937 | Loss: 0.3534 | Train Accuracy: 95.99\n",
            "Epoch: 938 | Loss: 0.3536 | Train Accuracy: 95.96\n",
            "Epoch: 939 | Loss: 0.3539 | Train Accuracy: 95.94\n",
            "Epoch: 940 | Loss: 0.3539 | Train Accuracy: 95.94\n",
            "Epoch: 941 | Loss: 0.3539 | Train Accuracy: 95.94\n",
            "Epoch: 942 | Loss: 0.3537 | Train Accuracy: 95.96\n",
            "Epoch: 943 | Loss: 0.3539 | Train Accuracy: 95.94\n",
            "Epoch: 944 | Loss: 0.3537 | Train Accuracy: 95.96\n",
            "Epoch: 945 | Loss: 0.3537 | Train Accuracy: 95.96\n",
            "Epoch: 946 | Loss: 0.3537 | Train Accuracy: 95.96\n",
            "Epoch: 947 | Loss: 0.3539 | Train Accuracy: 95.94\n",
            "Epoch: 948 | Loss: 0.3534 | Train Accuracy: 95.99\n",
            "Epoch: 949 | Loss: 0.3539 | Train Accuracy: 95.94\n",
            "Epoch: 950 | Loss: 0.3539 | Train Accuracy: 95.94\n",
            "Epoch: 951 | Loss: 0.3537 | Train Accuracy: 95.96\n",
            "Epoch: 952 | Loss: 0.3537 | Train Accuracy: 95.96\n",
            "Epoch: 953 | Loss: 0.3537 | Train Accuracy: 95.96\n",
            "Epoch: 954 | Loss: 0.3539 | Train Accuracy: 95.94\n",
            "Epoch: 955 | Loss: 0.3537 | Train Accuracy: 95.96\n",
            "Epoch: 956 | Loss: 0.3539 | Train Accuracy: 95.94\n",
            "Epoch: 957 | Loss: 0.3534 | Train Accuracy: 95.99\n",
            "Epoch: 958 | Loss: 0.3537 | Train Accuracy: 95.96\n",
            "Epoch: 959 | Loss: 0.3536 | Train Accuracy: 95.96\n",
            "Epoch: 960 | Loss: 0.3539 | Train Accuracy: 95.94\n",
            "Epoch: 961 | Loss: 0.3539 | Train Accuracy: 95.94\n",
            "Epoch: 962 | Loss: 0.3539 | Train Accuracy: 95.94\n",
            "Epoch: 963 | Loss: 0.3539 | Train Accuracy: 95.94\n",
            "Epoch: 964 | Loss: 0.3539 | Train Accuracy: 95.94\n",
            "Epoch: 965 | Loss: 0.3536 | Train Accuracy: 95.96\n",
            "Epoch: 966 | Loss: 0.3536 | Train Accuracy: 95.96\n",
            "Epoch: 967 | Loss: 0.3539 | Train Accuracy: 95.94\n",
            "Epoch: 968 | Loss: 0.3539 | Train Accuracy: 95.94\n",
            "Epoch: 969 | Loss: 0.3539 | Train Accuracy: 95.94\n",
            "Epoch: 970 | Loss: 0.3534 | Train Accuracy: 95.99\n",
            "Epoch: 971 | Loss: 0.3539 | Train Accuracy: 95.94\n",
            "Epoch: 972 | Loss: 0.3539 | Train Accuracy: 95.94\n",
            "Epoch: 973 | Loss: 0.3534 | Train Accuracy: 95.99\n",
            "Epoch: 974 | Loss: 0.3528 | Train Accuracy: 96.05\n",
            "Epoch: 975 | Loss: 0.3536 | Train Accuracy: 95.96\n",
            "Epoch: 976 | Loss: 0.3536 | Train Accuracy: 95.96\n",
            "Epoch: 977 | Loss: 0.3531 | Train Accuracy: 96.02\n",
            "Epoch: 978 | Loss: 0.3534 | Train Accuracy: 95.99\n",
            "Epoch: 979 | Loss: 0.3539 | Train Accuracy: 95.94\n",
            "Epoch: 980 | Loss: 0.3539 | Train Accuracy: 95.94\n",
            "Epoch: 981 | Loss: 0.3539 | Train Accuracy: 95.94\n",
            "Epoch: 982 | Loss: 0.3536 | Train Accuracy: 95.96\n",
            "Epoch: 983 | Loss: 0.3539 | Train Accuracy: 95.94\n",
            "Epoch: 984 | Loss: 0.3531 | Train Accuracy: 96.02\n",
            "Epoch: 985 | Loss: 0.3539 | Train Accuracy: 95.94\n",
            "Epoch: 986 | Loss: 0.3536 | Train Accuracy: 95.96\n",
            "Epoch: 987 | Loss: 0.3539 | Train Accuracy: 95.94\n",
            "Epoch: 988 | Loss: 0.3536 | Train Accuracy: 95.96\n",
            "Epoch: 989 | Loss: 0.3539 | Train Accuracy: 95.94\n",
            "Epoch: 990 | Loss: 0.3534 | Train Accuracy: 95.99\n",
            "Epoch: 991 | Loss: 0.3534 | Train Accuracy: 95.99\n",
            "Epoch: 992 | Loss: 0.3539 | Train Accuracy: 95.94\n",
            "Epoch: 993 | Loss: 0.3539 | Train Accuracy: 95.94\n",
            "Epoch: 994 | Loss: 0.3536 | Train Accuracy: 95.96\n",
            "Epoch: 995 | Loss: 0.3536 | Train Accuracy: 95.96\n",
            "Epoch: 996 | Loss: 0.3536 | Train Accuracy: 95.96\n",
            "Epoch: 997 | Loss: 0.3539 | Train Accuracy: 95.94\n",
            "Epoch: 998 | Loss: 0.3539 | Train Accuracy: 95.94\n",
            "Epoch: 999 | Loss: 0.3534 | Train Accuracy: 95.99\n",
            "Epoch: 1000 | Loss: 0.3539 | Train Accuracy: 95.94\n"
          ]
        }
      ]
    },
    {
      "cell_type": "markdown",
      "source": [
        "The training Accuracy for neural network is not that good compared to other models so we decided to drop it"
      ],
      "metadata": {
        "id": "4_kNZpI5lrrH"
      }
    },
    {
      "cell_type": "markdown",
      "source": [
        "#Pipeline"
      ],
      "metadata": {
        "id": "kYmlSquJkG6J"
      }
    },
    {
      "cell_type": "markdown",
      "source": [
        "Implementing a pipeline with LabelEncoder and StandardScaler for preprocessing and LGBM Classifier as the classification model"
      ],
      "metadata": {
        "id": "j0aogatwlXmc"
      }
    },
    {
      "cell_type": "code",
      "source": [
        "from sklearn.pipeline import Pipeline\n",
        "from sklearn import set_config\n",
        "from sklearn.base import BaseEstimator\n",
        "from sklearn.compose import ColumnTransformer\n",
        "from sklearn.pipeline import make_pipeline"
      ],
      "metadata": {
        "id": "bXRWatFQkZDq"
      },
      "execution_count": null,
      "outputs": []
    },
    {
      "cell_type": "code",
      "source": [
        "from sklearn.base import TransformerMixin\n",
        "class preprocess(BaseEstimator , TransformerMixin):\n",
        "  def __init__(self):\n",
        "    print(\"init() function called\")\n",
        "\n",
        "  def fit(self , X , y = None):\n",
        "    print(\"fit() function called\")\n",
        "    return self\n",
        "  def transform(self , X , y = None):\n",
        "    X = X.drop(columns = ['bmi' , 'hypertension' , 'heart_disease' , 'ever_married' , 'id'])\n",
        "    continuous_columns = ['age', 'avg_glucose_level']\n",
        "    categorical_columns = ['gender','work_type','Residence_type','smoking_status']\n",
        "    scaler = StandardScaler()\n",
        "    le = LabelEncoder()\n",
        "    X[continuous_columns] = scaler.fit_transform(X[continuous_columns])\n",
        "    for col in categorical_columns:\n",
        "      X[col] = le.fit_transform(X[col])\n",
        "    \n",
        "    return X\n"
      ],
      "metadata": {
        "id": "EWfMUgtlDlkP"
      },
      "execution_count": null,
      "outputs": []
    },
    {
      "cell_type": "code",
      "source": [
        "pl = Pipeline([ ('preprocess' , preprocess()), ('classifier', rf_gs.best_estimator_) ])\n",
        "new_data = pd.read_csv(\"/content/healthcare-dataset-stroke-data.csv\")\n",
        "new_data = new_data.dropna()\n",
        "x_train , x_test, y_train , y_test = tts(new_data.drop(columns = 'stroke') , new_data.stroke , test_size = 0.3 , shuffle = True)\n",
        "# print(x_train)\n",
        "pl.fit(x_train, y_train)\n",
        "y_pred = pl.predict(x_test)"
      ],
      "metadata": {
        "colab": {
          "base_uri": "https://localhost:8080/"
        },
        "id": "bHO-_14jkIFd",
        "outputId": "a7bcc62d-2431-4b21-81cf-f9bc9893c3e1"
      },
      "execution_count": null,
      "outputs": [
        {
          "output_type": "stream",
          "name": "stdout",
          "text": [
            "init() function called\n",
            "fit() function called\n"
          ]
        }
      ]
    },
    {
      "cell_type": "code",
      "source": [
        "a , b = np.unique(y_pred , return_counts = True)\n",
        "print(\"Number of 0s and 1s in the predicted data is : \" , b)\n",
        "a , b = np.unique(y_test , return_counts = True)\n",
        "print(\"Number of 0s and 1s in the actual testing data is : \" ,b)\n",
        "print(\"Accuracy : \" , acc(y_test , y_pred ))\n",
        "print(\"F1 Score : \" , f1( y_test , y_pred))"
      ],
      "metadata": {
        "colab": {
          "base_uri": "https://localhost:8080/"
        },
        "id": "zHMsAIcHGluJ",
        "outputId": "ad9287cd-15ae-4e3d-a491-56351d8403d1"
      },
      "execution_count": null,
      "outputs": [
        {
          "output_type": "stream",
          "name": "stdout",
          "text": [
            "Number of 0s and 1s in the predicted data is :  [1439   34]\n",
            "Number of 0s and 1s in the predicted data is :  [1406   67]\n",
            "Accuracy :  0.9368635437881874\n",
            "F1 Score :  0.07920792079207921\n"
          ]
        }
      ]
    },
    {
      "cell_type": "code",
      "source": [
        "set_config(display=\"diagram\")\n",
        "pl"
      ],
      "metadata": {
        "id": "WgI_Tym5nA1O",
        "colab": {
          "base_uri": "https://localhost:8080/",
          "height": 126
        },
        "outputId": "cabc839e-3b82-4a7b-d5a4-71f361dee77d"
      },
      "execution_count": null,
      "outputs": [
        {
          "output_type": "execute_result",
          "data": {
            "text/plain": [
              "Pipeline(steps=[('preprocess', preprocess()),\n",
              "                ('classifier', LGBMClassifier(max_depth=30, n_estimators=900))])"
            ],
            "text/html": [
              "<style>#sk-d8bc2f50-44f2-48dd-ad61-c1b2e14dd8a6 {color: black;background-color: white;}#sk-d8bc2f50-44f2-48dd-ad61-c1b2e14dd8a6 pre{padding: 0;}#sk-d8bc2f50-44f2-48dd-ad61-c1b2e14dd8a6 div.sk-toggleable {background-color: white;}#sk-d8bc2f50-44f2-48dd-ad61-c1b2e14dd8a6 label.sk-toggleable__label {cursor: pointer;display: block;width: 100%;margin-bottom: 0;padding: 0.3em;box-sizing: border-box;text-align: center;}#sk-d8bc2f50-44f2-48dd-ad61-c1b2e14dd8a6 label.sk-toggleable__label-arrow:before {content: \"▸\";float: left;margin-right: 0.25em;color: #696969;}#sk-d8bc2f50-44f2-48dd-ad61-c1b2e14dd8a6 label.sk-toggleable__label-arrow:hover:before {color: black;}#sk-d8bc2f50-44f2-48dd-ad61-c1b2e14dd8a6 div.sk-estimator:hover label.sk-toggleable__label-arrow:before {color: black;}#sk-d8bc2f50-44f2-48dd-ad61-c1b2e14dd8a6 div.sk-toggleable__content {max-height: 0;max-width: 0;overflow: hidden;text-align: left;background-color: #f0f8ff;}#sk-d8bc2f50-44f2-48dd-ad61-c1b2e14dd8a6 div.sk-toggleable__content pre {margin: 0.2em;color: black;border-radius: 0.25em;background-color: #f0f8ff;}#sk-d8bc2f50-44f2-48dd-ad61-c1b2e14dd8a6 input.sk-toggleable__control:checked~div.sk-toggleable__content {max-height: 200px;max-width: 100%;overflow: auto;}#sk-d8bc2f50-44f2-48dd-ad61-c1b2e14dd8a6 input.sk-toggleable__control:checked~label.sk-toggleable__label-arrow:before {content: \"▾\";}#sk-d8bc2f50-44f2-48dd-ad61-c1b2e14dd8a6 div.sk-estimator input.sk-toggleable__control:checked~label.sk-toggleable__label {background-color: #d4ebff;}#sk-d8bc2f50-44f2-48dd-ad61-c1b2e14dd8a6 div.sk-label input.sk-toggleable__control:checked~label.sk-toggleable__label {background-color: #d4ebff;}#sk-d8bc2f50-44f2-48dd-ad61-c1b2e14dd8a6 input.sk-hidden--visually {border: 0;clip: rect(1px 1px 1px 1px);clip: rect(1px, 1px, 1px, 1px);height: 1px;margin: -1px;overflow: hidden;padding: 0;position: absolute;width: 1px;}#sk-d8bc2f50-44f2-48dd-ad61-c1b2e14dd8a6 div.sk-estimator {font-family: monospace;background-color: #f0f8ff;border: 1px dotted black;border-radius: 0.25em;box-sizing: border-box;margin-bottom: 0.5em;}#sk-d8bc2f50-44f2-48dd-ad61-c1b2e14dd8a6 div.sk-estimator:hover {background-color: #d4ebff;}#sk-d8bc2f50-44f2-48dd-ad61-c1b2e14dd8a6 div.sk-parallel-item::after {content: \"\";width: 100%;border-bottom: 1px solid gray;flex-grow: 1;}#sk-d8bc2f50-44f2-48dd-ad61-c1b2e14dd8a6 div.sk-label:hover label.sk-toggleable__label {background-color: #d4ebff;}#sk-d8bc2f50-44f2-48dd-ad61-c1b2e14dd8a6 div.sk-serial::before {content: \"\";position: absolute;border-left: 1px solid gray;box-sizing: border-box;top: 2em;bottom: 0;left: 50%;}#sk-d8bc2f50-44f2-48dd-ad61-c1b2e14dd8a6 div.sk-serial {display: flex;flex-direction: column;align-items: center;background-color: white;padding-right: 0.2em;padding-left: 0.2em;}#sk-d8bc2f50-44f2-48dd-ad61-c1b2e14dd8a6 div.sk-item {z-index: 1;}#sk-d8bc2f50-44f2-48dd-ad61-c1b2e14dd8a6 div.sk-parallel {display: flex;align-items: stretch;justify-content: center;background-color: white;}#sk-d8bc2f50-44f2-48dd-ad61-c1b2e14dd8a6 div.sk-parallel::before {content: \"\";position: absolute;border-left: 1px solid gray;box-sizing: border-box;top: 2em;bottom: 0;left: 50%;}#sk-d8bc2f50-44f2-48dd-ad61-c1b2e14dd8a6 div.sk-parallel-item {display: flex;flex-direction: column;position: relative;background-color: white;}#sk-d8bc2f50-44f2-48dd-ad61-c1b2e14dd8a6 div.sk-parallel-item:first-child::after {align-self: flex-end;width: 50%;}#sk-d8bc2f50-44f2-48dd-ad61-c1b2e14dd8a6 div.sk-parallel-item:last-child::after {align-self: flex-start;width: 50%;}#sk-d8bc2f50-44f2-48dd-ad61-c1b2e14dd8a6 div.sk-parallel-item:only-child::after {width: 0;}#sk-d8bc2f50-44f2-48dd-ad61-c1b2e14dd8a6 div.sk-dashed-wrapped {border: 1px dashed gray;margin: 0 0.4em 0.5em 0.4em;box-sizing: border-box;padding-bottom: 0.4em;background-color: white;position: relative;}#sk-d8bc2f50-44f2-48dd-ad61-c1b2e14dd8a6 div.sk-label label {font-family: monospace;font-weight: bold;background-color: white;display: inline-block;line-height: 1.2em;}#sk-d8bc2f50-44f2-48dd-ad61-c1b2e14dd8a6 div.sk-label-container {position: relative;z-index: 2;text-align: center;}#sk-d8bc2f50-44f2-48dd-ad61-c1b2e14dd8a6 div.sk-container {/* jupyter's `normalize.less` sets `[hidden] { display: none; }` but bootstrap.min.css set `[hidden] { display: none !important; }` so we also need the `!important` here to be able to override the default hidden behavior on the sphinx rendered scikit-learn.org. See: https://github.com/scikit-learn/scikit-learn/issues/21755 */display: inline-block !important;position: relative;}#sk-d8bc2f50-44f2-48dd-ad61-c1b2e14dd8a6 div.sk-text-repr-fallback {display: none;}</style><div id=\"sk-d8bc2f50-44f2-48dd-ad61-c1b2e14dd8a6\" class=\"sk-top-container\"><div class=\"sk-text-repr-fallback\"><pre>Pipeline(steps=[(&#x27;preprocess&#x27;, preprocess()),\n",
              "                (&#x27;classifier&#x27;, LGBMClassifier(max_depth=30, n_estimators=900))])</pre><b>Please rerun this cell to show the HTML repr or trust the notebook.</b></div><div class=\"sk-container\" hidden><div class=\"sk-item sk-dashed-wrapped\"><div class=\"sk-label-container\"><div class=\"sk-label sk-toggleable\"><input class=\"sk-toggleable__control sk-hidden--visually\" id=\"f5cc31c3-52f6-4737-b312-217891fb00cd\" type=\"checkbox\" ><label for=\"f5cc31c3-52f6-4737-b312-217891fb00cd\" class=\"sk-toggleable__label sk-toggleable__label-arrow\">Pipeline</label><div class=\"sk-toggleable__content\"><pre>Pipeline(steps=[(&#x27;preprocess&#x27;, preprocess()),\n",
              "                (&#x27;classifier&#x27;, LGBMClassifier(max_depth=30, n_estimators=900))])</pre></div></div></div><div class=\"sk-serial\"><div class=\"sk-item\"><div class=\"sk-estimator sk-toggleable\"><input class=\"sk-toggleable__control sk-hidden--visually\" id=\"3b35d7c5-a08d-4225-ac62-3d8ab699a083\" type=\"checkbox\" ><label for=\"3b35d7c5-a08d-4225-ac62-3d8ab699a083\" class=\"sk-toggleable__label sk-toggleable__label-arrow\">preprocess</label><div class=\"sk-toggleable__content\"><pre>preprocess()</pre></div></div></div><div class=\"sk-item\"><div class=\"sk-estimator sk-toggleable\"><input class=\"sk-toggleable__control sk-hidden--visually\" id=\"e06151a4-6eff-4406-a589-5cce2ea8dedd\" type=\"checkbox\" ><label for=\"e06151a4-6eff-4406-a589-5cce2ea8dedd\" class=\"sk-toggleable__label sk-toggleable__label-arrow\">LGBMClassifier</label><div class=\"sk-toggleable__content\"><pre>LGBMClassifier(max_depth=30, n_estimators=900)</pre></div></div></div></div></div></div></div>"
            ]
          },
          "metadata": {},
          "execution_count": 62
        }
      ]
    }
  ]
}